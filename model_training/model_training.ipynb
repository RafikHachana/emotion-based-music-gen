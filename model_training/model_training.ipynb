{
  "cells": [
    {
      "cell_type": "code",
      "execution_count": 1,
      "metadata": {
        "id": "IwU2HtOpM3k4"
      },
      "outputs": [],
      "source": [
        "import torch\n",
        "import torch.nn as nn\n",
        "import torch.optim as optim\n",
        "import numpy as np\n",
        "from torch.utils.data import DataLoader, Dataset\n",
        "import pandas as pd\n"
      ]
    },
    {
      "cell_type": "markdown",
      "source": [
        "# Data Preparation\n",
        "\n",
        "Extracting descriptions, generating descriptions of different token sub-categories. Saving the prepared data as csv."
      ],
      "metadata": {
        "id": "-XKGpSZPOna5"
      }
    },
    {
      "cell_type": "code",
      "execution_count": 161,
      "metadata": {
        "id": "yjT0Cg-wP7BQ"
      },
      "outputs": [],
      "source": [
        "# df = pd.read_csv('matched_distinct.csv')\n",
        "\n",
        "# df"
      ]
    },
    {
      "cell_type": "code",
      "execution_count": null,
      "metadata": {
        "colab": {
          "base_uri": "https://localhost:8080/"
        },
        "id": "piC6NmJoQA28",
        "outputId": "539bb94b-d480-4bda-86b7-c217a5d7126c"
      },
      "outputs": [
        {
          "data": {
            "text/plain": [
              "Index(['Unnamed: 0.2', 'Unnamed: 0.1', 'Unnamed: 0', 'track_id', 'artists',\n",
              "       'album_name', 'track_name', 'popularity', 'duration_ms', 'explicit',\n",
              "       'danceability', 'energy', 'key', 'loudness', 'mode', 'speechiness',\n",
              "       'acousticness', 'instrumentalness', 'liveness', 'valence', 'tempo',\n",
              "       'time_signature', 'track_genre', 'msd_track_id'],\n",
              "      dtype='object')"
            ]
          },
          "execution_count": 3,
          "metadata": {},
          "output_type": "execute_result"
        }
      ],
      "source": [
        "# df.columns"
      ]
    },
    {
      "cell_type": "code",
      "execution_count": null,
      "metadata": {
        "id": "u7fkJAQWTWb6"
      },
      "outputs": [],
      "source": [
        "# df_selected = df[['msd_track_id', 'danceability', 'energy', 'key', 'loudness', 'mode', 'acousticness', 'instrumentalness', 'valence', 'tempo', 'time_signature']]"
      ]
    },
    {
      "cell_type": "code",
      "execution_count": null,
      "metadata": {
        "id": "Ec_pAfooUKOH"
      },
      "outputs": [],
      "source": [
        "# !pwd && unzip -qq ./results.zip -y"
      ]
    },
    {
      "cell_type": "code",
      "source": [
        "max_description_length = 322"
      ],
      "metadata": {
        "id": "PhiABAgRrbTp"
      },
      "execution_count": 2,
      "outputs": []
    },
    {
      "cell_type": "code",
      "execution_count": null,
      "metadata": {
        "colab": {
          "base_uri": "https://localhost:8080/",
          "height": 441
        },
        "id": "MVXQcRs1UnSF",
        "outputId": "c08ebb0b-bbb7-471d-8ee0-0bf860f0511c"
      },
      "outputs": [
        {
          "name": "stdout",
          "output_type": "stream",
          "text": [
            "Max description length 322\n"
          ]
        },
        {
          "data": {
            "text/html": [
              "<div>\n",
              "<style scoped>\n",
              "    .dataframe tbody tr th:only-of-type {\n",
              "        vertical-align: middle;\n",
              "    }\n",
              "\n",
              "    .dataframe tbody tr th {\n",
              "        vertical-align: top;\n",
              "    }\n",
              "\n",
              "    .dataframe thead th {\n",
              "        text-align: right;\n",
              "    }\n",
              "</style>\n",
              "<table border=\"1\" class=\"dataframe\">\n",
              "  <thead>\n",
              "    <tr style=\"text-align: right;\">\n",
              "      <th></th>\n",
              "      <th>msd_track_id</th>\n",
              "      <th>description</th>\n",
              "    </tr>\n",
              "  </thead>\n",
              "  <tbody>\n",
              "    <tr>\n",
              "      <th>0</th>\n",
              "      <td>TRPOFFD128E07929A7</td>\n",
              "      <td>[Bar_1, Time Signature_4/4, Note Density_6, Me...</td>\n",
              "    </tr>\n",
              "    <tr>\n",
              "      <th>1</th>\n",
              "      <td>TRSWDMX12903CFC84B</td>\n",
              "      <td>[Bar_1, Time Signature_4/4, Note Density_1, Me...</td>\n",
              "    </tr>\n",
              "    <tr>\n",
              "      <th>2</th>\n",
              "      <td>TRUOGAU128E0780EFD</td>\n",
              "      <td>[Bar_1, Time Signature_4/4, Note Density_3, Me...</td>\n",
              "    </tr>\n",
              "    <tr>\n",
              "      <th>3</th>\n",
              "      <td>TRGGUQF128F932FB97</td>\n",
              "      <td>[Bar_1, Time Signature_4/4, Note Density_3, Me...</td>\n",
              "    </tr>\n",
              "    <tr>\n",
              "      <th>4</th>\n",
              "      <td>TRKGVWI128F92EB746</td>\n",
              "      <td>[Bar_1, Time Signature_6/8, Note Density_1, Me...</td>\n",
              "    </tr>\n",
              "    <tr>\n",
              "      <th>...</th>\n",
              "      <td>...</td>\n",
              "      <td>...</td>\n",
              "    </tr>\n",
              "    <tr>\n",
              "      <th>7090</th>\n",
              "      <td>TRWCEXC128F426305D</td>\n",
              "      <td>[Bar_1, Time Signature_4/4, Note Density_2, Me...</td>\n",
              "    </tr>\n",
              "    <tr>\n",
              "      <th>7091</th>\n",
              "      <td>TRKJOVO128F421C79F</td>\n",
              "      <td>[Bar_1, Time Signature_4/4, Note Density_6, Me...</td>\n",
              "    </tr>\n",
              "    <tr>\n",
              "      <th>7092</th>\n",
              "      <td>TRWAGEJ128E07930BE</td>\n",
              "      <td>[Bar_1, Time Signature_4/4, Note Density_4, Me...</td>\n",
              "    </tr>\n",
              "    <tr>\n",
              "      <th>7093</th>\n",
              "      <td>TRPERBJ128F933D93C</td>\n",
              "      <td>[Bar_1, Time Signature_4/4, Note Density_4, Me...</td>\n",
              "    </tr>\n",
              "    <tr>\n",
              "      <th>7094</th>\n",
              "      <td>TRNRKLE128F930F8FB</td>\n",
              "      <td>[Bar_1, Time Signature_4/4, Note Density_4, Me...</td>\n",
              "    </tr>\n",
              "  </tbody>\n",
              "</table>\n",
              "<p>7095 rows × 2 columns</p>\n",
              "</div>"
            ],
            "text/plain": [
              "            msd_track_id                                        description\n",
              "0     TRPOFFD128E07929A7  [Bar_1, Time Signature_4/4, Note Density_6, Me...\n",
              "1     TRSWDMX12903CFC84B  [Bar_1, Time Signature_4/4, Note Density_1, Me...\n",
              "2     TRUOGAU128E0780EFD  [Bar_1, Time Signature_4/4, Note Density_3, Me...\n",
              "3     TRGGUQF128F932FB97  [Bar_1, Time Signature_4/4, Note Density_3, Me...\n",
              "4     TRKGVWI128F92EB746  [Bar_1, Time Signature_6/8, Note Density_1, Me...\n",
              "...                  ...                                                ...\n",
              "7090  TRWCEXC128F426305D  [Bar_1, Time Signature_4/4, Note Density_2, Me...\n",
              "7091  TRKJOVO128F421C79F  [Bar_1, Time Signature_4/4, Note Density_6, Me...\n",
              "7092  TRWAGEJ128E07930BE  [Bar_1, Time Signature_4/4, Note Density_4, Me...\n",
              "7093  TRPERBJ128F933D93C  [Bar_1, Time Signature_4/4, Note Density_4, Me...\n",
              "7094  TRNRKLE128F930F8FB  [Bar_1, Time Signature_4/4, Note Density_4, Me...\n",
              "\n",
              "[7095 rows x 2 columns]"
            ]
          },
          "execution_count": 6,
          "metadata": {},
          "output_type": "execute_result"
        }
      ],
      "source": [
        "# import glob\n",
        "# import json\n",
        "# import pickle\n",
        "# import ast\n",
        "\n",
        "\n",
        "# def preprocess_bars(description):\n",
        "#   bar_count = 0\n",
        "#   result = []\n",
        "#   for t in description:\n",
        "#     if 'Bar' in t:\n",
        "#       bar_count += 1\n",
        "#       t = f\"Bar_{bar_count}\"\n",
        "#     result.append(t)\n",
        "#   return result\n",
        "\n",
        "# descriptions = []\n",
        "# max_description_length = 0\n",
        "# description_lengths = []\n",
        "# for file_path in glob.glob('results/segments/*.json'):\n",
        "#   file_name = file_path.split('/')[-1]\n",
        "#   with open(file_path, mode='r') as f:\n",
        "#     description = ast.literal_eval(f.read())\n",
        "#   track_id = file_name.split('_')[0]\n",
        "#   # if len(description) < 113:\n",
        "#   #   continue\n",
        "#   # description = description[:113]\n",
        "#   description = preprocess_bars(description)\n",
        "#   descriptions.append((track_id, description))\n",
        "#   max_description_length = max(max_description_length, len(description))\n",
        "#   description_lengths.append(len(description))\n",
        "#   # descriptions.append((track_id, \" \".join(description)))\n",
        "\n",
        "# print(\"Max description length\", max_description_length)\n",
        "\n",
        "# df2 = pd.DataFrame(descriptions, columns=('msd_track_id', 'description'))\n",
        "\n",
        "# df2"
      ]
    },
    {
      "cell_type": "code",
      "execution_count": null,
      "metadata": {
        "colab": {
          "base_uri": "https://localhost:8080/"
        },
        "id": "E-emgo2u1fyb",
        "outputId": "3d655662-1b0b-487d-c0d0-ddc02ce221c1"
      },
      "outputs": [
        {
          "name": "stdout",
          "output_type": "stream",
          "text": [
            "113.0 184.0\n"
          ]
        }
      ],
      "source": [
        "# Q1 = np.percentile(description_lengths, 10)\n",
        "# Q3 = np.percentile(description_lengths, 90)\n",
        "\n",
        "# print(Q1, Q3)"
      ]
    },
    {
      "cell_type": "code",
      "source": [],
      "metadata": {
        "id": "ujO62Bt-Vuiy"
      },
      "execution_count": null,
      "outputs": []
    },
    {
      "cell_type": "code",
      "execution_count": null,
      "metadata": {
        "colab": {
          "base_uri": "https://localhost:8080/",
          "height": 430
        },
        "id": "Jw0DHG0J1D8y",
        "outputId": "e1d3b4f8-f6cc-401c-ef71-db259bf1349e"
      },
      "outputs": [
        {
          "data": {
            "image/png": "[encoded data removed]",
            "text/plain": [
              "<Figure size 432x288 with 1 Axes>"
            ]
          },
          "metadata": {
            "needs_background": "light"
          },
          "output_type": "display_data"
        }
      ],
      "source": [
        "# import matplotlib.pyplot as plt\n",
        "# plt.hist(description_lengths)\n",
        "# plt.show()"
      ]
    },
    {
      "cell_type": "code",
      "execution_count": null,
      "metadata": {
        "colab": {
          "base_uri": "https://localhost:8080/",
          "height": 1000
        },
        "id": "HsKIdGkFY5QO",
        "outputId": "3d6cee46-de13-4a60-8991-6770ea2c192c"
      },
      "outputs": [
        {
          "data": {
            "text/html": [
              "<div>\n",
              "<style scoped>\n",
              "    .dataframe tbody tr th:only-of-type {\n",
              "        vertical-align: middle;\n",
              "    }\n",
              "\n",
              "    .dataframe tbody tr th {\n",
              "        vertical-align: top;\n",
              "    }\n",
              "\n",
              "    .dataframe thead th {\n",
              "        text-align: right;\n",
              "    }\n",
              "</style>\n",
              "<table border=\"1\" class=\"dataframe\">\n",
              "  <thead>\n",
              "    <tr style=\"text-align: right;\">\n",
              "      <th></th>\n",
              "      <th>msd_track_id</th>\n",
              "      <th>description</th>\n",
              "      <th>danceability</th>\n",
              "      <th>energy</th>\n",
              "      <th>key</th>\n",
              "      <th>loudness</th>\n",
              "      <th>mode</th>\n",
              "      <th>acousticness</th>\n",
              "      <th>instrumentalness</th>\n",
              "      <th>valence</th>\n",
              "      <th>tempo</th>\n",
              "      <th>time_signature</th>\n",
              "    </tr>\n",
              "  </thead>\n",
              "  <tbody>\n",
              "    <tr>\n",
              "      <th>0</th>\n",
              "      <td>TRPOFFD128E07929A7</td>\n",
              "      <td>[Bar_1, Time Signature_4/4, Note Density_6, Me...</td>\n",
              "      <td>0.287</td>\n",
              "      <td>0.780</td>\n",
              "      <td>7</td>\n",
              "      <td>-6.493</td>\n",
              "      <td>1</td>\n",
              "      <td>0.049000</td>\n",
              "      <td>0.000037</td>\n",
              "      <td>0.383</td>\n",
              "      <td>167.278</td>\n",
              "      <td>4</td>\n",
              "    </tr>\n",
              "    <tr>\n",
              "      <th>1</th>\n",
              "      <td>TRSWDMX12903CFC84B</td>\n",
              "      <td>[Bar_1, Time Signature_4/4, Note Density_1, Me...</td>\n",
              "      <td>0.348</td>\n",
              "      <td>0.418</td>\n",
              "      <td>10</td>\n",
              "      <td>-8.860</td>\n",
              "      <td>1</td>\n",
              "      <td>0.536000</td>\n",
              "      <td>0.000000</td>\n",
              "      <td>0.295</td>\n",
              "      <td>145.891</td>\n",
              "      <td>4</td>\n",
              "    </tr>\n",
              "    <tr>\n",
              "      <th>2</th>\n",
              "      <td>TRSWDMX12903CFC84B</td>\n",
              "      <td>[Bar_1, Time Signature_4/4, Note Density_1, Me...</td>\n",
              "      <td>0.637</td>\n",
              "      <td>0.387</td>\n",
              "      <td>0</td>\n",
              "      <td>-6.271</td>\n",
              "      <td>1</td>\n",
              "      <td>0.757000</td>\n",
              "      <td>0.000000</td>\n",
              "      <td>0.881</td>\n",
              "      <td>83.271</td>\n",
              "      <td>4</td>\n",
              "    </tr>\n",
              "    <tr>\n",
              "      <th>3</th>\n",
              "      <td>TRSWDMX12903CFC84B</td>\n",
              "      <td>[Bar_1, Time Signature_4/4, Note Density_1, Me...</td>\n",
              "      <td>0.445</td>\n",
              "      <td>0.291</td>\n",
              "      <td>0</td>\n",
              "      <td>-15.371</td>\n",
              "      <td>1</td>\n",
              "      <td>0.654000</td>\n",
              "      <td>0.001710</td>\n",
              "      <td>0.432</td>\n",
              "      <td>136.405</td>\n",
              "      <td>4</td>\n",
              "    </tr>\n",
              "    <tr>\n",
              "      <th>4</th>\n",
              "      <td>TRUOGAU128E0780EFD</td>\n",
              "      <td>[Bar_1, Time Signature_4/4, Note Density_3, Me...</td>\n",
              "      <td>0.410</td>\n",
              "      <td>0.959</td>\n",
              "      <td>9</td>\n",
              "      <td>-4.563</td>\n",
              "      <td>1</td>\n",
              "      <td>0.000324</td>\n",
              "      <td>0.000000</td>\n",
              "      <td>0.830</td>\n",
              "      <td>193.155</td>\n",
              "      <td>4</td>\n",
              "    </tr>\n",
              "    <tr>\n",
              "      <th>...</th>\n",
              "      <td>...</td>\n",
              "      <td>...</td>\n",
              "      <td>...</td>\n",
              "      <td>...</td>\n",
              "      <td>...</td>\n",
              "      <td>...</td>\n",
              "      <td>...</td>\n",
              "      <td>...</td>\n",
              "      <td>...</td>\n",
              "      <td>...</td>\n",
              "      <td>...</td>\n",
              "      <td>...</td>\n",
              "    </tr>\n",
              "    <tr>\n",
              "      <th>10737</th>\n",
              "      <td>TRNRKLE128F930F8FB</td>\n",
              "      <td>[Bar_1, Time Signature_4/4, Note Density_4, Me...</td>\n",
              "      <td>0.752</td>\n",
              "      <td>0.538</td>\n",
              "      <td>11</td>\n",
              "      <td>-13.293</td>\n",
              "      <td>1</td>\n",
              "      <td>0.062900</td>\n",
              "      <td>0.000088</td>\n",
              "      <td>0.752</td>\n",
              "      <td>123.028</td>\n",
              "      <td>4</td>\n",
              "    </tr>\n",
              "    <tr>\n",
              "      <th>10738</th>\n",
              "      <td>TRNRKLE128F930F8FB</td>\n",
              "      <td>[Bar_1, Time Signature_4/4, Note Density_4, Me...</td>\n",
              "      <td>0.751</td>\n",
              "      <td>0.538</td>\n",
              "      <td>11</td>\n",
              "      <td>-13.318</td>\n",
              "      <td>1</td>\n",
              "      <td>0.063900</td>\n",
              "      <td>0.000101</td>\n",
              "      <td>0.753</td>\n",
              "      <td>123.028</td>\n",
              "      <td>4</td>\n",
              "    </tr>\n",
              "    <tr>\n",
              "      <th>10739</th>\n",
              "      <td>TRNRKLE128F930F8FB</td>\n",
              "      <td>[Bar_1, Time Signature_4/4, Note Density_4, Me...</td>\n",
              "      <td>0.752</td>\n",
              "      <td>0.538</td>\n",
              "      <td>11</td>\n",
              "      <td>-13.293</td>\n",
              "      <td>1</td>\n",
              "      <td>0.062900</td>\n",
              "      <td>0.000088</td>\n",
              "      <td>0.752</td>\n",
              "      <td>123.028</td>\n",
              "      <td>4</td>\n",
              "    </tr>\n",
              "    <tr>\n",
              "      <th>10740</th>\n",
              "      <td>TRNRKLE128F930F8FB</td>\n",
              "      <td>[Bar_1, Time Signature_4/4, Note Density_4, Me...</td>\n",
              "      <td>0.752</td>\n",
              "      <td>0.538</td>\n",
              "      <td>11</td>\n",
              "      <td>-13.293</td>\n",
              "      <td>1</td>\n",
              "      <td>0.062900</td>\n",
              "      <td>0.000088</td>\n",
              "      <td>0.752</td>\n",
              "      <td>123.028</td>\n",
              "      <td>4</td>\n",
              "    </tr>\n",
              "    <tr>\n",
              "      <th>10741</th>\n",
              "      <td>TRNRKLE128F930F8FB</td>\n",
              "      <td>[Bar_1, Time Signature_4/4, Note Density_4, Me...</td>\n",
              "      <td>0.579</td>\n",
              "      <td>0.803</td>\n",
              "      <td>0</td>\n",
              "      <td>-7.588</td>\n",
              "      <td>1</td>\n",
              "      <td>0.220000</td>\n",
              "      <td>0.001160</td>\n",
              "      <td>0.770</td>\n",
              "      <td>122.422</td>\n",
              "      <td>4</td>\n",
              "    </tr>\n",
              "  </tbody>\n",
              "</table>\n",
              "<p>10742 rows × 12 columns</p>\n",
              "</div>"
            ],
            "text/plain": [
              "             msd_track_id                                        description  \\\n",
              "0      TRPOFFD128E07929A7  [Bar_1, Time Signature_4/4, Note Density_6, Me...   \n",
              "1      TRSWDMX12903CFC84B  [Bar_1, Time Signature_4/4, Note Density_1, Me...   \n",
              "2      TRSWDMX12903CFC84B  [Bar_1, Time Signature_4/4, Note Density_1, Me...   \n",
              "3      TRSWDMX12903CFC84B  [Bar_1, Time Signature_4/4, Note Density_1, Me...   \n",
              "4      TRUOGAU128E0780EFD  [Bar_1, Time Signature_4/4, Note Density_3, Me...   \n",
              "...                   ...                                                ...   \n",
              "10737  TRNRKLE128F930F8FB  [Bar_1, Time Signature_4/4, Note Density_4, Me...   \n",
              "10738  TRNRKLE128F930F8FB  [Bar_1, Time Signature_4/4, Note Density_4, Me...   \n",
              "10739  TRNRKLE128F930F8FB  [Bar_1, Time Signature_4/4, Note Density_4, Me...   \n",
              "10740  TRNRKLE128F930F8FB  [Bar_1, Time Signature_4/4, Note Density_4, Me...   \n",
              "10741  TRNRKLE128F930F8FB  [Bar_1, Time Signature_4/4, Note Density_4, Me...   \n",
              "\n",
              "       danceability  energy  key  loudness  mode  acousticness  \\\n",
              "0             0.287   0.780    7    -6.493     1      0.049000   \n",
              "1             0.348   0.418   10    -8.860     1      0.536000   \n",
              "2             0.637   0.387    0    -6.271     1      0.757000   \n",
              "3             0.445   0.291    0   -15.371     1      0.654000   \n",
              "4             0.410   0.959    9    -4.563     1      0.000324   \n",
              "...             ...     ...  ...       ...   ...           ...   \n",
              "10737         0.752   0.538   11   -13.293     1      0.062900   \n",
              "10738         0.751   0.538   11   -13.318     1      0.063900   \n",
              "10739         0.752   0.538   11   -13.293     1      0.062900   \n",
              "10740         0.752   0.538   11   -13.293     1      0.062900   \n",
              "10741         0.579   0.803    0    -7.588     1      0.220000   \n",
              "\n",
              "       instrumentalness  valence    tempo  time_signature  \n",
              "0              0.000037    0.383  167.278               4  \n",
              "1              0.000000    0.295  145.891               4  \n",
              "2              0.000000    0.881   83.271               4  \n",
              "3              0.001710    0.432  136.405               4  \n",
              "4              0.000000    0.830  193.155               4  \n",
              "...                 ...      ...      ...             ...  \n",
              "10737          0.000088    0.752  123.028               4  \n",
              "10738          0.000101    0.753  123.028               4  \n",
              "10739          0.000088    0.752  123.028               4  \n",
              "10740          0.000088    0.752  123.028               4  \n",
              "10741          0.001160    0.770  122.422               4  \n",
              "\n",
              "[10742 rows x 12 columns]"
            ]
          },
          "execution_count": 9,
          "metadata": {},
          "output_type": "execute_result"
        }
      ],
      "source": [
        "# df_merged = pd.merge(df2, df_selected, how='left', on='msd_track_id')\n",
        "\n",
        "# df_merged"
      ]
    },
    {
      "cell_type": "code",
      "execution_count": null,
      "metadata": {
        "id": "2yFXLGbJJZEy"
      },
      "outputs": [],
      "source": [
        "# def extract_token_class(row, token_class):\n",
        "#   filtered_description = [\n",
        "#       token\n",
        "#       for token in row['description']\n",
        "#       if token_class in token\n",
        "#   ]\n",
        "#   return filtered_description\n",
        "\n",
        "# def extract_categorical_tokens(row):\n",
        "#   filtered_description = [\n",
        "#       token\n",
        "#       for token in row['description']\n",
        "#       if \"Chord\" in token or \"Instrument\" in token or \"Time\" in token or \"Bar\" in token\n",
        "#   ]\n",
        "#   return filtered_description"
      ]
    },
    {
      "cell_type": "code",
      "execution_count": null,
      "metadata": {
        "colab": {
          "base_uri": "https://localhost:8080/",
          "height": 1000
        },
        "id": "Of8M0e0sTzVA",
        "outputId": "c9ced3e1-23bf-4661-e1dc-5170f09b2abe"
      },
      "outputs": [
        {
          "data": {
            "text/html": [
              "<div>\n",
              "<style scoped>\n",
              "    .dataframe tbody tr th:only-of-type {\n",
              "        vertical-align: middle;\n",
              "    }\n",
              "\n",
              "    .dataframe tbody tr th {\n",
              "        vertical-align: top;\n",
              "    }\n",
              "\n",
              "    .dataframe thead th {\n",
              "        text-align: right;\n",
              "    }\n",
              "</style>\n",
              "<table border=\"1\" class=\"dataframe\">\n",
              "  <thead>\n",
              "    <tr style=\"text-align: right;\">\n",
              "      <th></th>\n",
              "      <th>msd_track_id</th>\n",
              "      <th>description</th>\n",
              "      <th>danceability</th>\n",
              "      <th>energy</th>\n",
              "      <th>key</th>\n",
              "      <th>loudness</th>\n",
              "      <th>mode</th>\n",
              "      <th>acousticness</th>\n",
              "      <th>instrumentalness</th>\n",
              "      <th>valence</th>\n",
              "      <th>tempo</th>\n",
              "      <th>time_signature</th>\n",
              "      <th>pitch_description</th>\n",
              "      <th>velocity_description</th>\n",
              "      <th>density_description</th>\n",
              "      <th>duration_description</th>\n",
              "      <th>categorical_description</th>\n",
              "    </tr>\n",
              "  </thead>\n",
              "  <tbody>\n",
              "    <tr>\n",
              "      <th>0</th>\n",
              "      <td>TRPOFFD128E07929A7</td>\n",
              "      <td>[Bar_1, Time Signature_4/4, Note Density_6, Me...</td>\n",
              "      <td>0.287</td>\n",
              "      <td>0.780</td>\n",
              "      <td>7</td>\n",
              "      <td>-6.493</td>\n",
              "      <td>1</td>\n",
              "      <td>0.049000</td>\n",
              "      <td>0.000037</td>\n",
              "      <td>0.383</td>\n",
              "      <td>167.278</td>\n",
              "      <td>4</td>\n",
              "      <td>[Mean Pitch_13, Mean Pitch_13, Mean Pitch_13, ...</td>\n",
              "      <td>[Mean Velocity_18, Mean Velocity_18, Mean Velo...</td>\n",
              "      <td>[Note Density_6, Note Density_6, Note Density_...</td>\n",
              "      <td>[Mean Duration_32, Mean Duration_32, Mean Dura...</td>\n",
              "      <td>[Bar_1, Time Signature_4/4, Instrument_Alto Sa...</td>\n",
              "    </tr>\n",
              "    <tr>\n",
              "      <th>1</th>\n",
              "      <td>TRSWDMX12903CFC84B</td>\n",
              "      <td>[Bar_1, Time Signature_4/4, Note Density_1, Me...</td>\n",
              "      <td>0.348</td>\n",
              "      <td>0.418</td>\n",
              "      <td>10</td>\n",
              "      <td>-8.860</td>\n",
              "      <td>1</td>\n",
              "      <td>0.536000</td>\n",
              "      <td>0.000000</td>\n",
              "      <td>0.295</td>\n",
              "      <td>145.891</td>\n",
              "      <td>4</td>\n",
              "      <td>[Mean Pitch_12, Mean Pitch_14, Mean Pitch_15, ...</td>\n",
              "      <td>[Mean Velocity_25, Mean Velocity_17, Mean Velo...</td>\n",
              "      <td>[Note Density_1, Note Density_0, Note Density_...</td>\n",
              "      <td>[Mean Duration_30, Mean Duration_32, Mean Dura...</td>\n",
              "      <td>[Bar_1, Time Signature_4/4, Instrument_Electri...</td>\n",
              "    </tr>\n",
              "    <tr>\n",
              "      <th>2</th>\n",
              "      <td>TRSWDMX12903CFC84B</td>\n",
              "      <td>[Bar_1, Time Signature_4/4, Note Density_1, Me...</td>\n",
              "      <td>0.637</td>\n",
              "      <td>0.387</td>\n",
              "      <td>0</td>\n",
              "      <td>-6.271</td>\n",
              "      <td>1</td>\n",
              "      <td>0.757000</td>\n",
              "      <td>0.000000</td>\n",
              "      <td>0.881</td>\n",
              "      <td>83.271</td>\n",
              "      <td>4</td>\n",
              "      <td>[Mean Pitch_12, Mean Pitch_14, Mean Pitch_15, ...</td>\n",
              "      <td>[Mean Velocity_25, Mean Velocity_17, Mean Velo...</td>\n",
              "      <td>[Note Density_1, Note Density_0, Note Density_...</td>\n",
              "      <td>[Mean Duration_30, Mean Duration_32, Mean Dura...</td>\n",
              "      <td>[Bar_1, Time Signature_4/4, Instrument_Electri...</td>\n",
              "    </tr>\n",
              "    <tr>\n",
              "      <th>3</th>\n",
              "      <td>TRSWDMX12903CFC84B</td>\n",
              "      <td>[Bar_1, Time Signature_4/4, Note Density_1, Me...</td>\n",
              "      <td>0.445</td>\n",
              "      <td>0.291</td>\n",
              "      <td>0</td>\n",
              "      <td>-15.371</td>\n",
              "      <td>1</td>\n",
              "      <td>0.654000</td>\n",
              "      <td>0.001710</td>\n",
              "      <td>0.432</td>\n",
              "      <td>136.405</td>\n",
              "      <td>4</td>\n",
              "      <td>[Mean Pitch_12, Mean Pitch_14, Mean Pitch_15, ...</td>\n",
              "      <td>[Mean Velocity_25, Mean Velocity_17, Mean Velo...</td>\n",
              "      <td>[Note Density_1, Note Density_0, Note Density_...</td>\n",
              "      <td>[Mean Duration_30, Mean Duration_32, Mean Dura...</td>\n",
              "      <td>[Bar_1, Time Signature_4/4, Instrument_Electri...</td>\n",
              "    </tr>\n",
              "    <tr>\n",
              "      <th>4</th>\n",
              "      <td>TRUOGAU128E0780EFD</td>\n",
              "      <td>[Bar_1, Time Signature_4/4, Note Density_3, Me...</td>\n",
              "      <td>0.410</td>\n",
              "      <td>0.959</td>\n",
              "      <td>9</td>\n",
              "      <td>-4.563</td>\n",
              "      <td>1</td>\n",
              "      <td>0.000324</td>\n",
              "      <td>0.000000</td>\n",
              "      <td>0.830</td>\n",
              "      <td>193.155</td>\n",
              "      <td>4</td>\n",
              "      <td>[Mean Pitch_13, Mean Pitch_13, Mean Pitch_12, ...</td>\n",
              "      <td>[Mean Velocity_26, Mean Velocity_26, Mean Velo...</td>\n",
              "      <td>[Note Density_3, Note Density_3, Note Density_...</td>\n",
              "      <td>[Mean Duration_32, Mean Duration_32, Mean Dura...</td>\n",
              "      <td>[Bar_1, Time Signature_4/4, Instrument_Electri...</td>\n",
              "    </tr>\n",
              "    <tr>\n",
              "      <th>...</th>\n",
              "      <td>...</td>\n",
              "      <td>...</td>\n",
              "      <td>...</td>\n",
              "      <td>...</td>\n",
              "      <td>...</td>\n",
              "      <td>...</td>\n",
              "      <td>...</td>\n",
              "      <td>...</td>\n",
              "      <td>...</td>\n",
              "      <td>...</td>\n",
              "      <td>...</td>\n",
              "      <td>...</td>\n",
              "      <td>...</td>\n",
              "      <td>...</td>\n",
              "      <td>...</td>\n",
              "      <td>...</td>\n",
              "      <td>...</td>\n",
              "    </tr>\n",
              "    <tr>\n",
              "      <th>10737</th>\n",
              "      <td>TRNRKLE128F930F8FB</td>\n",
              "      <td>[Bar_1, Time Signature_4/4, Note Density_4, Me...</td>\n",
              "      <td>0.752</td>\n",
              "      <td>0.538</td>\n",
              "      <td>11</td>\n",
              "      <td>-13.293</td>\n",
              "      <td>1</td>\n",
              "      <td>0.062900</td>\n",
              "      <td>0.000088</td>\n",
              "      <td>0.752</td>\n",
              "      <td>123.028</td>\n",
              "      <td>4</td>\n",
              "      <td>[Mean Pitch_14, Mean Pitch_14, Mean Pitch_14, ...</td>\n",
              "      <td>[Mean Velocity_27, Mean Velocity_27, Mean Velo...</td>\n",
              "      <td>[Note Density_4, Note Density_4, Note Density_...</td>\n",
              "      <td>[Mean Duration_32, Mean Duration_32, Mean Dura...</td>\n",
              "      <td>[Bar_1, Time Signature_4/4, Instrument_Electri...</td>\n",
              "    </tr>\n",
              "    <tr>\n",
              "      <th>10738</th>\n",
              "      <td>TRNRKLE128F930F8FB</td>\n",
              "      <td>[Bar_1, Time Signature_4/4, Note Density_4, Me...</td>\n",
              "      <td>0.751</td>\n",
              "      <td>0.538</td>\n",
              "      <td>11</td>\n",
              "      <td>-13.318</td>\n",
              "      <td>1</td>\n",
              "      <td>0.063900</td>\n",
              "      <td>0.000101</td>\n",
              "      <td>0.753</td>\n",
              "      <td>123.028</td>\n",
              "      <td>4</td>\n",
              "      <td>[Mean Pitch_14, Mean Pitch_14, Mean Pitch_14, ...</td>\n",
              "      <td>[Mean Velocity_27, Mean Velocity_27, Mean Velo...</td>\n",
              "      <td>[Note Density_4, Note Density_4, Note Density_...</td>\n",
              "      <td>[Mean Duration_32, Mean Duration_32, Mean Dura...</td>\n",
              "      <td>[Bar_1, Time Signature_4/4, Instrument_Electri...</td>\n",
              "    </tr>\n",
              "    <tr>\n",
              "      <th>10739</th>\n",
              "      <td>TRNRKLE128F930F8FB</td>\n",
              "      <td>[Bar_1, Time Signature_4/4, Note Density_4, Me...</td>\n",
              "      <td>0.752</td>\n",
              "      <td>0.538</td>\n",
              "      <td>11</td>\n",
              "      <td>-13.293</td>\n",
              "      <td>1</td>\n",
              "      <td>0.062900</td>\n",
              "      <td>0.000088</td>\n",
              "      <td>0.752</td>\n",
              "      <td>123.028</td>\n",
              "      <td>4</td>\n",
              "      <td>[Mean Pitch_14, Mean Pitch_14, Mean Pitch_14, ...</td>\n",
              "      <td>[Mean Velocity_27, Mean Velocity_27, Mean Velo...</td>\n",
              "      <td>[Note Density_4, Note Density_4, Note Density_...</td>\n",
              "      <td>[Mean Duration_32, Mean Duration_32, Mean Dura...</td>\n",
              "      <td>[Bar_1, Time Signature_4/4, Instrument_Electri...</td>\n",
              "    </tr>\n",
              "    <tr>\n",
              "      <th>10740</th>\n",
              "      <td>TRNRKLE128F930F8FB</td>\n",
              "      <td>[Bar_1, Time Signature_4/4, Note Density_4, Me...</td>\n",
              "      <td>0.752</td>\n",
              "      <td>0.538</td>\n",
              "      <td>11</td>\n",
              "      <td>-13.293</td>\n",
              "      <td>1</td>\n",
              "      <td>0.062900</td>\n",
              "      <td>0.000088</td>\n",
              "      <td>0.752</td>\n",
              "      <td>123.028</td>\n",
              "      <td>4</td>\n",
              "      <td>[Mean Pitch_14, Mean Pitch_14, Mean Pitch_14, ...</td>\n",
              "      <td>[Mean Velocity_27, Mean Velocity_27, Mean Velo...</td>\n",
              "      <td>[Note Density_4, Note Density_4, Note Density_...</td>\n",
              "      <td>[Mean Duration_32, Mean Duration_32, Mean Dura...</td>\n",
              "      <td>[Bar_1, Time Signature_4/4, Instrument_Electri...</td>\n",
              "    </tr>\n",
              "    <tr>\n",
              "      <th>10741</th>\n",
              "      <td>TRNRKLE128F930F8FB</td>\n",
              "      <td>[Bar_1, Time Signature_4/4, Note Density_4, Me...</td>\n",
              "      <td>0.579</td>\n",
              "      <td>0.803</td>\n",
              "      <td>0</td>\n",
              "      <td>-7.588</td>\n",
              "      <td>1</td>\n",
              "      <td>0.220000</td>\n",
              "      <td>0.001160</td>\n",
              "      <td>0.770</td>\n",
              "      <td>122.422</td>\n",
              "      <td>4</td>\n",
              "      <td>[Mean Pitch_14, Mean Pitch_14, Mean Pitch_14, ...</td>\n",
              "      <td>[Mean Velocity_27, Mean Velocity_27, Mean Velo...</td>\n",
              "      <td>[Note Density_4, Note Density_4, Note Density_...</td>\n",
              "      <td>[Mean Duration_32, Mean Duration_32, Mean Dura...</td>\n",
              "      <td>[Bar_1, Time Signature_4/4, Instrument_Electri...</td>\n",
              "    </tr>\n",
              "  </tbody>\n",
              "</table>\n",
              "<p>10742 rows × 17 columns</p>\n",
              "</div>"
            ],
            "text/plain": [
              "             msd_track_id                                        description  \\\n",
              "0      TRPOFFD128E07929A7  [Bar_1, Time Signature_4/4, Note Density_6, Me...   \n",
              "1      TRSWDMX12903CFC84B  [Bar_1, Time Signature_4/4, Note Density_1, Me...   \n",
              "2      TRSWDMX12903CFC84B  [Bar_1, Time Signature_4/4, Note Density_1, Me...   \n",
              "3      TRSWDMX12903CFC84B  [Bar_1, Time Signature_4/4, Note Density_1, Me...   \n",
              "4      TRUOGAU128E0780EFD  [Bar_1, Time Signature_4/4, Note Density_3, Me...   \n",
              "...                   ...                                                ...   \n",
              "10737  TRNRKLE128F930F8FB  [Bar_1, Time Signature_4/4, Note Density_4, Me...   \n",
              "10738  TRNRKLE128F930F8FB  [Bar_1, Time Signature_4/4, Note Density_4, Me...   \n",
              "10739  TRNRKLE128F930F8FB  [Bar_1, Time Signature_4/4, Note Density_4, Me...   \n",
              "10740  TRNRKLE128F930F8FB  [Bar_1, Time Signature_4/4, Note Density_4, Me...   \n",
              "10741  TRNRKLE128F930F8FB  [Bar_1, Time Signature_4/4, Note Density_4, Me...   \n",
              "\n",
              "       danceability  energy  key  loudness  mode  acousticness  \\\n",
              "0             0.287   0.780    7    -6.493     1      0.049000   \n",
              "1             0.348   0.418   10    -8.860     1      0.536000   \n",
              "2             0.637   0.387    0    -6.271     1      0.757000   \n",
              "3             0.445   0.291    0   -15.371     1      0.654000   \n",
              "4             0.410   0.959    9    -4.563     1      0.000324   \n",
              "...             ...     ...  ...       ...   ...           ...   \n",
              "10737         0.752   0.538   11   -13.293     1      0.062900   \n",
              "10738         0.751   0.538   11   -13.318     1      0.063900   \n",
              "10739         0.752   0.538   11   -13.293     1      0.062900   \n",
              "10740         0.752   0.538   11   -13.293     1      0.062900   \n",
              "10741         0.579   0.803    0    -7.588     1      0.220000   \n",
              "\n",
              "       instrumentalness  valence    tempo  time_signature  \\\n",
              "0              0.000037    0.383  167.278               4   \n",
              "1              0.000000    0.295  145.891               4   \n",
              "2              0.000000    0.881   83.271               4   \n",
              "3              0.001710    0.432  136.405               4   \n",
              "4              0.000000    0.830  193.155               4   \n",
              "...                 ...      ...      ...             ...   \n",
              "10737          0.000088    0.752  123.028               4   \n",
              "10738          0.000101    0.753  123.028               4   \n",
              "10739          0.000088    0.752  123.028               4   \n",
              "10740          0.000088    0.752  123.028               4   \n",
              "10741          0.001160    0.770  122.422               4   \n",
              "\n",
              "                                       pitch_description  \\\n",
              "0      [Mean Pitch_13, Mean Pitch_13, Mean Pitch_13, ...   \n",
              "1      [Mean Pitch_12, Mean Pitch_14, Mean Pitch_15, ...   \n",
              "2      [Mean Pitch_12, Mean Pitch_14, Mean Pitch_15, ...   \n",
              "3      [Mean Pitch_12, Mean Pitch_14, Mean Pitch_15, ...   \n",
              "4      [Mean Pitch_13, Mean Pitch_13, Mean Pitch_12, ...   \n",
              "...                                                  ...   \n",
              "10737  [Mean Pitch_14, Mean Pitch_14, Mean Pitch_14, ...   \n",
              "10738  [Mean Pitch_14, Mean Pitch_14, Mean Pitch_14, ...   \n",
              "10739  [Mean Pitch_14, Mean Pitch_14, Mean Pitch_14, ...   \n",
              "10740  [Mean Pitch_14, Mean Pitch_14, Mean Pitch_14, ...   \n",
              "10741  [Mean Pitch_14, Mean Pitch_14, Mean Pitch_14, ...   \n",
              "\n",
              "                                    velocity_description  \\\n",
              "0      [Mean Velocity_18, Mean Velocity_18, Mean Velo...   \n",
              "1      [Mean Velocity_25, Mean Velocity_17, Mean Velo...   \n",
              "2      [Mean Velocity_25, Mean Velocity_17, Mean Velo...   \n",
              "3      [Mean Velocity_25, Mean Velocity_17, Mean Velo...   \n",
              "4      [Mean Velocity_26, Mean Velocity_26, Mean Velo...   \n",
              "...                                                  ...   \n",
              "10737  [Mean Velocity_27, Mean Velocity_27, Mean Velo...   \n",
              "10738  [Mean Velocity_27, Mean Velocity_27, Mean Velo...   \n",
              "10739  [Mean Velocity_27, Mean Velocity_27, Mean Velo...   \n",
              "10740  [Mean Velocity_27, Mean Velocity_27, Mean Velo...   \n",
              "10741  [Mean Velocity_27, Mean Velocity_27, Mean Velo...   \n",
              "\n",
              "                                     density_description  \\\n",
              "0      [Note Density_6, Note Density_6, Note Density_...   \n",
              "1      [Note Density_1, Note Density_0, Note Density_...   \n",
              "2      [Note Density_1, Note Density_0, Note Density_...   \n",
              "3      [Note Density_1, Note Density_0, Note Density_...   \n",
              "4      [Note Density_3, Note Density_3, Note Density_...   \n",
              "...                                                  ...   \n",
              "10737  [Note Density_4, Note Density_4, Note Density_...   \n",
              "10738  [Note Density_4, Note Density_4, Note Density_...   \n",
              "10739  [Note Density_4, Note Density_4, Note Density_...   \n",
              "10740  [Note Density_4, Note Density_4, Note Density_...   \n",
              "10741  [Note Density_4, Note Density_4, Note Density_...   \n",
              "\n",
              "                                    duration_description  \\\n",
              "0      [Mean Duration_32, Mean Duration_32, Mean Dura...   \n",
              "1      [Mean Duration_30, Mean Duration_32, Mean Dura...   \n",
              "2      [Mean Duration_30, Mean Duration_32, Mean Dura...   \n",
              "3      [Mean Duration_30, Mean Duration_32, Mean Dura...   \n",
              "4      [Mean Duration_32, Mean Duration_32, Mean Dura...   \n",
              "...                                                  ...   \n",
              "10737  [Mean Duration_32, Mean Duration_32, Mean Dura...   \n",
              "10738  [Mean Duration_32, Mean Duration_32, Mean Dura...   \n",
              "10739  [Mean Duration_32, Mean Duration_32, Mean Dura...   \n",
              "10740  [Mean Duration_32, Mean Duration_32, Mean Dura...   \n",
              "10741  [Mean Duration_32, Mean Duration_32, Mean Dura...   \n",
              "\n",
              "                                 categorical_description  \n",
              "0      [Bar_1, Time Signature_4/4, Instrument_Alto Sa...  \n",
              "1      [Bar_1, Time Signature_4/4, Instrument_Electri...  \n",
              "2      [Bar_1, Time Signature_4/4, Instrument_Electri...  \n",
              "3      [Bar_1, Time Signature_4/4, Instrument_Electri...  \n",
              "4      [Bar_1, Time Signature_4/4, Instrument_Electri...  \n",
              "...                                                  ...  \n",
              "10737  [Bar_1, Time Signature_4/4, Instrument_Electri...  \n",
              "10738  [Bar_1, Time Signature_4/4, Instrument_Electri...  \n",
              "10739  [Bar_1, Time Signature_4/4, Instrument_Electri...  \n",
              "10740  [Bar_1, Time Signature_4/4, Instrument_Electri...  \n",
              "10741  [Bar_1, Time Signature_4/4, Instrument_Electri...  \n",
              "\n",
              "[10742 rows x 17 columns]"
            ]
          },
          "execution_count": 11,
          "metadata": {},
          "output_type": "execute_result"
        }
      ],
      "source": [
        "# df_merged['pitch_description'] = df_merged.apply(lambda row: extract_token_class(row, 'Mean Pitch'), axis=1)\n",
        "# df_merged['velocity_description'] = df_merged.apply(lambda row: extract_token_class(row, 'Mean Velocity'), axis=1)\n",
        "# df_merged['density_description'] = df_merged.apply(lambda row: extract_token_class(row, 'Density'), axis=1)\n",
        "# df_merged['duration_description'] = df_merged.apply(lambda row: extract_token_class(row, 'Mean Duration'), axis=1)\n",
        "# df_merged['categorical_description'] = df_merged.apply(extract_categorical_tokens, axis=1)\n",
        "# df_merged"
      ]
    },
    {
      "cell_type": "code",
      "source": [],
      "metadata": {
        "id": "r7lMujd4Osyq"
      },
      "execution_count": null,
      "outputs": []
    },
    {
      "cell_type": "markdown",
      "source": [
        "# Data Loading\n",
        "\n",
        "Loading into a torch dataset with the option for soft labels."
      ],
      "metadata": {
        "id": "83shfO7oOxwI"
      }
    },
    {
      "cell_type": "code",
      "execution_count": 2,
      "metadata": {
        "id": "2azKh9Pt3lXQ",
        "colab": {
          "base_uri": "https://localhost:8080/",
          "height": 982
        },
        "outputId": "c60ce442-d26c-4c86-fe60-a04ae802f05c"
      },
      "outputs": [
        {
          "output_type": "execute_result",
          "data": {
            "text/plain": [
              "       Unnamed: 0        msd_track_id  \\\n",
              "0               0  TRPOFFD128E07929A7   \n",
              "1               1  TRSWDMX12903CFC84B   \n",
              "2               2  TRSWDMX12903CFC84B   \n",
              "3               3  TRSWDMX12903CFC84B   \n",
              "4               4  TRUOGAU128E0780EFD   \n",
              "...           ...                 ...   \n",
              "10737       10737  TRNRKLE128F930F8FB   \n",
              "10738       10738  TRNRKLE128F930F8FB   \n",
              "10739       10739  TRNRKLE128F930F8FB   \n",
              "10740       10740  TRNRKLE128F930F8FB   \n",
              "10741       10741  TRNRKLE128F930F8FB   \n",
              "\n",
              "                                             description  danceability  \\\n",
              "0      ['Bar_1', 'Time Signature_4/4', 'Note Density_...         0.287   \n",
              "1      ['Bar_1', 'Time Signature_4/4', 'Note Density_...         0.348   \n",
              "2      ['Bar_1', 'Time Signature_4/4', 'Note Density_...         0.637   \n",
              "3      ['Bar_1', 'Time Signature_4/4', 'Note Density_...         0.445   \n",
              "4      ['Bar_1', 'Time Signature_4/4', 'Note Density_...         0.410   \n",
              "...                                                  ...           ...   \n",
              "10737  ['Bar_1', 'Time Signature_4/4', 'Note Density_...         0.752   \n",
              "10738  ['Bar_1', 'Time Signature_4/4', 'Note Density_...         0.751   \n",
              "10739  ['Bar_1', 'Time Signature_4/4', 'Note Density_...         0.752   \n",
              "10740  ['Bar_1', 'Time Signature_4/4', 'Note Density_...         0.752   \n",
              "10741  ['Bar_1', 'Time Signature_4/4', 'Note Density_...         0.579   \n",
              "\n",
              "       energy  key  loudness  mode  acousticness  instrumentalness  valence  \\\n",
              "0       0.780    7    -6.493     1      0.049000          0.000037    0.383   \n",
              "1       0.418   10    -8.860     1      0.536000          0.000000    0.295   \n",
              "2       0.387    0    -6.271     1      0.757000          0.000000    0.881   \n",
              "3       0.291    0   -15.371     1      0.654000          0.001710    0.432   \n",
              "4       0.959    9    -4.563     1      0.000324          0.000000    0.830   \n",
              "...       ...  ...       ...   ...           ...               ...      ...   \n",
              "10737   0.538   11   -13.293     1      0.062900          0.000088    0.752   \n",
              "10738   0.538   11   -13.318     1      0.063900          0.000101    0.753   \n",
              "10739   0.538   11   -13.293     1      0.062900          0.000088    0.752   \n",
              "10740   0.538   11   -13.293     1      0.062900          0.000088    0.752   \n",
              "10741   0.803    0    -7.588     1      0.220000          0.001160    0.770   \n",
              "\n",
              "         tempo  time_signature  \\\n",
              "0      167.278               4   \n",
              "1      145.891               4   \n",
              "2       83.271               4   \n",
              "3      136.405               4   \n",
              "4      193.155               4   \n",
              "...        ...             ...   \n",
              "10737  123.028               4   \n",
              "10738  123.028               4   \n",
              "10739  123.028               4   \n",
              "10740  123.028               4   \n",
              "10741  122.422               4   \n",
              "\n",
              "                                       pitch_description  \\\n",
              "0      ['Mean Pitch_13', 'Mean Pitch_13', 'Mean Pitch...   \n",
              "1      ['Mean Pitch_12', 'Mean Pitch_14', 'Mean Pitch...   \n",
              "2      ['Mean Pitch_12', 'Mean Pitch_14', 'Mean Pitch...   \n",
              "3      ['Mean Pitch_12', 'Mean Pitch_14', 'Mean Pitch...   \n",
              "4      ['Mean Pitch_13', 'Mean Pitch_13', 'Mean Pitch...   \n",
              "...                                                  ...   \n",
              "10737  ['Mean Pitch_14', 'Mean Pitch_14', 'Mean Pitch...   \n",
              "10738  ['Mean Pitch_14', 'Mean Pitch_14', 'Mean Pitch...   \n",
              "10739  ['Mean Pitch_14', 'Mean Pitch_14', 'Mean Pitch...   \n",
              "10740  ['Mean Pitch_14', 'Mean Pitch_14', 'Mean Pitch...   \n",
              "10741  ['Mean Pitch_14', 'Mean Pitch_14', 'Mean Pitch...   \n",
              "\n",
              "                                    velocity_description  \\\n",
              "0      ['Mean Velocity_18', 'Mean Velocity_18', 'Mean...   \n",
              "1      ['Mean Velocity_25', 'Mean Velocity_17', 'Mean...   \n",
              "2      ['Mean Velocity_25', 'Mean Velocity_17', 'Mean...   \n",
              "3      ['Mean Velocity_25', 'Mean Velocity_17', 'Mean...   \n",
              "4      ['Mean Velocity_26', 'Mean Velocity_26', 'Mean...   \n",
              "...                                                  ...   \n",
              "10737  ['Mean Velocity_27', 'Mean Velocity_27', 'Mean...   \n",
              "10738  ['Mean Velocity_27', 'Mean Velocity_27', 'Mean...   \n",
              "10739  ['Mean Velocity_27', 'Mean Velocity_27', 'Mean...   \n",
              "10740  ['Mean Velocity_27', 'Mean Velocity_27', 'Mean...   \n",
              "10741  ['Mean Velocity_27', 'Mean Velocity_27', 'Mean...   \n",
              "\n",
              "                                     density_description  \\\n",
              "0      ['Note Density_6', 'Note Density_6', 'Note Den...   \n",
              "1      ['Note Density_1', 'Note Density_0', 'Note Den...   \n",
              "2      ['Note Density_1', 'Note Density_0', 'Note Den...   \n",
              "3      ['Note Density_1', 'Note Density_0', 'Note Den...   \n",
              "4      ['Note Density_3', 'Note Density_3', 'Note Den...   \n",
              "...                                                  ...   \n",
              "10737  ['Note Density_4', 'Note Density_4', 'Note Den...   \n",
              "10738  ['Note Density_4', 'Note Density_4', 'Note Den...   \n",
              "10739  ['Note Density_4', 'Note Density_4', 'Note Den...   \n",
              "10740  ['Note Density_4', 'Note Density_4', 'Note Den...   \n",
              "10741  ['Note Density_4', 'Note Density_4', 'Note Den...   \n",
              "\n",
              "                                    duration_description  \\\n",
              "0      ['Mean Duration_32', 'Mean Duration_32', 'Mean...   \n",
              "1      ['Mean Duration_30', 'Mean Duration_32', 'Mean...   \n",
              "2      ['Mean Duration_30', 'Mean Duration_32', 'Mean...   \n",
              "3      ['Mean Duration_30', 'Mean Duration_32', 'Mean...   \n",
              "4      ['Mean Duration_32', 'Mean Duration_32', 'Mean...   \n",
              "...                                                  ...   \n",
              "10737  ['Mean Duration_32', 'Mean Duration_32', 'Mean...   \n",
              "10738  ['Mean Duration_32', 'Mean Duration_32', 'Mean...   \n",
              "10739  ['Mean Duration_32', 'Mean Duration_32', 'Mean...   \n",
              "10740  ['Mean Duration_32', 'Mean Duration_32', 'Mean...   \n",
              "10741  ['Mean Duration_32', 'Mean Duration_32', 'Mean...   \n",
              "\n",
              "                                 categorical_description  \n",
              "0      ['Bar_1', 'Time Signature_4/4', 'Instrument_Al...  \n",
              "1      ['Bar_1', 'Time Signature_4/4', 'Instrument_El...  \n",
              "2      ['Bar_1', 'Time Signature_4/4', 'Instrument_El...  \n",
              "3      ['Bar_1', 'Time Signature_4/4', 'Instrument_El...  \n",
              "4      ['Bar_1', 'Time Signature_4/4', 'Instrument_El...  \n",
              "...                                                  ...  \n",
              "10737  ['Bar_1', 'Time Signature_4/4', 'Instrument_El...  \n",
              "10738  ['Bar_1', 'Time Signature_4/4', 'Instrument_El...  \n",
              "10739  ['Bar_1', 'Time Signature_4/4', 'Instrument_El...  \n",
              "10740  ['Bar_1', 'Time Signature_4/4', 'Instrument_El...  \n",
              "10741  ['Bar_1', 'Time Signature_4/4', 'Instrument_El...  \n",
              "\n",
              "[10742 rows x 18 columns]"
            ],
            "text/html": [
              "\n",
              "  <div id=\"df-12897ebd-e84a-4141-aa1e-14d218b58c4b\" class=\"colab-df-container\">\n",
              "    <div>\n",
              "<style scoped>\n",
              "    .dataframe tbody tr th:only-of-type {\n",
              "        vertical-align: middle;\n",
              "    }\n",
              "\n",
              "    .dataframe tbody tr th {\n",
              "        vertical-align: top;\n",
              "    }\n",
              "\n",
              "    .dataframe thead th {\n",
              "        text-align: right;\n",
              "    }\n",
              "</style>\n",
              "<table border=\"1\" class=\"dataframe\">\n",
              "  <thead>\n",
              "    <tr style=\"text-align: right;\">\n",
              "      <th></th>\n",
              "      <th>Unnamed: 0</th>\n",
              "      <th>msd_track_id</th>\n",
              "      <th>description</th>\n",
              "      <th>danceability</th>\n",
              "      <th>energy</th>\n",
              "      <th>key</th>\n",
              "      <th>loudness</th>\n",
              "      <th>mode</th>\n",
              "      <th>acousticness</th>\n",
              "      <th>instrumentalness</th>\n",
              "      <th>valence</th>\n",
              "      <th>tempo</th>\n",
              "      <th>time_signature</th>\n",
              "      <th>pitch_description</th>\n",
              "      <th>velocity_description</th>\n",
              "      <th>density_description</th>\n",
              "      <th>duration_description</th>\n",
              "      <th>categorical_description</th>\n",
              "    </tr>\n",
              "  </thead>\n",
              "  <tbody>\n",
              "    <tr>\n",
              "      <th>0</th>\n",
              "      <td>0</td>\n",
              "      <td>TRPOFFD128E07929A7</td>\n",
              "      <td>['Bar_1', 'Time Signature_4/4', 'Note Density_...</td>\n",
              "      <td>0.287</td>\n",
              "      <td>0.780</td>\n",
              "      <td>7</td>\n",
              "      <td>-6.493</td>\n",
              "      <td>1</td>\n",
              "      <td>0.049000</td>\n",
              "      <td>0.000037</td>\n",
              "      <td>0.383</td>\n",
              "      <td>167.278</td>\n",
              "      <td>4</td>\n",
              "      <td>['Mean Pitch_13', 'Mean Pitch_13', 'Mean Pitch...</td>\n",
              "      <td>['Mean Velocity_18', 'Mean Velocity_18', 'Mean...</td>\n",
              "      <td>['Note Density_6', 'Note Density_6', 'Note Den...</td>\n",
              "      <td>['Mean Duration_32', 'Mean Duration_32', 'Mean...</td>\n",
              "      <td>['Bar_1', 'Time Signature_4/4', 'Instrument_Al...</td>\n",
              "    </tr>\n",
              "    <tr>\n",
              "      <th>1</th>\n",
              "      <td>1</td>\n",
              "      <td>TRSWDMX12903CFC84B</td>\n",
              "      <td>['Bar_1', 'Time Signature_4/4', 'Note Density_...</td>\n",
              "      <td>0.348</td>\n",
              "      <td>0.418</td>\n",
              "      <td>10</td>\n",
              "      <td>-8.860</td>\n",
              "      <td>1</td>\n",
              "      <td>0.536000</td>\n",
              "      <td>0.000000</td>\n",
              "      <td>0.295</td>\n",
              "      <td>145.891</td>\n",
              "      <td>4</td>\n",
              "      <td>['Mean Pitch_12', 'Mean Pitch_14', 'Mean Pitch...</td>\n",
              "      <td>['Mean Velocity_25', 'Mean Velocity_17', 'Mean...</td>\n",
              "      <td>['Note Density_1', 'Note Density_0', 'Note Den...</td>\n",
              "      <td>['Mean Duration_30', 'Mean Duration_32', 'Mean...</td>\n",
              "      <td>['Bar_1', 'Time Signature_4/4', 'Instrument_El...</td>\n",
              "    </tr>\n",
              "    <tr>\n",
              "      <th>2</th>\n",
              "      <td>2</td>\n",
              "      <td>TRSWDMX12903CFC84B</td>\n",
              "      <td>['Bar_1', 'Time Signature_4/4', 'Note Density_...</td>\n",
              "      <td>0.637</td>\n",
              "      <td>0.387</td>\n",
              "      <td>0</td>\n",
              "      <td>-6.271</td>\n",
              "      <td>1</td>\n",
              "      <td>0.757000</td>\n",
              "      <td>0.000000</td>\n",
              "      <td>0.881</td>\n",
              "      <td>83.271</td>\n",
              "      <td>4</td>\n",
              "      <td>['Mean Pitch_12', 'Mean Pitch_14', 'Mean Pitch...</td>\n",
              "      <td>['Mean Velocity_25', 'Mean Velocity_17', 'Mean...</td>\n",
              "      <td>['Note Density_1', 'Note Density_0', 'Note Den...</td>\n",
              "      <td>['Mean Duration_30', 'Mean Duration_32', 'Mean...</td>\n",
              "      <td>['Bar_1', 'Time Signature_4/4', 'Instrument_El...</td>\n",
              "    </tr>\n",
              "    <tr>\n",
              "      <th>3</th>\n",
              "      <td>3</td>\n",
              "      <td>TRSWDMX12903CFC84B</td>\n",
              "      <td>['Bar_1', 'Time Signature_4/4', 'Note Density_...</td>\n",
              "      <td>0.445</td>\n",
              "      <td>0.291</td>\n",
              "      <td>0</td>\n",
              "      <td>-15.371</td>\n",
              "      <td>1</td>\n",
              "      <td>0.654000</td>\n",
              "      <td>0.001710</td>\n",
              "      <td>0.432</td>\n",
              "      <td>136.405</td>\n",
              "      <td>4</td>\n",
              "      <td>['Mean Pitch_12', 'Mean Pitch_14', 'Mean Pitch...</td>\n",
              "      <td>['Mean Velocity_25', 'Mean Velocity_17', 'Mean...</td>\n",
              "      <td>['Note Density_1', 'Note Density_0', 'Note Den...</td>\n",
              "      <td>['Mean Duration_30', 'Mean Duration_32', 'Mean...</td>\n",
              "      <td>['Bar_1', 'Time Signature_4/4', 'Instrument_El...</td>\n",
              "    </tr>\n",
              "    <tr>\n",
              "      <th>4</th>\n",
              "      <td>4</td>\n",
              "      <td>TRUOGAU128E0780EFD</td>\n",
              "      <td>['Bar_1', 'Time Signature_4/4', 'Note Density_...</td>\n",
              "      <td>0.410</td>\n",
              "      <td>0.959</td>\n",
              "      <td>9</td>\n",
              "      <td>-4.563</td>\n",
              "      <td>1</td>\n",
              "      <td>0.000324</td>\n",
              "      <td>0.000000</td>\n",
              "      <td>0.830</td>\n",
              "      <td>193.155</td>\n",
              "      <td>4</td>\n",
              "      <td>['Mean Pitch_13', 'Mean Pitch_13', 'Mean Pitch...</td>\n",
              "      <td>['Mean Velocity_26', 'Mean Velocity_26', 'Mean...</td>\n",
              "      <td>['Note Density_3', 'Note Density_3', 'Note Den...</td>\n",
              "      <td>['Mean Duration_32', 'Mean Duration_32', 'Mean...</td>\n",
              "      <td>['Bar_1', 'Time Signature_4/4', 'Instrument_El...</td>\n",
              "    </tr>\n",
              "    <tr>\n",
              "      <th>...</th>\n",
              "      <td>...</td>\n",
              "      <td>...</td>\n",
              "      <td>...</td>\n",
              "      <td>...</td>\n",
              "      <td>...</td>\n",
              "      <td>...</td>\n",
              "      <td>...</td>\n",
              "      <td>...</td>\n",
              "      <td>...</td>\n",
              "      <td>...</td>\n",
              "      <td>...</td>\n",
              "      <td>...</td>\n",
              "      <td>...</td>\n",
              "      <td>...</td>\n",
              "      <td>...</td>\n",
              "      <td>...</td>\n",
              "      <td>...</td>\n",
              "      <td>...</td>\n",
              "    </tr>\n",
              "    <tr>\n",
              "      <th>10737</th>\n",
              "      <td>10737</td>\n",
              "      <td>TRNRKLE128F930F8FB</td>\n",
              "      <td>['Bar_1', 'Time Signature_4/4', 'Note Density_...</td>\n",
              "      <td>0.752</td>\n",
              "      <td>0.538</td>\n",
              "      <td>11</td>\n",
              "      <td>-13.293</td>\n",
              "      <td>1</td>\n",
              "      <td>0.062900</td>\n",
              "      <td>0.000088</td>\n",
              "      <td>0.752</td>\n",
              "      <td>123.028</td>\n",
              "      <td>4</td>\n",
              "      <td>['Mean Pitch_14', 'Mean Pitch_14', 'Mean Pitch...</td>\n",
              "      <td>['Mean Velocity_27', 'Mean Velocity_27', 'Mean...</td>\n",
              "      <td>['Note Density_4', 'Note Density_4', 'Note Den...</td>\n",
              "      <td>['Mean Duration_32', 'Mean Duration_32', 'Mean...</td>\n",
              "      <td>['Bar_1', 'Time Signature_4/4', 'Instrument_El...</td>\n",
              "    </tr>\n",
              "    <tr>\n",
              "      <th>10738</th>\n",
              "      <td>10738</td>\n",
              "      <td>TRNRKLE128F930F8FB</td>\n",
              "      <td>['Bar_1', 'Time Signature_4/4', 'Note Density_...</td>\n",
              "      <td>0.751</td>\n",
              "      <td>0.538</td>\n",
              "      <td>11</td>\n",
              "      <td>-13.318</td>\n",
              "      <td>1</td>\n",
              "      <td>0.063900</td>\n",
              "      <td>0.000101</td>\n",
              "      <td>0.753</td>\n",
              "      <td>123.028</td>\n",
              "      <td>4</td>\n",
              "      <td>['Mean Pitch_14', 'Mean Pitch_14', 'Mean Pitch...</td>\n",
              "      <td>['Mean Velocity_27', 'Mean Velocity_27', 'Mean...</td>\n",
              "      <td>['Note Density_4', 'Note Density_4', 'Note Den...</td>\n",
              "      <td>['Mean Duration_32', 'Mean Duration_32', 'Mean...</td>\n",
              "      <td>['Bar_1', 'Time Signature_4/4', 'Instrument_El...</td>\n",
              "    </tr>\n",
              "    <tr>\n",
              "      <th>10739</th>\n",
              "      <td>10739</td>\n",
              "      <td>TRNRKLE128F930F8FB</td>\n",
              "      <td>['Bar_1', 'Time Signature_4/4', 'Note Density_...</td>\n",
              "      <td>0.752</td>\n",
              "      <td>0.538</td>\n",
              "      <td>11</td>\n",
              "      <td>-13.293</td>\n",
              "      <td>1</td>\n",
              "      <td>0.062900</td>\n",
              "      <td>0.000088</td>\n",
              "      <td>0.752</td>\n",
              "      <td>123.028</td>\n",
              "      <td>4</td>\n",
              "      <td>['Mean Pitch_14', 'Mean Pitch_14', 'Mean Pitch...</td>\n",
              "      <td>['Mean Velocity_27', 'Mean Velocity_27', 'Mean...</td>\n",
              "      <td>['Note Density_4', 'Note Density_4', 'Note Den...</td>\n",
              "      <td>['Mean Duration_32', 'Mean Duration_32', 'Mean...</td>\n",
              "      <td>['Bar_1', 'Time Signature_4/4', 'Instrument_El...</td>\n",
              "    </tr>\n",
              "    <tr>\n",
              "      <th>10740</th>\n",
              "      <td>10740</td>\n",
              "      <td>TRNRKLE128F930F8FB</td>\n",
              "      <td>['Bar_1', 'Time Signature_4/4', 'Note Density_...</td>\n",
              "      <td>0.752</td>\n",
              "      <td>0.538</td>\n",
              "      <td>11</td>\n",
              "      <td>-13.293</td>\n",
              "      <td>1</td>\n",
              "      <td>0.062900</td>\n",
              "      <td>0.000088</td>\n",
              "      <td>0.752</td>\n",
              "      <td>123.028</td>\n",
              "      <td>4</td>\n",
              "      <td>['Mean Pitch_14', 'Mean Pitch_14', 'Mean Pitch...</td>\n",
              "      <td>['Mean Velocity_27', 'Mean Velocity_27', 'Mean...</td>\n",
              "      <td>['Note Density_4', 'Note Density_4', 'Note Den...</td>\n",
              "      <td>['Mean Duration_32', 'Mean Duration_32', 'Mean...</td>\n",
              "      <td>['Bar_1', 'Time Signature_4/4', 'Instrument_El...</td>\n",
              "    </tr>\n",
              "    <tr>\n",
              "      <th>10741</th>\n",
              "      <td>10741</td>\n",
              "      <td>TRNRKLE128F930F8FB</td>\n",
              "      <td>['Bar_1', 'Time Signature_4/4', 'Note Density_...</td>\n",
              "      <td>0.579</td>\n",
              "      <td>0.803</td>\n",
              "      <td>0</td>\n",
              "      <td>-7.588</td>\n",
              "      <td>1</td>\n",
              "      <td>0.220000</td>\n",
              "      <td>0.001160</td>\n",
              "      <td>0.770</td>\n",
              "      <td>122.422</td>\n",
              "      <td>4</td>\n",
              "      <td>['Mean Pitch_14', 'Mean Pitch_14', 'Mean Pitch...</td>\n",
              "      <td>['Mean Velocity_27', 'Mean Velocity_27', 'Mean...</td>\n",
              "      <td>['Note Density_4', 'Note Density_4', 'Note Den...</td>\n",
              "      <td>['Mean Duration_32', 'Mean Duration_32', 'Mean...</td>\n",
              "      <td>['Bar_1', 'Time Signature_4/4', 'Instrument_El...</td>\n",
              "    </tr>\n",
              "  </tbody>\n",
              "</table>\n",
              "<p>10742 rows × 18 columns</p>\n",
              "</div>\n",
              "    <div class=\"colab-df-buttons\">\n",
              "\n",
              "  <div class=\"colab-df-container\">\n",
              "    <button class=\"colab-df-convert\" onclick=\"convertToInteractive('df-12897ebd-e84a-4141-aa1e-14d218b58c4b')\"\n",
              "            title=\"Convert this dataframe to an interactive table.\"\n",
              "            style=\"display:none;\">\n",
              "\n",
              "  <svg xmlns=\"http://www.w3.org/2000/svg\" height=\"24px\" viewBox=\"0 -960 960 960\">\n",
              "    <path d=\"M120-120v-720h720v720H120Zm60-500h600v-160H180v160Zm220 220h160v-160H400v160Zm0 220h160v-160H400v160ZM180-400h160v-160H180v160Zm440 0h160v-160H620v160ZM180-180h160v-160H180v160Zm440 0h160v-160H620v160Z\"/>\n",
              "  </svg>\n",
              "    </button>\n",
              "\n",
              "  <style>\n",
              "    .colab-df-container {\n",
              "      display:flex;\n",
              "      gap: 12px;\n",
              "    }\n",
              "\n",
              "    .colab-df-convert {\n",
              "      background-color: #E8F0FE;\n",
              "      border: none;\n",
              "      border-radius: 50%;\n",
              "      cursor: pointer;\n",
              "      display: none;\n",
              "      fill: #1967D2;\n",
              "      height: 32px;\n",
              "      padding: 0 0 0 0;\n",
              "      width: 32px;\n",
              "    }\n",
              "\n",
              "    .colab-df-convert:hover {\n",
              "      background-color: #E2EBFA;\n",
              "      box-shadow: 0px 1px 2px rgba(60, 64, 67, 0.3), 0px 1px 3px 1px rgba(60, 64, 67, 0.15);\n",
              "      fill: #174EA6;\n",
              "    }\n",
              "\n",
              "    .colab-df-buttons div {\n",
              "      margin-bottom: 4px;\n",
              "    }\n",
              "\n",
              "    [theme=dark] .colab-df-convert {\n",
              "      background-color: #3B4455;\n",
              "      fill: #D2E3FC;\n",
              "    }\n",
              "\n",
              "    [theme=dark] .colab-df-convert:hover {\n",
              "      background-color: #434B5C;\n",
              "      box-shadow: 0px 1px 3px 1px rgba(0, 0, 0, 0.15);\n",
              "      filter: drop-shadow(0px 1px 2px rgba(0, 0, 0, 0.3));\n",
              "      fill: #FFFFFF;\n",
              "    }\n",
              "  </style>\n",
              "\n",
              "    <script>\n",
              "      const buttonEl =\n",
              "        document.querySelector('#df-12897ebd-e84a-4141-aa1e-14d218b58c4b button.colab-df-convert');\n",
              "      buttonEl.style.display =\n",
              "        google.colab.kernel.accessAllowed ? 'block' : 'none';\n",
              "\n",
              "      async function convertToInteractive(key) {\n",
              "        const element = document.querySelector('#df-12897ebd-e84a-4141-aa1e-14d218b58c4b');\n",
              "        const dataTable =\n",
              "          await google.colab.kernel.invokeFunction('convertToInteractive',\n",
              "                                                    [key], {});\n",
              "        if (!dataTable) return;\n",
              "\n",
              "        const docLinkHtml = 'Like what you see? Visit the ' +\n",
              "          '<a target=\"_blank\" href=https://colab.research.google.com/notebooks/data_table.ipynb>data table notebook</a>'\n",
              "          + ' to learn more about interactive tables.';\n",
              "        element.innerHTML = '';\n",
              "        dataTable['output_type'] = 'display_data';\n",
              "        await google.colab.output.renderOutput(dataTable, element);\n",
              "        const docLink = document.createElement('div');\n",
              "        docLink.innerHTML = docLinkHtml;\n",
              "        element.appendChild(docLink);\n",
              "      }\n",
              "    </script>\n",
              "  </div>\n",
              "\n",
              "\n",
              "<div id=\"df-68cfc481-312c-4340-b3d5-ec06034a248e\">\n",
              "  <button class=\"colab-df-quickchart\" onclick=\"quickchart('df-68cfc481-312c-4340-b3d5-ec06034a248e')\"\n",
              "            title=\"Suggest charts\"\n",
              "            style=\"display:none;\">\n",
              "\n",
              "<svg xmlns=\"http://www.w3.org/2000/svg\" height=\"24px\"viewBox=\"0 0 24 24\"\n",
              "     width=\"24px\">\n",
              "    <g>\n",
              "        <path d=\"M19 3H5c-1.1 0-2 .9-2 2v14c0 1.1.9 2 2 2h14c1.1 0 2-.9 2-2V5c0-1.1-.9-2-2-2zM9 17H7v-7h2v7zm4 0h-2V7h2v10zm4 0h-2v-4h2v4z\"/>\n",
              "    </g>\n",
              "</svg>\n",
              "  </button>\n",
              "\n",
              "<style>\n",
              "  .colab-df-quickchart {\n",
              "      --bg-color: #E8F0FE;\n",
              "      --fill-color: #1967D2;\n",
              "      --hover-bg-color: #E2EBFA;\n",
              "      --hover-fill-color: #174EA6;\n",
              "      --disabled-fill-color: #AAA;\n",
              "      --disabled-bg-color: #DDD;\n",
              "  }\n",
              "\n",
              "  [theme=dark] .colab-df-quickchart {\n",
              "      --bg-color: #3B4455;\n",
              "      --fill-color: #D2E3FC;\n",
              "      --hover-bg-color: #434B5C;\n",
              "      --hover-fill-color: #FFFFFF;\n",
              "      --disabled-bg-color: #3B4455;\n",
              "      --disabled-fill-color: #666;\n",
              "  }\n",
              "\n",
              "  .colab-df-quickchart {\n",
              "    background-color: var(--bg-color);\n",
              "    border: none;\n",
              "    border-radius: 50%;\n",
              "    cursor: pointer;\n",
              "    display: none;\n",
              "    fill: var(--fill-color);\n",
              "    height: 32px;\n",
              "    padding: 0;\n",
              "    width: 32px;\n",
              "  }\n",
              "\n",
              "  .colab-df-quickchart:hover {\n",
              "    background-color: var(--hover-bg-color);\n",
              "    box-shadow: 0 1px 2px rgba(60, 64, 67, 0.3), 0 1px 3px 1px rgba(60, 64, 67, 0.15);\n",
              "    fill: var(--button-hover-fill-color);\n",
              "  }\n",
              "\n",
              "  .colab-df-quickchart-complete:disabled,\n",
              "  .colab-df-quickchart-complete:disabled:hover {\n",
              "    background-color: var(--disabled-bg-color);\n",
              "    fill: var(--disabled-fill-color);\n",
              "    box-shadow: none;\n",
              "  }\n",
              "\n",
              "  .colab-df-spinner {\n",
              "    border: 2px solid var(--fill-color);\n",
              "    border-color: transparent;\n",
              "    border-bottom-color: var(--fill-color);\n",
              "    animation:\n",
              "      spin 1s steps(1) infinite;\n",
              "  }\n",
              "\n",
              "  @keyframes spin {\n",
              "    0% {\n",
              "      border-color: transparent;\n",
              "      border-bottom-color: var(--fill-color);\n",
              "      border-left-color: var(--fill-color);\n",
              "    }\n",
              "    20% {\n",
              "      border-color: transparent;\n",
              "      border-left-color: var(--fill-color);\n",
              "      border-top-color: var(--fill-color);\n",
              "    }\n",
              "    30% {\n",
              "      border-color: transparent;\n",
              "      border-left-color: var(--fill-color);\n",
              "      border-top-color: var(--fill-color);\n",
              "      border-right-color: var(--fill-color);\n",
              "    }\n",
              "    40% {\n",
              "      border-color: transparent;\n",
              "      border-right-color: var(--fill-color);\n",
              "      border-top-color: var(--fill-color);\n",
              "    }\n",
              "    60% {\n",
              "      border-color: transparent;\n",
              "      border-right-color: var(--fill-color);\n",
              "    }\n",
              "    80% {\n",
              "      border-color: transparent;\n",
              "      border-right-color: var(--fill-color);\n",
              "      border-bottom-color: var(--fill-color);\n",
              "    }\n",
              "    90% {\n",
              "      border-color: transparent;\n",
              "      border-bottom-color: var(--fill-color);\n",
              "    }\n",
              "  }\n",
              "</style>\n",
              "\n",
              "  <script>\n",
              "    async function quickchart(key) {\n",
              "      const quickchartButtonEl =\n",
              "        document.querySelector('#' + key + ' button');\n",
              "      quickchartButtonEl.disabled = true;  // To prevent multiple clicks.\n",
              "      quickchartButtonEl.classList.add('colab-df-spinner');\n",
              "      try {\n",
              "        const charts = await google.colab.kernel.invokeFunction(\n",
              "            'suggestCharts', [key], {});\n",
              "      } catch (error) {\n",
              "        console.error('Error during call to suggestCharts:', error);\n",
              "      }\n",
              "      quickchartButtonEl.classList.remove('colab-df-spinner');\n",
              "      quickchartButtonEl.classList.add('colab-df-quickchart-complete');\n",
              "    }\n",
              "    (() => {\n",
              "      let quickchartButtonEl =\n",
              "        document.querySelector('#df-68cfc481-312c-4340-b3d5-ec06034a248e button');\n",
              "      quickchartButtonEl.style.display =\n",
              "        google.colab.kernel.accessAllowed ? 'block' : 'none';\n",
              "    })();\n",
              "  </script>\n",
              "</div>\n",
              "    </div>\n",
              "  </div>\n"
            ],
            "application/vnd.google.colaboratory.intrinsic+json": {
              "type": "dataframe",
              "variable_name": "df_merged",
              "summary": "{\n  \"name\": \"df_merged\",\n  \"rows\": 10742,\n  \"fields\": [\n    {\n      \"column\": \"Unnamed: 0\",\n      \"properties\": {\n        \"dtype\": \"number\",\n        \"std\": 3101,\n        \"min\": 0,\n        \"max\": 10741,\n        \"num_unique_values\": 10742,\n        \"samples\": [\n          6874,\n          6014,\n          3883\n        ],\n        \"semantic_type\": \"\",\n        \"description\": \"\"\n      }\n    },\n    {\n      \"column\": \"msd_track_id\",\n      \"properties\": {\n        \"dtype\": \"category\",\n        \"num_unique_values\": 766,\n        \"samples\": [\n          \"TRANKTK128E07921D9\",\n          \"TRHZTFT128E078EDC2\",\n          \"TRGZZFI128F429094F\"\n        ],\n        \"semantic_type\": \"\",\n        \"description\": \"\"\n      }\n    },\n    {\n      \"column\": \"description\",\n      \"properties\": {\n        \"dtype\": \"string\",\n        \"num_unique_values\": 7008,\n        \"samples\": [\n          \"['Bar_1', 'Time Signature_4/4', 'Note Density_4', 'Mean Velocity_19', 'Mean Pitch_14', 'Mean Duration_32', 'Instrument_Electric Bass (finger)', 'Instrument_Xylophone', 'Instrument_Drawbar Organ', 'Instrument_Lead 1 (square)', 'Instrument_Guitar Fret Noise', 'Instrument_drum', 'Chord_A:min', 'Chord_D:min7', 'Bar_2', 'Time Signature_4/4', 'Note Density_4', 'Mean Velocity_20', 'Mean Pitch_14', 'Mean Duration_20', 'Instrument_Electric Bass (finger)', 'Instrument_Xylophone', 'Instrument_Lead 1 (square)', 'Instrument_Guitar Fret Noise', 'Instrument_drum', 'Chord_A:min', 'Chord_D:min7', 'Bar_3', 'Time Signature_4/4', 'Note Density_4', 'Mean Velocity_20', 'Mean Pitch_14', 'Mean Duration_20', 'Instrument_Electric Bass (finger)', 'Instrument_Xylophone', 'Instrument_Lead 1 (square)', 'Instrument_Guitar Fret Noise', 'Instrument_drum', 'Chord_A:min', 'Chord_D:min7', 'Bar_4', 'Time Signature_4/4', 'Note Density_4', 'Mean Velocity_20', 'Mean Pitch_14', 'Mean Duration_20', 'Instrument_Electric Bass (finger)', 'Instrument_Xylophone', 'Instrument_Lead 1 (square)', 'Instrument_Guitar Fret Noise', 'Instrument_drum', 'Chord_A:min', 'Chord_D:min7', 'Bar_5', 'Time Signature_4/4', 'Note Density_4', 'Mean Velocity_20', 'Mean Pitch_14', 'Mean Duration_19', 'Instrument_Electric Bass (finger)', 'Instrument_Xylophone', 'Instrument_Lead 1 (square)', 'Instrument_Guitar Fret Noise', 'Instrument_drum', 'Chord_A:min', 'Chord_D:min7', 'Bar_6', 'Time Signature_4/4', 'Note Density_4', 'Mean Velocity_19', 'Mean Pitch_14', 'Mean Duration_26', 'Instrument_Electric Bass (finger)', 'Instrument_Xylophone', 'Instrument_Lead 1 (square)', 'Instrument_Guitar Fret Noise', 'Instrument_drum', 'Chord_A:min', 'Chord_D:min7', 'Bar_7', 'Time Signature_4/4', 'Note Density_1', 'Mean Velocity_22', 'Mean Pitch_21', 'Mean Duration_17', 'Instrument_Electric Bass (finger)', 'Instrument_Xylophone', 'Chord_A:min', 'Chord_A:dim', 'Bar_8', 'Time Signature_4/4', 'Note Density_1', 'Mean Velocity_22', 'Mean Pitch_22', 'Mean Duration_16', 'Instrument_Xylophone', 'Chord_A:dim', 'Bar_9', 'Time Signature_4/4', 'Note Density_1', 'Mean Velocity_22', 'Mean Pitch_22', 'Mean Duration_16', 'Instrument_Xylophone', 'Chord_A:min', 'Bar_10', 'Time Signature_4/4', 'Note Density_1', 'Mean Velocity_22', 'Mean Pitch_22', 'Mean Duration_16', 'Instrument_Xylophone', 'Chord_A:min', 'Bar_11', 'Time Signature_4/4', 'Note Density_1', 'Mean Velocity_22', 'Mean Pitch_22', 'Mean Duration_16', 'Instrument_Xylophone', 'Chord_A:min', 'Bar_12', 'Time Signature_4/4', 'Note Density_1', 'Mean Velocity_22', 'Mean Pitch_22', 'Mean Duration_16', 'Instrument_Xylophone', 'Chord_A:min', 'Chord_N:N']\",\n          \"['Bar_1', 'Time Signature_4/4', 'Note Density_6', 'Mean Velocity_23', 'Mean Pitch_11', 'Mean Duration_32', 'Instrument_FX 4 (atmosphere)', 'Instrument_Synth Bass 1', 'Instrument_Clavinet', 'Instrument_Lead 2 (sawtooth)', 'Instrument_Synth Strings 1', 'Instrument_drum', 'Chord_D#:maj', 'Chord_E:dim', 'Bar_2', 'Time Signature_4/4', 'Note Density_6', 'Mean Velocity_23', 'Mean Pitch_12', 'Mean Duration_32', 'Instrument_FX 4 (atmosphere)', 'Instrument_Synth Bass 1', 'Instrument_Clavinet', 'Instrument_Lead 2 (sawtooth)', 'Instrument_Synth Strings 1', 'Instrument_drum', 'Chord_D#:dim', 'Chord_F:maj', 'Chord_D:min7', 'Bar_3', 'Time Signature_4/4', 'Note Density_6', 'Mean Velocity_22', 'Mean Pitch_11', 'Mean Duration_32', 'Instrument_Synth Bass 1', 'Instrument_Clavinet', 'Instrument_Lead 2 (sawtooth)', 'Instrument_Synth Strings 1', 'Instrument_drum', 'Chord_A:dim', 'Chord_G:maj', 'Chord_E:min7', 'Bar_4', 'Time Signature_4/4', 'Note Density_6', 'Mean Velocity_22', 'Mean Pitch_11', 'Mean Duration_32', 'Instrument_Synth Bass 1', 'Instrument_Clavinet', 'Instrument_Lead 2 (sawtooth)', 'Instrument_Synth Strings 1', 'Instrument_drum', 'Chord_C:maj', 'Chord_C#:dim', 'Bar_5', 'Time Signature_4/4', 'Note Density_5', 'Mean Velocity_23', 'Mean Pitch_11', 'Mean Duration_28', 'Instrument_Synth Bass 1', 'Instrument_Lead 2 (sawtooth)', 'Instrument_drum', 'Chord_D#:maj', 'Chord_C#:dim', 'Chord_E:dim', 'Bar_6', 'Time Signature_4/4', 'Note Density_5', 'Mean Velocity_23', 'Mean Pitch_11', 'Mean Duration_28', 'Instrument_Synth Bass 1', 'Instrument_Lead 2 (sawtooth)', 'Instrument_drum', 'Chord_E:dim', 'Chord_F:min7', 'Bar_7', 'Time Signature_4/4', 'Note Density_5', 'Mean Velocity_23', 'Mean Pitch_11', 'Mean Duration_28', 'Instrument_Synth Bass 1', 'Instrument_Lead 2 (sawtooth)', 'Instrument_drum', 'Chord_F:min7', 'Bar_8', 'Time Signature_4/4', 'Note Density_5', 'Mean Velocity_23', 'Mean Pitch_11', 'Mean Duration_28', 'Instrument_Synth Bass 1', 'Instrument_Lead 2 (sawtooth)', 'Instrument_drum', 'Chord_F:min7', 'Chord_A#:dim', 'Bar_9', 'Time Signature_4/4', 'Note Density_5', 'Mean Velocity_23', 'Mean Pitch_11', 'Mean Duration_28', 'Instrument_Synth Bass 1', 'Instrument_Lead 2 (sawtooth)', 'Instrument_drum', 'Chord_A#:dim', 'Chord_D#:min7', 'Bar_10', 'Time Signature_4/4', 'Note Density_5', 'Mean Velocity_23', 'Mean Pitch_11', 'Mean Duration_28', 'Instrument_Synth Bass 1', 'Instrument_Lead 2 (sawtooth)', 'Instrument_drum', 'Chord_D#:min7', 'Chord_F:min7', 'Bar_11', 'Time Signature_4/4', 'Note Density_5', 'Mean Velocity_23', 'Mean Pitch_11', 'Mean Duration_28', 'Instrument_Synth Bass 1', 'Instrument_Lead 2 (sawtooth)', 'Instrument_drum', 'Chord_F:min7', 'Chord_C#:maj7', 'Bar_12', 'Time Signature_4/4', 'Note Density_5', 'Mean Velocity_23', 'Mean Pitch_11', 'Mean Duration_28', 'Instrument_Synth Bass 1', 'Instrument_Lead 2 (sawtooth)', 'Instrument_drum', 'Chord_C#:maj7', 'Chord_F#:maj']\",\n          \"['Bar_1', 'Time Signature_4/4', 'Note Density_3', 'Mean Velocity_32', 'Mean Pitch_12', 'Mean Duration_28', 'Instrument_Acoustic Grand Piano', 'Instrument_Electric Bass (finger)', 'Instrument_String Ensemble 1', 'Instrument_Electric Guitar (jazz)', 'Instrument_drum', 'Chord_F:min', 'Chord_F:min7', 'Chord_F:min', 'Chord_A#:dom7', 'Bar_2', 'Time Signature_4/4', 'Note Density_3', 'Mean Velocity_32', 'Mean Pitch_14', 'Mean Duration_32', 'Instrument_Acoustic Grand Piano', 'Instrument_Electric Bass (finger)', 'Instrument_String Ensemble 1', 'Instrument_Electric Guitar (jazz)', 'Instrument_drum', 'Chord_C:dim', 'Chord_D#:maj', 'Chord_G#:maj', 'Chord_D#:maj', 'Bar_3', 'Time Signature_4/4', 'Note Density_3', 'Mean Velocity_32', 'Mean Pitch_13', 'Mean Duration_32', 'Instrument_Acoustic Grand Piano', 'Instrument_Electric Bass (finger)', 'Instrument_String Ensemble 1', 'Instrument_Electric Guitar (jazz)', 'Instrument_drum', 'Chord_A#:maj', 'Chord_C:min7', 'Chord_G#:maj', 'Bar_4', 'Time Signature_4/4', 'Note Density_3', 'Mean Velocity_32', 'Mean Pitch_12', 'Mean Duration_31', 'Instrument_Acoustic Grand Piano', 'Instrument_Electric Bass (finger)', 'Instrument_String Ensemble 1', 'Instrument_Electric Guitar (jazz)', 'Instrument_drum', 'Chord_G#:maj', 'Chord_F:min7', 'Chord_G:min', 'Chord_C:min7', 'Bar_5', 'Time Signature_4/4', 'Note Density_3', 'Mean Velocity_32', 'Mean Pitch_12', 'Mean Duration_28', 'Instrument_Acoustic Grand Piano', 'Instrument_Electric Bass (finger)', 'Instrument_String Ensemble 1', 'Instrument_Electric Guitar (jazz)', 'Instrument_drum', 'Chord_F:min', 'Chord_F:min7', 'Chord_F:min', 'Chord_A#:dom7', 'Bar_6', 'Time Signature_4/4', 'Note Density_3', 'Mean Velocity_32', 'Mean Pitch_14', 'Mean Duration_32', 'Instrument_Acoustic Grand Piano', 'Instrument_Electric Bass (finger)', 'Instrument_String Ensemble 1', 'Instrument_Electric Guitar (jazz)', 'Instrument_drum', 'Chord_C:dim', 'Chord_D#:maj', 'Chord_G#:maj', 'Chord_D#:maj', 'Bar_7', 'Time Signature_4/4', 'Note Density_3', 'Mean Velocity_32', 'Mean Pitch_13', 'Mean Duration_32', 'Instrument_Acoustic Grand Piano', 'Instrument_Electric Bass (finger)', 'Instrument_String Ensemble 1', 'Instrument_Electric Guitar (jazz)', 'Instrument_drum', 'Chord_A#:maj', 'Chord_C:min7', 'Chord_G#:maj', 'Bar_8', 'Time Signature_4/4', 'Note Density_3', 'Mean Velocity_32', 'Mean Pitch_12', 'Mean Duration_31', 'Instrument_Acoustic Grand Piano', 'Instrument_Electric Bass (finger)', 'Instrument_String Ensemble 1', 'Instrument_Electric Guitar (jazz)', 'Instrument_drum', 'Chord_G#:maj', 'Chord_F:min7', 'Chord_G:min', 'Chord_C:min7', 'Bar_9', 'Time Signature_4/4', 'Note Density_3', 'Mean Velocity_32', 'Mean Pitch_12', 'Mean Duration_28', 'Instrument_Acoustic Grand Piano', 'Instrument_Electric Bass (finger)', 'Instrument_String Ensemble 1', 'Instrument_Electric Guitar (jazz)', 'Instrument_drum', 'Chord_F:min', 'Chord_F:min7', 'Chord_F:min', 'Chord_A#:dom7', 'Bar_10', 'Time Signature_4/4', 'Note Density_1', 'Mean Velocity_32', 'Mean Pitch_14', 'Mean Duration_32', 'Instrument_Acoustic Grand Piano', 'Instrument_Electric Bass (finger)', 'Instrument_String Ensemble 1', 'Instrument_Electric Guitar (jazz)', 'Instrument_drum', 'Chord_D#:maj', 'Chord_N:N']\"\n        ],\n        \"semantic_type\": \"\",\n        \"description\": \"\"\n      }\n    },\n    {\n      \"column\": \"danceability\",\n      \"properties\": {\n        \"dtype\": \"number\",\n        \"std\": 0.1564188482561919,\n        \"min\": 0.135,\n        \"max\": 0.969,\n        \"num_unique_values\": 474,\n        \"samples\": [\n          0.916,\n          0.635,\n          0.668\n        ],\n        \"semantic_type\": \"\",\n        \"description\": \"\"\n      }\n    },\n    {\n      \"column\": \"energy\",\n      \"properties\": {\n        \"dtype\": \"number\",\n        \"std\": 0.21005257469630123,\n        \"min\": 0.0406,\n        \"max\": 0.997,\n        \"num_unique_values\": 547,\n        \"samples\": [\n          0.477,\n          0.697,\n          0.618\n        ],\n        \"semantic_type\": \"\",\n        \"description\": \"\"\n      }\n    },\n    {\n      \"column\": \"key\",\n      \"properties\": {\n        \"dtype\": \"number\",\n        \"std\": 3,\n        \"min\": 0,\n        \"max\": 11,\n        \"num_unique_values\": 12,\n        \"samples\": [\n          1,\n          2,\n          7\n        ],\n        \"semantic_type\": \"\",\n        \"description\": \"\"\n      }\n    },\n    {\n      \"column\": \"loudness\",\n      \"properties\": {\n        \"dtype\": \"number\",\n        \"std\": 3.722985824626948,\n        \"min\": -28.822,\n        \"max\": -1.692,\n        \"num_unique_values\": 904,\n        \"samples\": [\n          -14.451,\n          -4.906,\n          -7.284\n        ],\n        \"semantic_type\": \"\",\n        \"description\": \"\"\n      }\n    },\n    {\n      \"column\": \"mode\",\n      \"properties\": {\n        \"dtype\": \"number\",\n        \"std\": 0,\n        \"min\": 0,\n        \"max\": 1,\n        \"num_unique_values\": 2,\n        \"samples\": [\n          0,\n          1\n        ],\n        \"semantic_type\": \"\",\n        \"description\": \"\"\n      }\n    },\n    {\n      \"column\": \"acousticness\",\n      \"properties\": {\n        \"dtype\": \"number\",\n        \"std\": 0.2615629739732705,\n        \"min\": 3.69e-06,\n        \"max\": 0.993,\n        \"num_unique_values\": 777,\n        \"samples\": [\n          0.000354,\n          0.256\n        ],\n        \"semantic_type\": \"\",\n        \"description\": \"\"\n      }\n    },\n    {\n      \"column\": \"instrumentalness\",\n      \"properties\": {\n        \"dtype\": \"number\",\n        \"std\": 0.18447456754252672,\n        \"min\": 0.0,\n        \"max\": 0.985,\n        \"num_unique_values\": 638,\n        \"samples\": [\n          0.0579,\n          1.87e-05\n        ],\n        \"semantic_type\": \"\",\n        \"description\": \"\"\n      }\n    },\n    {\n      \"column\": \"valence\",\n      \"properties\": {\n        \"dtype\": \"number\",\n        \"std\": 0.2508170326464906,\n        \"min\": 0.0293,\n        \"max\": 0.982,\n        \"num_unique_values\": 603,\n        \"samples\": [\n          0.671,\n          0.164\n        ],\n        \"semantic_type\": \"\",\n        \"description\": \"\"\n      }\n    },\n    {\n      \"column\": \"tempo\",\n      \"properties\": {\n        \"dtype\": \"number\",\n        \"std\": 25.90962737703261,\n        \"min\": 61.648,\n        \"max\": 204.824,\n        \"num_unique_values\": 961,\n        \"samples\": [\n          132.716,\n          149.91\n        ],\n        \"semantic_type\": \"\",\n        \"description\": \"\"\n      }\n    },\n    {\n      \"column\": \"time_signature\",\n      \"properties\": {\n        \"dtype\": \"number\",\n        \"std\": 0,\n        \"min\": 1,\n        \"max\": 5,\n        \"num_unique_values\": 4,\n        \"samples\": [\n          3,\n          5\n        ],\n        \"semantic_type\": \"\",\n        \"description\": \"\"\n      }\n    },\n    {\n      \"column\": \"pitch_description\",\n      \"properties\": {\n        \"dtype\": \"string\",\n        \"num_unique_values\": 6022,\n        \"samples\": [\n          \"['Mean Pitch_13', 'Mean Pitch_13', 'Mean Pitch_13', 'Mean Pitch_11', 'Mean Pitch_13', 'Mean Pitch_13', 'Mean Pitch_13', 'Mean Pitch_13', 'Mean Pitch_13', 'Mean Pitch_13', 'Mean Pitch_13', 'Mean Pitch_13']\",\n          \"['Mean Pitch_16', 'Mean Pitch_15', 'Mean Pitch_15', 'Mean Pitch_16', 'Mean Pitch_16', 'Mean Pitch_15', 'Mean Pitch_15', 'Mean Pitch_15', 'Mean Pitch_16', 'Mean Pitch_15', 'Mean Pitch_15', 'Mean Pitch_16']\"\n        ],\n        \"semantic_type\": \"\",\n        \"description\": \"\"\n      }\n    },\n    {\n      \"column\": \"velocity_description\",\n      \"properties\": {\n        \"dtype\": \"string\",\n        \"num_unique_values\": 5810,\n        \"samples\": [\n          \"['Mean Velocity_19', 'Mean Velocity_19', 'Mean Velocity_19', 'Mean Velocity_19', 'Mean Velocity_20', 'Mean Velocity_19', 'Mean Velocity_19', 'Mean Velocity_20', 'Mean Velocity_19', 'Mean Velocity_19', 'Mean Velocity_19', 'Mean Velocity_19']\",\n          \"['Mean Velocity_29', 'Mean Velocity_29', 'Mean Velocity_30', 'Mean Velocity_31', 'Mean Velocity_29', 'Mean Velocity_28', 'Mean Velocity_28', 'Mean Velocity_28', 'Mean Velocity_29', 'Mean Velocity_28', 'Mean Velocity_28', 'Mean Velocity_29']\"\n        ],\n        \"semantic_type\": \"\",\n        \"description\": \"\"\n      }\n    },\n    {\n      \"column\": \"density_description\",\n      \"properties\": {\n        \"dtype\": \"category\",\n        \"num_unique_values\": 5200,\n        \"samples\": [\n          \"['Note Density_1', 'Note Density_2', 'Note Density_2', 'Note Density_1', 'Note Density_2', 'Note Density_2', 'Note Density_2', 'Note Density_2', 'Note Density_2', 'Note Density_2', 'Note Density_3', 'Note Density_3']\",\n          \"['Note Density_6', 'Note Density_6', 'Note Density_7', 'Note Density_7', 'Note Density_8', 'Note Density_7', 'Note Density_8', 'Note Density_7', 'Note Density_7', 'Note Density_7', 'Note Density_3', 'Note Density_2']\"\n        ],\n        \"semantic_type\": \"\",\n        \"description\": \"\"\n      }\n    },\n    {\n      \"column\": \"duration_description\",\n      \"properties\": {\n        \"dtype\": \"category\",\n        \"num_unique_values\": 3660,\n        \"samples\": [\n          \"['Mean Duration_32', 'Mean Duration_31', 'Mean Duration_32', 'Mean Duration_32', 'Mean Duration_30', 'Mean Duration_30', 'Mean Duration_32', 'Mean Duration_31', 'Mean Duration_32', 'Mean Duration_31', 'Mean Duration_31', 'Mean Duration_32']\",\n          \"['Mean Duration_28', 'Mean Duration_32', 'Mean Duration_25', 'Mean Duration_26', 'Mean Duration_25', 'Mean Duration_32', 'Mean Duration_24', 'Mean Duration_32', 'Mean Duration_24', 'Mean Duration_32', 'Mean Duration_24', 'Mean Duration_32']\"\n        ],\n        \"semantic_type\": \"\",\n        \"description\": \"\"\n      }\n    },\n    {\n      \"column\": \"categorical_description\",\n      \"properties\": {\n        \"dtype\": \"string\",\n        \"num_unique_values\": 6976,\n        \"samples\": [\n          \"['Bar_1', 'Time Signature_4/4', 'Instrument_Bright Acoustic Piano', 'Instrument_Electric Bass (finger)', 'Instrument_String Ensemble 2', 'Instrument_Acoustic Guitar (steel)', 'Instrument_drum', 'Chord_F:dom7', 'Chord_C:min', 'Chord_F:maj', 'Bar_2', 'Time Signature_4/4', 'Instrument_Bright Acoustic Piano', 'Instrument_Electric Bass (finger)', 'Instrument_String Ensemble 2', 'Instrument_Acoustic Guitar (steel)', 'Instrument_drum', 'Chord_A#:maj', 'Bar_3', 'Time Signature_4/4', 'Instrument_Bright Acoustic Piano', 'Instrument_Electric Bass (finger)', 'Instrument_String Ensemble 2', 'Instrument_Acoustic Guitar (steel)', 'Instrument_drum', 'Chord_C:dom7', 'Chord_C:maj', 'Chord_D:min7', 'Bar_4', 'Time Signature_4/4', 'Instrument_Bright Acoustic Piano', 'Instrument_Electric Bass (finger)', 'Instrument_String Ensemble 2', 'Instrument_Acoustic Guitar (steel)', 'Instrument_drum', 'Chord_F:maj', 'Bar_5', 'Time Signature_4/4', 'Instrument_Bright Acoustic Piano', 'Instrument_Electric Bass (finger)', 'Instrument_String Ensemble 2', 'Instrument_Acoustic Guitar (steel)', 'Instrument_drum', 'Chord_C:min', 'Chord_F:dom7', 'Chord_F:maj', 'Bar_6', 'Time Signature_4/4', 'Instrument_Bright Acoustic Piano', 'Instrument_Electric Bass (finger)', 'Instrument_String Ensemble 2', 'Instrument_Acoustic Guitar (steel)', 'Instrument_drum', 'Chord_A#:maj', 'Chord_G:min7', 'Chord_A#:maj7', 'Chord_A#:maj', 'Bar_7', 'Time Signature_4/4', 'Instrument_Bright Acoustic Piano', 'Instrument_Electric Bass (finger)', 'Instrument_String Ensemble 2', 'Instrument_Acoustic Guitar (steel)', 'Instrument_drum', 'Chord_F:aug', 'Chord_A:maj', 'Chord_D:min7', 'Bar_8', 'Time Signature_4/4', 'Instrument_Bright Acoustic Piano', 'Instrument_Electric Bass (finger)', 'Instrument_String Ensemble 2', 'Instrument_Acoustic Guitar (steel)', 'Instrument_drum', 'Chord_D:min7', 'Chord_C:aug', 'Chord_D:min7', 'Bar_9', 'Time Signature_4/4', 'Instrument_Bright Acoustic Piano', 'Instrument_Electric Bass (finger)', 'Instrument_String Ensemble 2', 'Instrument_Acoustic Guitar (steel)', 'Instrument_drum', 'Chord_C:min', 'Chord_F:maj', 'Bar_10', 'Time Signature_4/4', 'Instrument_Bright Acoustic Piano', 'Instrument_Electric Bass (finger)', 'Instrument_String Ensemble 2', 'Instrument_Acoustic Guitar (steel)', 'Instrument_drum', 'Chord_A#:maj', 'Chord_D:min7', 'Chord_A:min', 'Bar_11', 'Time Signature_4/4', 'Instrument_Bright Acoustic Piano', 'Instrument_Electric Bass (finger)', 'Instrument_String Ensemble 2', 'Instrument_Acoustic Guitar (steel)', 'Instrument_drum', 'Chord_G:min', 'Chord_C:maj', 'Bar_12', 'Time Signature_4/4', 'Instrument_Bright Acoustic Piano', 'Instrument_Electric Bass (finger)', 'Instrument_String Ensemble 2', 'Instrument_Acoustic Guitar (steel)', 'Instrument_drum', 'Chord_F:maj']\",\n          \"['Bar_1', 'Time Signature_4/4', 'Instrument_Electric Bass (finger)', 'Instrument_Alto Sax', 'Instrument_Marimba', 'Instrument_String Ensemble 1', 'Instrument_Choir Aahs', 'Instrument_Acoustic Guitar (nylon)', 'Instrument_Electric Guitar (muted)', 'Instrument_drum', 'Chord_C:maj', 'Chord_D:min7', 'Bar_2', 'Time Signature_4/4', 'Instrument_Electric Bass (finger)', 'Instrument_Alto Sax', 'Instrument_Marimba', 'Instrument_String Ensemble 1', 'Instrument_Choir Aahs', 'Instrument_Acoustic Guitar (nylon)', 'Instrument_Electric Guitar (muted)', 'Instrument_drum', 'Chord_C:maj', 'Chord_A:min7', 'Bar_3', 'Time Signature_4/4', 'Instrument_Electric Bass (finger)', 'Instrument_Alto Sax', 'Instrument_Marimba', 'Instrument_String Ensemble 1', 'Instrument_Choir Aahs', 'Instrument_Acoustic Guitar (nylon)', 'Instrument_Electric Guitar (muted)', 'Instrument_drum', 'Chord_C:maj', 'Chord_F:maj', 'Chord_C:maj', 'Bar_4', 'Time Signature_4/4', 'Instrument_Electric Bass (finger)', 'Instrument_Alto Sax', 'Instrument_Marimba', 'Instrument_String Ensemble 1', 'Instrument_Choir Aahs', 'Instrument_Acoustic Guitar (nylon)', 'Instrument_Electric Guitar (muted)', 'Instrument_drum', 'Chord_G:dom7', 'Bar_5', 'Time Signature_4/4', 'Instrument_Electric Bass (finger)', 'Instrument_Alto Sax', 'Instrument_Marimba', 'Instrument_String Ensemble 1', 'Instrument_Choir Aahs', 'Instrument_Acoustic Guitar (nylon)', 'Instrument_Electric Guitar (muted)', 'Instrument_drum', 'Chord_G:dom7', 'Chord_E:min7', 'Bar_6', 'Time Signature_4/4', 'Instrument_Electric Bass (finger)', 'Instrument_Alto Sax', 'Instrument_Marimba', 'Instrument_String Ensemble 1', 'Instrument_Choir Aahs', 'Instrument_Acoustic Guitar (nylon)', 'Instrument_Electric Guitar (muted)', 'Instrument_drum', 'Chord_C:maj', 'Chord_A:min7', 'Bar_7', 'Time Signature_4/4', 'Instrument_Electric Bass (finger)', 'Instrument_Alto Sax', 'Instrument_Marimba', 'Instrument_String Ensemble 1', 'Instrument_Choir Aahs', 'Instrument_Acoustic Guitar (nylon)', 'Instrument_Electric Guitar (muted)', 'Instrument_drum', 'Chord_C:maj', 'Chord_D:min7', 'Bar_8', 'Time Signature_4/4', 'Instrument_Electric Bass (finger)', 'Instrument_Alto Sax', 'Instrument_Marimba', 'Instrument_String Ensemble 1', 'Instrument_Choir Aahs', 'Instrument_Acoustic Guitar (nylon)', 'Instrument_Electric Guitar (muted)', 'Instrument_drum', 'Chord_C:maj', 'Chord_N:N']\"\n        ],\n        \"semantic_type\": \"\",\n        \"description\": \"\"\n      }\n    }\n  ]\n}"
            }
          },
          "metadata": {},
          "execution_count": 2
        }
      ],
      "source": [
        "df_merged = pd.read_csv(\"processed_dataset.csv\")\n",
        "\n",
        "df_merged"
      ]
    },
    {
      "cell_type": "code",
      "execution_count": 3,
      "metadata": {
        "id": "WYe2rGOxJRRS"
      },
      "outputs": [],
      "source": [
        "import torch\n",
        "from torch import nn\n",
        "from torch.utils.data import Dataset, DataLoader\n",
        "from sklearn.model_selection import train_test_split\n",
        "from sklearn.preprocessing import StandardScaler\n",
        "import pandas as pd\n",
        "import numpy as np"
      ]
    },
    {
      "cell_type": "code",
      "execution_count": 4,
      "metadata": {
        "id": "0JGFF-G41JbL",
        "colab": {
          "base_uri": "https://localhost:8080/"
        },
        "outputId": "8573033c-1088-463f-e63f-a5e5bb9ea4ab"
      },
      "outputs": [
        {
          "output_type": "execute_result",
          "data": {
            "text/plain": [
              "device(type='cuda')"
            ]
          },
          "metadata": {},
          "execution_count": 4
        }
      ],
      "source": [
        "device = torch.device(\"cuda\" if torch.cuda.is_available() else \"cpu\")\n",
        "\n",
        "device"
      ]
    },
    {
      "cell_type": "code",
      "execution_count": 5,
      "metadata": {
        "id": "cABqDQORVt6F"
      },
      "outputs": [],
      "source": [
        "MUSIC_FEATURES = ['danceability', 'energy', 'key',\n",
        "                  'loudness', 'mode', 'acousticness',\n",
        "                  'instrumentalness', 'valence',\n",
        "                  'tempo', 'time_signature']\n",
        "\n",
        "import ast\n",
        "import torch.nn.functional as F\n",
        "from functools import cache\n",
        "\n",
        "# Data preparation\n",
        "class MusicDataset(Dataset):\n",
        "    def __init__(self, dataframe, description_column, numerical_feature=False, soft_labels=False):\n",
        "        features = []\n",
        "        for i in range(len(dataframe.index)):\n",
        "          row = []\n",
        "          for feature_name in MUSIC_FEATURES:\n",
        "            row.append(dataframe.iloc[i][feature_name])\n",
        "          features.append(row)\n",
        "        self.features = features\n",
        "        self.descriptions = [ast.literal_eval(x) for x in dataframe[description_column].values]\n",
        "        self.numerical = numerical_feature\n",
        "        self.max_description_length = max([len(x) for x in self.descriptions])\n",
        "        self.soft_labels = soft_labels\n",
        "\n",
        "        print(f\"Max length for {description_column}\", self.max_description_length)\n",
        "\n",
        "        if not self.numerical:\n",
        "          token_list = set(token for desc in self.descriptions for token in desc)\n",
        "          if self.soft_labels:\n",
        "            token_list = sorted(token_list, key=lambda x: int(x.split(\"_\")[-1]))\n",
        "          print(token_list)\n",
        "          self.vocab = {token: i for i, token in enumerate(token_list, start=1)}\n",
        "          self.vocab['<PAD>'] = 0  # Add a padding token\n",
        "\n",
        "          print(f\"Vocab size for {description_column}\", len(self.vocab))\n",
        "\n",
        "    def __len__(self):\n",
        "        return len(self.descriptions)\n",
        "\n",
        "    @cache\n",
        "    def __getitem__(self, idx):\n",
        "        feature = torch.tensor(self.features[idx], dtype=torch.float32)\n",
        "        if self.numerical:\n",
        "          description = [int(x.split('_')[-1]) for x in self.descriptions[idx]]\n",
        "        else:\n",
        "          description = [self.vocab[token] for token in self.descriptions[idx]]\n",
        "        # print(\"Des\", self.descriptions[idx][:15])\n",
        "        # print(\"Len\", len(description))\n",
        "        description_tensor = torch.tensor(description + [0]*(self.max_description_length - len(description)), dtype=torch.long)\n",
        "        # print(\"Description shape\", description_tensor.shape)\n",
        "        if self.soft_labels:\n",
        "          description_tensor_soft = self.create_soft_labels(description_tensor, len(self.vocab))\n",
        "        else:\n",
        "          description_tensor_soft = torch.zeros(1)\n",
        "        return feature.to(device), description_tensor.to(device), description_tensor_soft.to(device)\n",
        "\n",
        "    def create_soft_labels(self, targets, num_classes, smoothing=0.5):\n",
        "        \"\"\"\n",
        "        Creates soft labels using a Gaussian distribution centered at each target label.\n",
        "        :param targets: tensor of shape [batch_size, seq_length] with integer class labels.\n",
        "        :param num_classes: total number of classes.\n",
        "        :param smoothing: controls the spread of the distribution around the class label.\n",
        "        :return: tensor of shape [batch_size, seq_length, num_classes] with soft labels.\n",
        "        \"\"\"\n",
        "        soft_labels = torch.zeros(targets.shape[0], num_classes, device=targets.device)\n",
        "\n",
        "        # Create a Gaussian distribution centered at each target label\n",
        "        for s in range(targets.shape[0]):\n",
        "            label = targets[s]\n",
        "            soft_labels[s, max(0, label - 1):min(num_classes, label + 2)] = torch.tensor(\n",
        "                [smoothing / 2 if i == label - 1 or i == label + 1 else 1.0 - smoothing if i == label else 0 for i in range(max(0, label - 1), min(num_classes, label + 2))],\n",
        "                device=targets.device\n",
        "            )\n",
        "\n",
        "        # Normalize to ensure it's a valid probability distribution\n",
        "        soft_labels = F.normalize(soft_labels, p=1, dim=1)\n",
        "        return soft_labels\n"
      ]
    },
    {
      "cell_type": "markdown",
      "metadata": {
        "id": "b_bQemUH4QKt"
      },
      "source": [
        "# Transformer Decoder"
      ]
    },
    {
      "cell_type": "code",
      "execution_count": 6,
      "metadata": {
        "colab": {
          "base_uri": "https://localhost:8080/"
        },
        "id": "euBrakY34sx0",
        "outputId": "633e81c5-f36f-438c-98d7-769d9726fe8d"
      },
      "outputs": [
        {
          "output_type": "stream",
          "name": "stdout",
          "text": [
            "Max length for description 322\n",
            "{'Instrument_Slap Bass 1', 'Chord_A:aug', 'Instrument_Reed Organ', 'Time Signature_12/8', 'Chord_B:dim', 'Mean Duration_23', 'Mean Velocity_16', 'Instrument_Electric Guitar (clean)', 'Chord_C:min', 'Mean Velocity_15', 'Mean Velocity_28', 'Instrument_Guitar Harmonics', 'Instrument_String Ensemble 2', 'Instrument_FX 6 (goblins)', 'Mean Pitch_31', 'Mean Pitch_17', 'Time Signature_6/4', 'Chord_D#:min7', 'Note Density_7', 'Bar_24', 'Chord_C:aug', 'Mean Velocity_0', 'Mean Duration_22', 'Mean Velocity_11', 'Mean Velocity_17', 'Mean Duration_21', 'Instrument_FX 5 (brightness)', 'Instrument_Tinkle Bell', 'Note Density_11', 'Chord_C#:None', 'Chord_D:min7', 'Instrument_Brass Section', 'Chord_G:dim', 'Instrument_Electric Bass (finger)', 'Instrument_Applause', 'Instrument_Church Organ', 'Mean Velocity_25', 'Chord_C#:maj', 'Instrument_Honky-tonk Piano', 'Instrument_Acoustic Guitar (nylon)', 'Chord_C:None', 'Mean Pitch_16', 'Chord_G:aug', 'Instrument_Banjo', 'Instrument_Clavinet', 'Instrument_Acoustic Bass', 'Bar_4', 'Mean Duration_11', 'Chord_C:min7', 'Instrument_FX 7 (echoes)', 'Instrument_Harpsichord', 'Note Density_13', 'Mean Pitch_25', 'Chord_A:None', 'Mean Velocity_5', 'Instrument_Viola', 'Chord_F#:min7', 'Mean Duration_18', 'Instrument_Trombone', 'Time Signature_1/4', 'Note Density_8', 'Chord_A:min7', 'Bar_2', 'Instrument_Bagpipe', 'Chord_D#:dim', 'Instrument_Fiddle', 'Mean Duration_20', 'Chord_A#:None', 'Instrument_Synth Brass 2', 'Instrument_Acoustic Grand Piano', 'Instrument_English Horn', 'Note Density_6', 'Mean Duration_25', 'Instrument_Drawbar Organ', 'Instrument_Rock Organ', 'Instrument_Synth Choir', 'Mean Duration_7', 'Instrument_Woodblock', 'Chord_E:dom7', 'Chord_E:aug', 'Mean Velocity_23', 'Time Signature_8/8', 'Chord_D#:min', 'Mean Velocity_3', 'Instrument_Pad 6 (metallic)', 'Instrument_Tuba', 'Instrument_Whistle', 'Instrument_Pad 5 (bowed)', 'Mean Velocity_8', 'Mean Velocity_4', 'Chord_A:min', 'Instrument_Violin', 'Chord_D:dim', 'Chord_F:None', 'Chord_G:min', 'Instrument_Electric Piano 1', 'Bar_10', 'Instrument_Synth Strings 1', 'Instrument_Alto Sax', 'Instrument_Bassoon', 'Note Density_4', 'Bar_14', 'Instrument_Electric Grand Piano', 'Mean Duration_1', 'Chord_N:N', 'Mean Duration_16', 'Instrument_Pan Flute', 'Chord_A#:dom7', 'Chord_A:dom7', 'Instrument_Gunshot', 'Chord_G#:aug', 'Chord_A#:maj', 'Mean Duration_26', 'Instrument_Pad 1 (new age)', 'Instrument_Pad 3 (polysynth)', 'Instrument_Electric Bass (pick)', 'Mean Velocity_26', 'Note Density_10', 'Instrument_Acoustic Guitar (steel)', 'Chord_G:dom7', 'Chord_C:maj7', 'Instrument_Synth Brass 1', 'Time Signature_5/4', 'Chord_C#:dom7', 'Chord_G:None', 'Instrument_Lead 5 (charang)', 'Mean Velocity_29', 'Time Signature_2/4', 'Instrument_Pad 8 (sweep)', 'Instrument_Agogo', 'Bar_5', 'Instrument_FX 3 (crystal)', 'Mean Pitch_2', 'Instrument_Soprano Sax', 'Mean Duration_10', 'Mean Velocity_31', 'Mean Duration_12', 'Chord_F:dim', 'Chord_A:dim', 'Instrument_Celesta', 'Instrument_Reverse Cymbal', 'Chord_D#:maj7', 'Instrument_Orchestral Harp', 'Instrument_Dulcimer', 'Time Signature_16/16', 'Instrument_Tubular Bells', 'Instrument_Cello', 'Instrument_Lead 7 (fifths)', 'Instrument_Overdriven Guitar', 'Bar_18', 'Mean Pitch_23', 'Chord_B:maj7', 'Instrument_Trumpet', 'Mean Duration_9', 'Bar_3', 'Time Signature_3/4', 'Instrument_String Ensemble 1', 'Chord_A#:min', 'Mean Velocity_24', 'Note Density_2', 'Chord_B:dom7', 'Chord_F:maj7', 'Instrument_drum', 'Chord_B:min', 'Mean Pitch_9', 'Note Density_0', 'Bar_19', 'Bar_16', 'Time Signature_9/8', 'Bar_1', 'Mean Duration_30', 'Instrument_Distortion Guitar', 'Chord_G#:min', 'Chord_F:min7', 'Mean Velocity_7', 'Instrument_Koto', 'Instrument_Synth Bass 1', 'Instrument_Blown bottle', 'Chord_F#:min', 'Chord_F#:aug', 'Mean Pitch_6', 'Chord_F:min', 'Chord_C#:min7', 'Mean Velocity_6', 'Mean Velocity_19', 'Bar_17', 'Instrument_Electric Piano 2', 'Chord_D#:None', 'Mean Pitch_19', 'Instrument_Pad 7 (halo)', 'Mean Velocity_22', 'Chord_C#:min', 'Instrument_Piccolo', 'Bar_22', 'Mean Pitch_20', 'Chord_D:dom7', 'Time Signature_6/8', 'Chord_F#:maj', 'Instrument_Orchestra Hit', 'Mean Pitch_14', 'Instrument_Lead 6 (voice)', 'Chord_B:min7', 'Mean Duration_28', 'Mean Velocity_20', 'Chord_D#:maj', 'Note Density_19', 'Chord_B:aug', 'Instrument_Pad 4 (choir)', 'Mean Pitch_22', 'Mean Velocity_1', 'Time Signature_1/32', 'Instrument_Lead 8 (bass + lead)', 'Chord_G:min7', 'Chord_G#:dim', 'Mean Duration_5', 'Instrument_Steel Drums', 'Instrument_Tango Accordion', 'Mean Duration_31', 'Mean Pitch_24', 'Time Signature_7/8', 'Mean Duration_6', 'Chord_D:aug', 'Bar_15', 'Chord_E:min7', 'Instrument_Tenor Sax', 'Instrument_Ocarina', 'Chord_C#:dim', 'Chord_B:maj', 'Instrument_Vibraphone', 'Chord_G:maj7', 'Instrument_Muted Trumpet', 'Chord_C#:maj7', 'Instrument_Electric Guitar (jazz)', 'Instrument_Xylophone', 'Instrument_Timpani', 'Time Signature_4/8', 'Instrument_Fretless Bass', 'Mean Duration_4', 'Instrument_Choir Aahs', 'Mean Duration_19', 'Chord_D:maj7', 'Note Density_5', 'Instrument_Guitar Fret Noise', 'Mean Pitch_10', 'Instrument_Pizzicato Strings', 'Mean Velocity_27', 'Mean Duration_24', 'Chord_D#:aug', 'Chord_C#:aug', 'Mean Pitch_3', 'Mean Pitch_15', 'Mean Pitch_0', 'Instrument_Recorder', 'Time Signature_10/8', 'Instrument_Percussive Organ', 'Mean Duration_17', 'Chord_E:dim', 'Instrument_Shakuhachi', 'Instrument_FX 8 (sci-fi)', 'Instrument_Harmonica', 'Instrument_Telephone Ring', 'Chord_E:None', 'Mean Velocity_10', 'Chord_G#:dom7', 'Instrument_Pad 2 (warm)', 'Instrument_Taiko Drum', 'Instrument_Flute', 'Chord_B:None', 'Chord_F#:maj7', 'Time Signature_4/4', 'Bar_12', 'Instrument_Breath Noise', 'Mean Velocity_21', 'Chord_D:None', 'Instrument_Tremolo Strings', 'Instrument_Lead 3 (calliope)', 'Chord_A:maj7', 'Mean Duration_27', 'Instrument_Bird Tweet', 'Instrument_FX 1 (rain)', 'Chord_E:maj', 'Mean Duration_14', 'Bar_23', 'Instrument_Glockenspiel', 'Mean Velocity_2', 'Instrument_Lead 1 (square)', 'Chord_F#:None', 'Note Density_12', 'Chord_F:maj', 'Instrument_Lead 4 chiff', 'Note Density_14', 'Mean Pitch_12', 'Bar_6', 'Mean Velocity_9', 'Chord_F:aug', 'Chord_A:maj', 'Instrument_Synth Bass 2', 'Mean Pitch_11', 'Chord_D#:dom7', 'Instrument_Shamisen', 'Bar_13', 'Mean Pitch_8', 'Time Signature_8/4', 'Instrument_Oboe', 'Instrument_Synth Drum', 'Mean Velocity_12', 'Chord_F#:dom7', 'Instrument_Bright Acoustic Piano', 'Mean Velocity_32', 'Instrument_Synth Strings 2', 'Mean Pitch_13', 'Chord_C:maj', 'Mean Pitch_5', 'Chord_G#:None', 'Mean Duration_15', 'Chord_E:min', 'Instrument_Lead 2 (sawtooth)', 'Instrument_French Horn', 'Mean Velocity_18', 'Chord_C:dim', 'Bar_21', 'Instrument_Contrabass', 'Mean Duration_29', 'Instrument_FX 4 (atmosphere)', 'Instrument_Slap Bass 2', 'Mean Pitch_1', 'Mean Pitch_7', 'Chord_A#:maj7', 'Instrument_Shanai', 'Note Density_1', 'Chord_G#:maj7', 'Bar_8', 'Chord_F:dom7', 'Chord_D:maj', 'Chord_G#:min7', 'Time Signature_9/16', 'Instrument_Marimba', 'Mean Pitch_18', 'Bar_11', 'Mean Velocity_30', 'Instrument_Seashore', 'Instrument_Kalimba', 'Instrument_Helicopter', 'Instrument_FX 2 (soundtrack)', 'Bar_9', 'Instrument_Melodic Tom', 'Mean Duration_13', 'Chord_F#:dim', 'Instrument_Clarinet', 'Bar_7', 'Mean Velocity_14', 'Bar_20', 'Chord_C:dom7', 'Chord_E:maj7', 'Instrument_Music Box', 'Time Signature_149/4', 'Note Density_15', 'Instrument_Accordion', 'Chord_A#:aug', 'Mean Duration_0', 'Instrument_Voice Oohs', 'Note Density_3', 'Instrument_Electric Guitar (muted)', 'Chord_G:maj', 'Time Signature_5/8', 'Chord_D:min', 'Mean Velocity_13', 'Instrument_Sitar', 'Note Density_9', 'Chord_G#:maj', 'Chord_A#:dim', 'Mean Pitch_21', 'Mean Duration_32', 'Chord_A#:min7'}\n",
            "Vocab size for description 375\n"
          ]
        }
      ],
      "source": [
        "full_dataset = MusicDataset(df_merged, 'description', numerical_feature=False)"
      ]
    },
    {
      "cell_type": "code",
      "source": [
        "# torch.cuda.empty_cache()\n",
        "# del model"
      ],
      "metadata": {
        "id": "hQn4gXquW5sj"
      },
      "execution_count": 7,
      "outputs": []
    },
    {
      "cell_type": "code",
      "execution_count": 12,
      "metadata": {
        "id": "sFhjlJEnK3od"
      },
      "outputs": [],
      "source": [
        "from torch.utils.data import random_split\n",
        "\n",
        "loader = DataLoader(full_dataset, batch_size=32, shuffle=True)\n",
        "\n",
        "total_size = len(full_dataset)\n",
        "train_size = int(0.9 * total_size)\n",
        "test_size = total_size - train_size\n",
        "\n",
        "# Split the dataset\n",
        "train_dataset, test_dataset = random_split(full_dataset, [train_size, test_size], generator=torch.Generator().manual_seed(42))\n",
        "\n",
        "train_loader = DataLoader(train_dataset, batch_size=32, shuffle=True)\n",
        "test_loader = DataLoader(test_dataset, batch_size=32, shuffle=True)\n",
        "\n",
        "# Model configuration\n",
        "d_model = 16  # Model dimensionality\n",
        "nhead = 8      # Number of heads in multi-head attention\n",
        "num_layers = 4 # Number of transformer layers\n",
        "vocab_size = len(full_dataset.vocab) # Vocabulary size\n",
        "\n",
        "class CustomTransformer(nn.Module):\n",
        "    def __init__(self, vocab_size=vocab_size):\n",
        "        super().__init__()\n",
        "        self.feature_embedding = nn.Linear(10, d_model)  # Assuming 10 numerical features\n",
        "        self.token_embedding = nn.Embedding(vocab_size, d_model, padding_idx=full_dataset.vocab['<PAD>'])\n",
        "        self.positional_encoding = nn.Parameter(torch.zeros(1, 512, d_model)) # Example positional encoding, adjust size as needed\n",
        "        self.decoder = nn.TransformerDecoder(\n",
        "            nn.TransformerDecoderLayer(d_model=d_model, nhead=nhead),\n",
        "            num_layers=num_layers\n",
        "        )\n",
        "        self.output_layer = nn.Linear(d_model, vocab_size)\n",
        "\n",
        "    def forward(self, src, tgt):\n",
        "        src = self.feature_embedding(src).unsqueeze(1) # Transform feature to match input embedding size\n",
        "        tgt = self.token_embedding(tgt) + self.positional_encoding[:,:tgt.size(1),:] # Add positional encoding\n",
        "        output = self.decoder(tgt, src.repeat(1, tgt.size(1), 1))\n",
        "        logits = self.output_layer(output)\n",
        "        return logits"
      ]
    },
    {
      "cell_type": "code",
      "source": [
        "def accuracy(output, target):\n",
        "    \"\"\"\n",
        "    Computes the accuracy of the model.\n",
        "\n",
        "    Parameters:\n",
        "        output (torch.Tensor): The logits or probabilities output by the model.\n",
        "                              Shape should be [batch_size, num_classes] for classification tasks.\n",
        "        target (torch.Tensor): The actual labels. Shape should be [batch_size].\n",
        "\n",
        "    Returns:\n",
        "        float: The accuracy of the model as a percentage.\n",
        "    \"\"\"\n",
        "    # Convert outputs to predicted class by taking the index of the highest probability.\n",
        "    # Assumes that the class with the highest probability is the model's prediction.\n",
        "    _, predicted = torch.max(output, dim=1)\n",
        "\n",
        "    # Check how many predictions were correct by comparing with the target labels.\n",
        "    correct = (predicted == target).sum().item()  # `.item()` converts a tensor of size 1 to a plain Python scalar.\n",
        "\n",
        "    # Calculate the accuracy percentage.\n",
        "    total = target.size(0)\n",
        "    accuracy = 100 * correct / total\n",
        "    return accuracy"
      ],
      "metadata": {
        "id": "vkQpz_ntX2vV"
      },
      "execution_count": 9,
      "outputs": []
    },
    {
      "cell_type": "code",
      "execution_count": 13,
      "metadata": {
        "colab": {
          "base_uri": "https://localhost:8080/"
        },
        "id": "ubAybtH0Ms5n",
        "outputId": "9a17ded2-ff08-4977-f594-81e0d8afbdf9"
      },
      "outputs": [
        {
          "output_type": "stream",
          "name": "stdout",
          "text": [
            "Epoch 1\n",
            "--> Average acc 54.32\n",
            "Average loss 4.65\n",
            "Seconds per epoch 17.419701\n",
            "Epoch 2\n",
            "Average loss 3.88\n",
            "Seconds per epoch 16.684718\n",
            "Epoch 3\n",
            "Average loss 3.31\n",
            "Seconds per epoch 16.425316\n",
            "Epoch 4\n",
            "Average loss 3.03\n",
            "Seconds per epoch 16.330076\n",
            "Epoch 5\n",
            "Average loss 2.67\n",
            "Seconds per epoch 16.142197\n",
            "Epoch 6\n",
            "Average loss 2.45\n",
            "Seconds per epoch 16.174409\n",
            "Epoch 7\n",
            "Average loss 2.34\n",
            "Seconds per epoch 16.242191\n",
            "Epoch 8\n",
            "Average loss 2.29\n",
            "Seconds per epoch 16.204738\n",
            "Epoch 9\n",
            "Average loss 2.25\n",
            "Seconds per epoch 16.21069\n",
            "Epoch 10\n",
            "Average loss 2.23\n",
            "Seconds per epoch 16.168636\n",
            "Epoch 11\n",
            "--> Average acc 57.36\n",
            "Average loss 2.22\n",
            "Seconds per epoch 16.756513\n",
            "Epoch 12\n",
            "Average loss 2.21\n",
            "Seconds per epoch 16.161075\n",
            "Epoch 13\n",
            "Average loss 2.20\n",
            "Seconds per epoch 16.179446\n",
            "Epoch 14\n",
            "Average loss 2.19\n",
            "Seconds per epoch 16.192049\n",
            "Epoch 15\n",
            "Average loss 2.15\n",
            "Seconds per epoch 16.177588\n",
            "Epoch 16\n",
            "Average loss 2.04\n",
            "Seconds per epoch 16.18054\n",
            "Epoch 17\n",
            "Average loss 1.93\n",
            "Seconds per epoch 16.184548\n",
            "Epoch 18\n",
            "Average loss 1.81\n",
            "Seconds per epoch 16.20485\n",
            "Epoch 19\n",
            "Average loss 1.71\n",
            "Seconds per epoch 16.200202\n",
            "Epoch 20\n",
            "Average loss 1.62\n",
            "Seconds per epoch 16.169039\n",
            "Epoch 21\n",
            "--> Average acc 66.24\n",
            "Average loss 1.56\n",
            "Seconds per epoch 16.788997\n",
            "Epoch 22\n",
            "Average loss 1.50\n",
            "Seconds per epoch 16.211725\n",
            "Epoch 23\n",
            "Average loss 1.46\n",
            "Seconds per epoch 16.235729\n",
            "Epoch 24\n",
            "Average loss 1.44\n",
            "Seconds per epoch 16.224755\n",
            "Epoch 25\n",
            "Average loss 1.42\n",
            "Seconds per epoch 16.235948\n",
            "Epoch 26\n",
            "Average loss 1.40\n",
            "Seconds per epoch 16.261768\n",
            "Epoch 27\n",
            "Average loss 1.38\n",
            "Seconds per epoch 16.227498\n",
            "Epoch 28\n",
            "Average loss 1.37\n",
            "Seconds per epoch 16.229052\n",
            "Epoch 29\n",
            "Average loss 1.36\n",
            "Seconds per epoch 16.210024\n",
            "Epoch 30\n",
            "Average loss 1.35\n",
            "Seconds per epoch 16.190594\n",
            "Epoch 31\n",
            "--> Average acc 67.27\n",
            "Average loss 1.34\n",
            "Seconds per epoch 16.778205\n",
            "Epoch 32\n",
            "Average loss 1.33\n",
            "Seconds per epoch 16.175986\n",
            "Epoch 33\n",
            "Average loss 1.32\n",
            "Seconds per epoch 16.176459\n",
            "Epoch 34\n",
            "Average loss 1.32\n",
            "Seconds per epoch 16.186622\n",
            "Epoch 35\n",
            "Average loss 1.31\n",
            "Seconds per epoch 16.185445\n",
            "Epoch 36\n",
            "Average loss 1.31\n",
            "Seconds per epoch 16.168876\n",
            "Epoch 37\n",
            "Average loss 1.30\n",
            "Seconds per epoch 16.189005\n",
            "Epoch 38\n",
            "Average loss 1.29\n",
            "Seconds per epoch 16.224811\n",
            "Epoch 39\n",
            "Average loss 1.29\n",
            "Seconds per epoch 16.223565\n",
            "Epoch 40\n",
            "Average loss 1.29\n",
            "Seconds per epoch 16.178097\n",
            "Epoch 41\n",
            "--> Average acc 67.65\n",
            "Average loss 1.28\n",
            "Seconds per epoch 16.763379\n",
            "Epoch 42\n",
            "Average loss 1.28\n",
            "Seconds per epoch 16.177002\n",
            "Epoch 43\n",
            "Average loss 1.27\n",
            "Seconds per epoch 16.184215\n",
            "Epoch 44\n",
            "Average loss 1.27\n",
            "Seconds per epoch 16.173791\n",
            "Epoch 45\n",
            "Average loss 1.27\n",
            "Seconds per epoch 16.163253\n",
            "Epoch 46\n",
            "Average loss 1.26\n",
            "Seconds per epoch 16.167075\n",
            "Epoch 47\n",
            "Average loss 1.26\n",
            "Seconds per epoch 16.182402\n",
            "Epoch 48\n",
            "Average loss 1.26\n",
            "Seconds per epoch 16.184268\n",
            "Epoch 49\n",
            "Average loss 1.25\n",
            "Seconds per epoch 16.168078\n",
            "Epoch 50\n",
            "Average loss 1.25\n",
            "Seconds per epoch 16.167915\n",
            "Epoch 51\n",
            "--> Average acc 67.87\n",
            "Average loss 1.25\n",
            "Seconds per epoch 16.779298\n",
            "Epoch 52\n",
            "Average loss 1.25\n",
            "Seconds per epoch 16.187641\n",
            "Epoch 53\n",
            "Average loss 1.24\n",
            "Seconds per epoch 16.16917\n",
            "Epoch 54\n",
            "Average loss 1.24\n",
            "Seconds per epoch 16.242078\n",
            "Epoch 55\n",
            "Average loss 1.24\n",
            "Seconds per epoch 16.167034\n",
            "Epoch 56\n",
            "Average loss 1.24\n",
            "Seconds per epoch 16.188748\n",
            "Epoch 57\n",
            "Average loss 1.24\n",
            "Seconds per epoch 16.175117\n",
            "Epoch 58\n",
            "Average loss 1.24\n",
            "Seconds per epoch 16.157633\n",
            "Epoch 59\n",
            "Average loss 1.23\n",
            "Seconds per epoch 16.159039\n",
            "Epoch 60\n",
            "Average loss 1.23\n",
            "Seconds per epoch 16.182469\n",
            "Epoch 61\n",
            "--> Average acc 68.05\n",
            "Average loss 1.23\n",
            "Seconds per epoch 16.786334\n",
            "Epoch 62\n",
            "Average loss 1.23\n",
            "Seconds per epoch 16.162415\n",
            "Epoch 63\n",
            "Average loss 1.23\n",
            "Seconds per epoch 16.163405\n",
            "Epoch 64\n",
            "Average loss 1.23\n",
            "Seconds per epoch 16.173794\n",
            "Epoch 65\n",
            "Average loss 1.23\n",
            "Seconds per epoch 16.189984\n",
            "Epoch 66\n",
            "Average loss 1.22\n",
            "Seconds per epoch 16.170363\n",
            "Epoch 67\n",
            "Average loss 1.22\n",
            "Seconds per epoch 16.167333\n",
            "Epoch 68\n",
            "Average loss 1.22\n",
            "Seconds per epoch 16.159028\n",
            "Epoch 69\n",
            "Average loss 1.22\n",
            "Seconds per epoch 16.185869\n",
            "Epoch 70\n",
            "Average loss 1.22\n",
            "Seconds per epoch 16.222921\n",
            "Epoch 71\n",
            "--> Average acc 68.08\n",
            "Average loss 1.22\n",
            "Seconds per epoch 16.762518\n",
            "Epoch 72\n",
            "Average loss 1.22\n",
            "Seconds per epoch 16.174058\n",
            "Epoch 73\n",
            "Average loss 1.22\n",
            "Seconds per epoch 16.179111\n",
            "Epoch 74\n",
            "Average loss 1.22\n",
            "Seconds per epoch 16.191768\n",
            "Epoch 75\n",
            "Average loss 1.22\n",
            "Seconds per epoch 16.170995\n",
            "Epoch 76\n",
            "Average loss 1.22\n",
            "Seconds per epoch 16.165659\n",
            "Epoch 77\n",
            "Average loss 1.22\n",
            "Seconds per epoch 16.165685\n",
            "Epoch 78\n",
            "Average loss 1.21\n",
            "Seconds per epoch 16.192369\n",
            "Epoch 79\n",
            "Average loss 1.21\n",
            "Seconds per epoch 16.178412\n",
            "Epoch 80\n",
            "Average loss 1.21\n",
            "Seconds per epoch 16.166325\n",
            "Epoch 81\n",
            "--> Average acc 68.15\n",
            "Average loss 1.21\n",
            "Seconds per epoch 16.757716\n",
            "Epoch 82\n",
            "Average loss 1.21\n",
            "Seconds per epoch 16.185137\n",
            "Epoch 83\n",
            "Average loss 1.21\n",
            "Seconds per epoch 16.191015\n",
            "Epoch 84\n",
            "Average loss 1.21\n",
            "Seconds per epoch 16.157911\n",
            "Epoch 85\n",
            "Average loss 1.21\n",
            "Seconds per epoch 16.210769\n",
            "Epoch 86\n",
            "Average loss 1.21\n",
            "Seconds per epoch 16.16973\n",
            "Epoch 87\n",
            "Average loss 1.21\n",
            "Seconds per epoch 16.182318\n",
            "Epoch 88\n",
            "Average loss 1.21\n",
            "Seconds per epoch 16.162531\n",
            "Epoch 89\n",
            "Average loss 1.21\n",
            "Seconds per epoch 16.179708\n",
            "Epoch 90\n",
            "Average loss 1.21\n",
            "Seconds per epoch 16.171879\n",
            "Epoch 91\n",
            "--> Average acc 68.22\n",
            "Average loss 1.21\n",
            "Seconds per epoch 16.784716\n",
            "Epoch 92\n",
            "Average loss 1.21\n",
            "Seconds per epoch 16.157443\n",
            "Epoch 93\n",
            "Average loss 1.21\n",
            "Seconds per epoch 16.160958\n",
            "Epoch 94\n",
            "Average loss 1.20\n",
            "Seconds per epoch 16.207551\n",
            "Epoch 95\n",
            "Average loss 1.20\n",
            "Seconds per epoch 16.216207\n",
            "Epoch 96\n",
            "Average loss 1.20\n",
            "Seconds per epoch 16.24823\n",
            "Epoch 97\n",
            "Average loss 1.20\n",
            "Seconds per epoch 16.165378\n",
            "Epoch 98\n",
            "Average loss 1.20\n",
            "Seconds per epoch 16.167243\n",
            "Epoch 99\n",
            "Average loss 1.20\n",
            "Seconds per epoch 16.163174\n",
            "Epoch 100\n",
            "Average loss 1.20\n",
            "Seconds per epoch 16.183555\n"
          ]
        }
      ],
      "source": [
        "import datetime\n",
        "import json\n",
        "# Initialize model\n",
        "model = CustomTransformer().to(device)\n",
        "optimizer = torch.optim.Adam(model.parameters(), lr=0.0001)\n",
        "\n",
        "def evaluate(model, loader):\n",
        "  with torch.no_grad():\n",
        "    accuracies = []\n",
        "    for feature, description, _ in loader:\n",
        "          input_tgt = description[:, :-1]\n",
        "          logits = model(feature, input_tgt)\n",
        "          acc = accuracy(logits.reshape(-1, logits.shape[-1]), description[:, 1:].reshape(-1))\n",
        "          accuracies.append(acc)\n",
        "  return np.mean(accuracies)\n",
        "\n",
        "metrics = {\n",
        "    \"loss\": [],\n",
        "    \"acc\": []\n",
        "}\n",
        "# Training loop\n",
        "for epoch in range(100):\n",
        "    print(\"Epoch\", epoch+1)\n",
        "    epoch_losses = []\n",
        "    epoch_acc = []\n",
        "    start = datetime.datetime.utcnow()\n",
        "    loss_fn = nn.CrossEntropyLoss()\n",
        "    for feature, description, _ in train_loader:\n",
        "        optimizer.zero_grad()\n",
        "        # Prepare shifted target input and labels for training\n",
        "        # input_tgt = torch.cat([torch.full((description.shape[0], 1), full_dataset.vocab['<PAD>'], dtype=torch.long), description[:, :-1].cpu()], dim=1).to(device)\n",
        "        input_tgt = description[:, :-1]\n",
        "        logits = model(feature, input_tgt)\n",
        "        loss = loss_fn(logits.permute(0, 2, 1), description[:, 1:])\n",
        "        # acc = accuracy(logits.reshape(-1, logits.shape[-1]), description[:, 1:].reshape(-1))\n",
        "        # epoch_acc.append(acc)\n",
        "        loss.backward()\n",
        "        optimizer.step()\n",
        "        epoch_losses.append(loss.item())\n",
        "        # print(f'Epoch {epoch}, Loss: {loss.item()}')\n",
        "    if epoch % 10 == 0:\n",
        "      acc = evaluate(model, test_loader)\n",
        "      print(f\"--> Average acc {acc:.2f}\")\n",
        "      metrics['acc'].append(acc)\n",
        "\n",
        "    print(f\"Average loss {np.mean(epoch_losses):.2f}\")\n",
        "    print(f\"Seconds per epoch\", (datetime.datetime.utcnow() - start).total_seconds())\n",
        "    metrics['loss'] += epoch_losses\n",
        "    metrics['acc'] += epoch_acc\n",
        "\n",
        "torch.save(model, \"transformer.pt\")\n",
        "with open(\"transformer.json\", mode=\"w\") as f:\n",
        "    json.dump(metrics, f)"
      ]
    },
    {
      "cell_type": "markdown",
      "source": [
        "# LSTM"
      ],
      "metadata": {
        "id": "r95RLYyVXdKe"
      }
    },
    {
      "cell_type": "code",
      "execution_count": 14,
      "metadata": {
        "id": "3fnpMZHodnUY"
      },
      "outputs": [],
      "source": [
        "from torch.autograd import Variable\n",
        "\n",
        "# LSTM Model Configuration\n",
        "class LSTMModel(nn.Module):\n",
        "    def __init__(self, vocab_size=vocab_size, numerical=False):\n",
        "        super().__init__()\n",
        "        self.embedding_dim = 128\n",
        "        self.hidden_dim = 256\n",
        "        self.vocab_size = vocab_size\n",
        "        self.numerical = numerical\n",
        "        if not numerical:\n",
        "          self.embedding = nn.Embedding(self.vocab_size, self.embedding_dim, padding_idx=0)\n",
        "\n",
        "          self.lstm = nn.LSTM(self.embedding_dim + 10, self.hidden_dim, batch_first=True, num_layers=6)  # +10 for concatenated features\n",
        "        else:\n",
        "          self.lstm = nn.LSTM(1 + 10, self.hidden_dim, batch_first=True)  # +10 for concatenated features\n",
        "        self.fc = nn.Linear(self.hidden_dim, self.vocab_size)\n",
        "\n",
        "    def forward(self, features, descriptions):\n",
        "        if self.numerical:\n",
        "          embeddings = descriptions.unsqueeze(-1)\n",
        "        else:\n",
        "          embeddings = self.embedding(descriptions)\n",
        "\n",
        "        h_0 = Variable(torch.zeros(6, descriptions.shape[0], self.hidden_dim).cuda())\n",
        "        c_0 = Variable(torch.zeros(6, descriptions.shape[0], self.hidden_dim).cuda())\n",
        "        # Concatenate features to each input embedding\n",
        "        features_expanded = features.unsqueeze(1).repeat(1, descriptions.size(1), 1)\n",
        "        lstm_input = torch.cat((embeddings, features_expanded), dim=2)\n",
        "        lstm_out, _ = self.lstm(lstm_input, (h_0, c_0))\n",
        "        logits = self.fc(lstm_out)\n",
        "        return logits\n",
        "\n",
        "    def sample(self, features, input, max_len=100):\n",
        "        h_0 = Variable(torch.zeros(6, 1, self.hidden_dim).cuda())\n",
        "        c_0 = Variable(torch.zeros(6, 1, self.hidden_dim).cuda())\n",
        "        features_expanded = features.unsqueeze(0).unsqueeze(0)\n",
        "        result = []\n",
        "        input = input.unsqueeze(0).unsqueeze(0).cuda()\n",
        "        for i in range(max_len):\n",
        "            # print(\"h0\", h_0)\n",
        "            if self.numerical:\n",
        "              embeddings = input.unsqueeze(-1)\n",
        "            else:\n",
        "              embeddings = self.embedding(input)\n",
        "            lstm_input = torch.cat((embeddings, features_expanded), dim=2)\n",
        "            lstm_out, (new_h_0, new_c_0) = self.lstm(lstm_input, (h_0, c_0))\n",
        "            h_0 = new_h_0\n",
        "            c_0 = new_c_0\n",
        "            logits = self.fc(lstm_out)\n",
        "            prediction = logits.argmax(-1)\n",
        "            result.append(prediction.item())\n",
        "            input = prediction\n",
        "            # features_expanded = torch.cat((features_expanded, features.unsqueeze(0).unsqueeze(0)), dim=1)\n",
        "        return result"
      ]
    },
    {
      "cell_type": "markdown",
      "metadata": {
        "id": "F5D7KtEpVp_H"
      },
      "source": [
        "## Evaluation with soft-labels\n",
        "\n",
        "\n"
      ]
    },
    {
      "cell_type": "code",
      "source": [
        "@cache\n",
        "def create_soft_labels(targets, num_classes, smoothing=0.5):\n",
        "    \"\"\"\n",
        "    Creates soft labels using a Gaussian distribution centered at each target label.\n",
        "    :param targets: tensor of shape [baseparatelytch_size, seq_length] with integer class labels.\n",
        "    :param num_classes: total number of classes.\n",
        "    :param smoothing: controls the spread of the distribution around the class label.\n",
        "    :return: tensor of shape [batch_size, seq_length, num_classes] with soft labels.\n",
        "    \"\"\"\n",
        "    batch_size, seq_length = targets.size()\n",
        "    soft_labels = torch.zeros(batch_size, seq_length, num_classes, device=targets.device)\n",
        "\n",
        "    # Create a Gaussian distribution centered at each target label\n",
        "    for b in range(batch_size):\n",
        "        for s in range(seq_length):\n",
        "            label = targets[b, s]\n",
        "            soft_labels[b, s, max(0, label - 1):min(num_classes, label + 2)] = torch.tensor(\n",
        "                [smoothing / 2 if i == label - 1 or i == label + 1 else 1.0 - smoothing if i == label else 0 for i in range(max(0, label - 1), min(num_classes, label + 2))],\n",
        "                device=targets.device\n",
        "            )\n",
        "\n",
        "    # Normalize to ensure it's a valid probability distribution\n",
        "    soft_labels = F.normalize(soft_labels, p=1, dim=2)\n",
        "    return soft_labels\n",
        "\n",
        "class SoftLabelCrossEntropyLoss(nn.Module):\n",
        "    def __init__(self):\n",
        "        super(SoftLabelCrossEntropyLoss, self).__init__()\n",
        "\n",
        "    def forward(self, logits, soft_labels):\n",
        "        \"\"\"\n",
        "        Calculates cross-entropy loss between logits and soft labels.\n",
        "        :param logits: tensor of shape [batch_size, seq_length, num_classes] with raw scores.\n",
        "        :param soft_labels: tensor of shape [batch_size, seq_length, num_classes] with soft labels.\n",
        "        :return: scalar tensor with loss.\n",
        "        \"\"\"\n",
        "        log_probs = F.log_softmax(logits, dim=2)\n",
        "        loss = -torch.sum(soft_labels * log_probs) / logits.size(0)\n",
        "        return loss"
      ],
      "metadata": {
        "id": "q1YAl5yWBM7W"
      },
      "execution_count": 15,
      "outputs": []
    },
    {
      "cell_type": "code",
      "execution_count": 16,
      "metadata": {
        "id": "AThwmr5JefsR"
      },
      "outputs": [],
      "source": [
        "from tqdm import tqdm\n",
        "def accuracy(input, output):\n",
        "  total = 0\n",
        "  correct = 0\n",
        "  for i in range(len(input)):\n",
        "    if input[i] == 0:\n",
        "      continue\n",
        "\n",
        "    total += 1\n",
        "    if input[i] == output[i]:\n",
        "      correct += 1\n",
        "  return correct / total\n",
        "\n",
        "def kld_soft_labels(logits, soft_labels):\n",
        "    \"\"\"\n",
        "    Calculates the Kullback-Leibler Divergence between model predictions (as probabilities) and soft labels.\n",
        "    :param logits: tensor of shape [batch_size, seq_length, num_classes] with raw scores.\n",
        "    :param soft_labels: tensor of shape [batch_size, seq_length, num_classes] with soft labels.\n",
        "    :return: scalar tensor representing the KLD.\n",
        "    \"\"\"\n",
        "    log_probs = F.log_softmax(logits, dim=2)\n",
        "    probs = F.softmax(logits, dim=2)\n",
        "    kld_loss = torch.sum(soft_labels * (torch.log(soft_labels + 1e-10) - log_probs), dim=2).mean()\n",
        "    return kld_loss\n",
        "\n",
        "    # # Usage example\n",
        "    # kld_value = kld_soft_labels(logits, soft_labels)\n",
        "    # print(\"KLD:\", kld_value.item())\n",
        "\n",
        "def evaluate_soft_labels(dataset, model):\n",
        "  loader = DataLoader(dataset, batch_size=64, shuffle=True)\n",
        "  cnt = 0\n",
        "  klds = []\n",
        "  with torch.no_grad():\n",
        "    for feature, description, soft_labels in loader:\n",
        "      cnt += 1\n",
        "      # if cnt > 50:\n",
        "      #   break\n",
        "      input_desc = description[:, :-1]\n",
        "      logits = model(feature, input_desc)\n",
        "\n",
        "      target = soft_labels[:, 1:]\n",
        "      # target = create_soft_labels(target, len(dataset.vocab))\n",
        "      klds.append(kld_soft_labels(logits, target).item())\n",
        "  print(f\"Avg. KL-Divergence {np.mean(klds):.2f}\")\n",
        "  return np.mean(klds)\n",
        "\n",
        "\n",
        "# Only categorical\n",
        "def evaluate(dataset, model, soft_labels=False):\n",
        "  loader = DataLoader(dataset, batch_size=1, shuffle=True)\n",
        "\n",
        "  pred = []\n",
        "  target = []\n",
        "  print(\"Evaluating ... \")\n",
        "  count = 0\n",
        "  with torch.no_grad():\n",
        "    for feature, desc, _ in tqdm(loader):\n",
        "      count += 1\n",
        "      # if count > 50:\n",
        "      #   break\n",
        "      out = model.sample(feature[0], desc[0][0], max_len=desc.shape[1])\n",
        "      # print(desc[0][0])\n",
        "      # print(out)\n",
        "      pred += out\n",
        "      target += desc[0].cpu().numpy().tolist()\n",
        "\n",
        "  # print(\"pred\", pred)\n",
        "  # print(len(pred), len(target))\n",
        "  assert len(pred) == len(target)\n",
        "  acc = accuracy(target, pred)\n",
        "  print(f\"Accuracy {acc:.2f}\")\n",
        "  if soft_labels:\n",
        "    kld = evaluate_soft_labels(dataset, model)\n",
        "  else:\n",
        "    kld = None\n",
        "  return acc, kld\n"
      ]
    },
    {
      "cell_type": "code",
      "execution_count": 25,
      "metadata": {
        "id": "aj6rVLDWWwpR"
      },
      "outputs": [],
      "source": [
        "import datetime\n",
        "from torch.utils.data import random_split\n",
        "\n",
        "\n",
        "def train_on_subset(dataset, numerical=False, soft_labels=False):\n",
        "\n",
        "    total_size = len(dataset)\n",
        "    train_size = int(0.9 * total_size)\n",
        "    test_size = total_size - train_size\n",
        "\n",
        "    # Split the dataset\n",
        "    train_dataset, test_dataset = random_split(dataset, [train_size, test_size], generator=torch.Generator().manual_seed(42))\n",
        "    train_loader = DataLoader(train_dataset, batch_size=192, shuffle=True)\n",
        "    # Initialize model\n",
        "\n",
        "    model_vocab_size = 1 if numerical else len(dataset.vocab)\n",
        "    model = LSTMModel(model_vocab_size, numerical).to(device)\n",
        "    optimizer = torch.optim.Adam(model.parameters(), lr=0.005)\n",
        "\n",
        "    # Set up the learning rate scheduler\n",
        "    scheduler = torch.optim.lr_scheduler.StepLR(optimizer, step_size=30, gamma=0.1)\n",
        "    if numerical:\n",
        "      loss_fn = nn.MSELoss()\n",
        "    elif soft_labels:\n",
        "      loss_fn = SoftLabelCrossEntropyLoss()\n",
        "    else:\n",
        "      loss_fn = nn.CrossEntropyLoss()\n",
        "    # Training loop\n",
        "    losses = []\n",
        "    metrics = {\n",
        "        \"loss\": [],\n",
        "        \"acc\": [],\n",
        "        \"kld\": []\n",
        "    }\n",
        "    for epoch in range(100):\n",
        "        # print(\"Epoch\", epoch+1)\n",
        "        epoch_losses = []\n",
        "        start =datetime.datetime.utcnow()\n",
        "        for feature, description, soft_target in train_loader:\n",
        "            optimizer.zero_grad()\n",
        "            model.zero_grad()\n",
        "            input_desc = description[:, :-1]\n",
        "            logits = model(feature, input_desc)\n",
        "\n",
        "            target = description[:, 1:]\n",
        "            if numerical:\n",
        "              target = target.float()\n",
        "              logits = logits.squeeze(-1)\n",
        "            elif not soft_labels:\n",
        "              logits = logits.permute(0, 2, 1)\n",
        "\n",
        "            if soft_labels:\n",
        "              target = soft_target[:, 1:]\n",
        "            loss = loss_fn(logits, target)\n",
        "            loss.backward()\n",
        "            optimizer.step()\n",
        "            epoch_losses.append(loss.item())\n",
        "        scheduler.step()\n",
        "        if epoch % 10 == 0:\n",
        "          print(\"Epoch\", epoch+1)\n",
        "          print(f\"Average epoch loss: {np.mean(epoch_losses)}\")\n",
        "          acc, kld = evaluate(test_dataset, model, soft_labels=soft_labels)\n",
        "          metrics['acc'].append(acc)\n",
        "          metrics['kld'].append(kld)\n",
        "        losses += epoch_losses\n",
        "    metrics['loss'] = losses\n",
        "    return metrics, model"
      ]
    },
    {
      "cell_type": "code",
      "execution_count": 26,
      "metadata": {
        "colab": {
          "base_uri": "https://localhost:8080/"
        },
        "id": "gReoxiMQkOFZ",
        "outputId": "b900bd95-a872-4107-caa9-4522059269d5"
      },
      "outputs": [
        {
          "metadata": {
            "tags": null
          },
          "name": "stdout",
          "output_type": "stream",
          "text": [
            "Epoch 1\n",
            "Average epoch loss: 2.9842700864754472\n",
            "Evaluating ... \n"
          ]
        },
        {
          "metadata": {
            "tags": null
          },
          "name": "stderr",
          "output_type": "stream",
          "text": [
            "100%|██████████| 1075/1075 [03:22<00:00,  5.32it/s]\n"
          ]
        },
        {
          "metadata": {
            "tags": null
          },
          "name": "stdout",
          "output_type": "stream",
          "text": [
            "Accuracy 0.00\n",
            "Epoch 11\n",
            "Average epoch loss: 2.2860706366744696\n",
            "Evaluating ... \n"
          ]
        },
        {
          "metadata": {
            "tags": null
          },
          "name": "stderr",
          "output_type": "stream",
          "text": [
            "100%|██████████| 1075/1075 [03:23<00:00,  5.28it/s]\n"
          ]
        },
        {
          "metadata": {
            "tags": null
          },
          "name": "stdout",
          "output_type": "stream",
          "text": [
            "Accuracy 0.04\n",
            "Epoch 21\n",
            "Average epoch loss: 2.2844922308828317\n",
            "Evaluating ... \n"
          ]
        },
        {
          "metadata": {
            "tags": null
          },
          "name": "stderr",
          "output_type": "stream",
          "text": [
            "100%|██████████| 1075/1075 [03:21<00:00,  5.34it/s]\n"
          ]
        },
        {
          "metadata": {
            "tags": null
          },
          "name": "stdout",
          "output_type": "stream",
          "text": [
            "Accuracy 0.04\n",
            "Epoch 31\n",
            "Average epoch loss: 2.247544241886513\n",
            "Evaluating ... \n"
          ]
        },
        {
          "metadata": {
            "tags": null
          },
          "name": "stderr",
          "output_type": "stream",
          "text": [
            "100%|██████████| 1075/1075 [03:20<00:00,  5.35it/s]\n"
          ]
        },
        {
          "metadata": {
            "tags": null
          },
          "name": "stdout",
          "output_type": "stream",
          "text": [
            "Accuracy 0.04\n",
            "Epoch 41\n",
            "Average epoch loss: 2.2475453030829335\n",
            "Evaluating ... \n"
          ]
        },
        {
          "metadata": {
            "tags": null
          },
          "name": "stderr",
          "output_type": "stream",
          "text": [
            "100%|██████████| 1075/1075 [03:21<00:00,  5.34it/s]\n"
          ]
        },
        {
          "metadata": {
            "tags": null
          },
          "name": "stdout",
          "output_type": "stream",
          "text": [
            "Accuracy 0.05\n",
            "Epoch 51\n",
            "Average epoch loss: 2.2467539544199027\n",
            "Evaluating ... \n"
          ]
        },
        {
          "metadata": {
            "tags": null
          },
          "name": "stderr",
          "output_type": "stream",
          "text": [
            "100%|██████████| 1075/1075 [03:21<00:00,  5.33it/s]\n"
          ]
        },
        {
          "metadata": {
            "tags": null
          },
          "name": "stdout",
          "output_type": "stream",
          "text": [
            "Accuracy 0.05\n",
            "Epoch 61\n",
            "Average epoch loss: 2.2429644453759288\n",
            "Evaluating ... \n"
          ]
        },
        {
          "metadata": {
            "tags": null
          },
          "name": "stderr",
          "output_type": "stream",
          "text": [
            "100%|██████████| 1075/1075 [03:20<00:00,  5.37it/s]\n"
          ]
        },
        {
          "metadata": {
            "tags": null
          },
          "name": "stdout",
          "output_type": "stream",
          "text": [
            "Accuracy 0.05\n",
            "Epoch 71\n",
            "Average epoch loss: 2.2419675518484676\n",
            "Evaluating ... \n"
          ]
        },
        {
          "metadata": {
            "tags": null
          },
          "name": "stderr",
          "output_type": "stream",
          "text": [
            "100%|██████████| 1075/1075 [03:20<00:00,  5.35it/s]\n"
          ]
        },
        {
          "metadata": {
            "tags": null
          },
          "name": "stdout",
          "output_type": "stream",
          "text": [
            "Accuracy 0.05\n",
            "Epoch 81\n",
            "Average epoch loss: 2.2437906545751236\n",
            "Evaluating ... \n"
          ]
        },
        {
          "metadata": {
            "tags": null
          },
          "name": "stderr",
          "output_type": "stream",
          "text": [
            "100%|██████████| 1075/1075 [03:23<00:00,  5.28it/s]\n"
          ]
        },
        {
          "metadata": {
            "tags": null
          },
          "name": "stdout",
          "output_type": "stream",
          "text": [
            "Accuracy 0.05\n",
            "Epoch 91\n",
            "Average epoch loss: 2.2424767344605687\n",
            "Evaluating ... \n"
          ]
        },
        {
          "output_type": "stream",
          "name": "stderr",
          "text": [
            "100%|██████████| 1075/1075 [03:20<00:00,  5.37it/s]\n"
          ]
        },
        {
          "output_type": "stream",
          "name": "stdout",
          "text": [
            "Accuracy 0.05\n"
          ]
        }
      ],
      "source": [
        "metrics, model = train_on_subset(full_dataset, numerical=False)\n",
        "torch.save(model, 'full_lstm.pt')\n",
        "\n",
        "\n",
        "with open(\"full_lstm.json\", mode=\"w\") as f:\n",
        "  json.dump(metrics, f)"
      ]
    },
    {
      "cell_type": "markdown",
      "source": [
        "## Training on sequences of one token category"
      ],
      "metadata": {
        "id": "w96wwCiGan5_"
      }
    },
    {
      "cell_type": "code",
      "source": [
        "import json\n",
        "\n",
        "pitch_dataset = MusicDataset(df_merged, 'pitch_description', numerical_feature=False, soft_labels=True)\n",
        "metrics, model = train_on_subset(pitch_dataset, numerical=False, soft_labels=True)\n",
        "torch.save(model, \"pitch_lstm.pt\")\n",
        "\n",
        "with open(\"pitch_lstm.json\", mode=\"w\") as f:\n",
        "  json.dump(metrics, f)"
      ],
      "metadata": {
        "colab": {
          "base_uri": "https://localhost:8080/"
        },
        "id": "YXXHlJVqs7Lb",
        "outputId": "515146f3-c861-4439-94e0-aadd38ae1e37"
      },
      "execution_count": 20,
      "outputs": [
        {
          "output_type": "stream",
          "name": "stdout",
          "text": [
            "Max length for pitch_description 12\n",
            "['Mean Pitch_0', 'Mean Pitch_1', 'Mean Pitch_2', 'Mean Pitch_3', 'Mean Pitch_5', 'Mean Pitch_6', 'Mean Pitch_7', 'Mean Pitch_8', 'Mean Pitch_9', 'Mean Pitch_10', 'Mean Pitch_11', 'Mean Pitch_12', 'Mean Pitch_13', 'Mean Pitch_14', 'Mean Pitch_15', 'Mean Pitch_16', 'Mean Pitch_17', 'Mean Pitch_18', 'Mean Pitch_19', 'Mean Pitch_20', 'Mean Pitch_21', 'Mean Pitch_22', 'Mean Pitch_23', 'Mean Pitch_24', 'Mean Pitch_25', 'Mean Pitch_31']\n",
            "Vocab size for pitch_description 27\n",
            "Epoch 1\n",
            "Average epoch loss: 23.958279553581686\n",
            "Evaluating ... \n"
          ]
        },
        {
          "output_type": "stream",
          "name": "stderr",
          "text": [
            "100%|██████████| 1075/1075 [00:11<00:00, 95.45it/s] \n"
          ]
        },
        {
          "output_type": "stream",
          "name": "stdout",
          "text": [
            "Accuracy 0.25\n",
            "Avg. KL-Divergence 1.14\n",
            "Epoch 11\n",
            "Average epoch loss: 21.36571760738597\n",
            "Evaluating ... \n"
          ]
        },
        {
          "output_type": "stream",
          "name": "stderr",
          "text": [
            "100%|██████████| 1075/1075 [00:07<00:00, 140.16it/s]\n"
          ]
        },
        {
          "output_type": "stream",
          "name": "stdout",
          "text": [
            "Accuracy 0.37\n",
            "Avg. KL-Divergence 0.80\n",
            "Epoch 21\n",
            "Average epoch loss: 16.552852294024298\n",
            "Evaluating ... \n"
          ]
        },
        {
          "output_type": "stream",
          "name": "stderr",
          "text": [
            "100%|██████████| 1075/1075 [00:08<00:00, 126.92it/s]\n"
          ]
        },
        {
          "output_type": "stream",
          "name": "stdout",
          "text": [
            "Accuracy 0.48\n",
            "Avg. KL-Divergence 0.51\n",
            "Epoch 31\n",
            "Average epoch loss: 16.305354978524\n",
            "Evaluating ... \n"
          ]
        },
        {
          "output_type": "stream",
          "name": "stderr",
          "text": [
            "100%|██████████| 1075/1075 [00:08<00:00, 126.24it/s]\n"
          ]
        },
        {
          "output_type": "stream",
          "name": "stdout",
          "text": [
            "Accuracy 0.49\n",
            "Avg. KL-Divergence 0.49\n",
            "Epoch 41\n",
            "Average epoch loss: 16.216578726674996\n",
            "Evaluating ... \n"
          ]
        },
        {
          "output_type": "stream",
          "name": "stderr",
          "text": [
            "100%|██████████| 1075/1075 [00:07<00:00, 140.01it/s]\n"
          ]
        },
        {
          "output_type": "stream",
          "name": "stdout",
          "text": [
            "Accuracy 0.49\n",
            "Avg. KL-Divergence 0.49\n",
            "Epoch 51\n",
            "Average epoch loss: 16.155475018071193\n",
            "Evaluating ... \n"
          ]
        },
        {
          "output_type": "stream",
          "name": "stderr",
          "text": [
            "100%|██████████| 1075/1075 [00:08<00:00, 123.98it/s]\n"
          ]
        },
        {
          "output_type": "stream",
          "name": "stdout",
          "text": [
            "Accuracy 0.49\n",
            "Avg. KL-Divergence 0.48\n",
            "Epoch 61\n",
            "Average epoch loss: 16.06003097459382\n",
            "Evaluating ... \n"
          ]
        },
        {
          "output_type": "stream",
          "name": "stderr",
          "text": [
            "100%|██████████| 1075/1075 [00:08<00:00, 126.91it/s]\n"
          ]
        },
        {
          "output_type": "stream",
          "name": "stdout",
          "text": [
            "Accuracy 0.49\n",
            "Avg. KL-Divergence 0.48\n",
            "Epoch 71\n",
            "Average epoch loss: 16.04267187679515\n",
            "Evaluating ... \n"
          ]
        },
        {
          "output_type": "stream",
          "name": "stderr",
          "text": [
            "100%|██████████| 1075/1075 [00:08<00:00, 126.85it/s]\n"
          ]
        },
        {
          "output_type": "stream",
          "name": "stdout",
          "text": [
            "Accuracy 0.49\n",
            "Avg. KL-Divergence 0.48\n",
            "Epoch 81\n",
            "Average epoch loss: 16.032423206404143\n",
            "Evaluating ... \n"
          ]
        },
        {
          "output_type": "stream",
          "name": "stderr",
          "text": [
            "100%|██████████| 1075/1075 [00:07<00:00, 138.56it/s]\n"
          ]
        },
        {
          "output_type": "stream",
          "name": "stdout",
          "text": [
            "Accuracy 0.49\n",
            "Avg. KL-Divergence 0.48\n",
            "Epoch 91\n",
            "Average epoch loss: 16.029295341641294\n",
            "Evaluating ... \n"
          ]
        },
        {
          "output_type": "stream",
          "name": "stderr",
          "text": [
            "100%|██████████| 1075/1075 [00:07<00:00, 144.48it/s]\n"
          ]
        },
        {
          "output_type": "stream",
          "name": "stdout",
          "text": [
            "Accuracy 0.49\n",
            "Avg. KL-Divergence 0.48\n"
          ]
        }
      ]
    },
    {
      "cell_type": "code",
      "source": [
        "import json\n",
        "\n",
        "d = MusicDataset(df_merged, 'density_description', numerical_feature=False, soft_labels=True)\n",
        "metrics, model = train_on_subset(d, numerical=False, soft_labels=True)\n",
        "torch.save(model, \"density_lstm.pt\")\n",
        "\n",
        "with open(\"density_lstm.json\", mode=\"w\") as f:\n",
        "  json.dump(metrics, f)"
      ],
      "metadata": {
        "colab": {
          "base_uri": "https://localhost:8080/"
        },
        "id": "X-q-tiwXcWkA",
        "outputId": "2c7b3eab-a26f-4483-d111-4dbac56582f3"
      },
      "execution_count": 21,
      "outputs": [
        {
          "output_type": "stream",
          "name": "stdout",
          "text": [
            "Max length for density_description 12\n",
            "['Note Density_0', 'Note Density_1', 'Note Density_2', 'Note Density_3', 'Note Density_4', 'Note Density_5', 'Note Density_6', 'Note Density_7', 'Note Density_8', 'Note Density_9', 'Note Density_10', 'Note Density_11', 'Note Density_12', 'Note Density_13', 'Note Density_14', 'Note Density_15', 'Note Density_19']\n",
            "Vocab size for density_description 18\n",
            "Epoch 1\n",
            "Average epoch loss: 22.766582489013672\n",
            "Evaluating ... \n"
          ]
        },
        {
          "output_type": "stream",
          "name": "stderr",
          "text": [
            "100%|██████████| 1075/1075 [00:10<00:00, 104.00it/s]\n"
          ]
        },
        {
          "output_type": "stream",
          "name": "stdout",
          "text": [
            "Accuracy 0.24\n",
            "Avg. KL-Divergence 1.01\n",
            "Epoch 11\n",
            "Average epoch loss: 15.56044832865397\n",
            "Evaluating ... \n"
          ]
        },
        {
          "output_type": "stream",
          "name": "stderr",
          "text": [
            "100%|██████████| 1075/1075 [00:07<00:00, 138.41it/s]\n"
          ]
        },
        {
          "output_type": "stream",
          "name": "stdout",
          "text": [
            "Accuracy 0.53\n",
            "Avg. KL-Divergence 0.39\n",
            "Epoch 21\n",
            "Average epoch loss: 15.312290864832262\n",
            "Evaluating ... \n"
          ]
        },
        {
          "output_type": "stream",
          "name": "stderr",
          "text": [
            "100%|██████████| 1075/1075 [00:07<00:00, 142.32it/s]\n"
          ]
        },
        {
          "output_type": "stream",
          "name": "stdout",
          "text": [
            "Accuracy 0.52\n",
            "Avg. KL-Divergence 0.38\n",
            "Epoch 31\n",
            "Average epoch loss: 15.125462906033386\n",
            "Evaluating ... \n"
          ]
        },
        {
          "output_type": "stream",
          "name": "stderr",
          "text": [
            "100%|██████████| 1075/1075 [00:08<00:00, 127.84it/s]\n"
          ]
        },
        {
          "output_type": "stream",
          "name": "stdout",
          "text": [
            "Accuracy 0.54\n",
            "Avg. KL-Divergence 0.37\n",
            "Epoch 41\n",
            "Average epoch loss: 15.062295296612907\n",
            "Evaluating ... \n"
          ]
        },
        {
          "output_type": "stream",
          "name": "stderr",
          "text": [
            "100%|██████████| 1075/1075 [00:08<00:00, 126.60it/s]\n"
          ]
        },
        {
          "output_type": "stream",
          "name": "stdout",
          "text": [
            "Accuracy 0.54\n",
            "Avg. KL-Divergence 0.37\n",
            "Epoch 51\n",
            "Average epoch loss: 15.011359981462068\n",
            "Evaluating ... \n"
          ]
        },
        {
          "output_type": "stream",
          "name": "stderr",
          "text": [
            "100%|██████████| 1075/1075 [00:08<00:00, 133.99it/s]\n"
          ]
        },
        {
          "output_type": "stream",
          "name": "stdout",
          "text": [
            "Accuracy 0.54\n",
            "Avg. KL-Divergence 0.37\n",
            "Epoch 61\n",
            "Average epoch loss: 14.935757431329465\n",
            "Evaluating ... \n"
          ]
        },
        {
          "output_type": "stream",
          "name": "stderr",
          "text": [
            "100%|██████████| 1075/1075 [00:07<00:00, 143.19it/s]\n"
          ]
        },
        {
          "output_type": "stream",
          "name": "stdout",
          "text": [
            "Accuracy 0.54\n",
            "Avg. KL-Divergence 0.36\n",
            "Epoch 71\n",
            "Average epoch loss: 14.91604539459827\n",
            "Evaluating ... \n"
          ]
        },
        {
          "output_type": "stream",
          "name": "stderr",
          "text": [
            "100%|██████████| 1075/1075 [00:08<00:00, 134.24it/s]\n"
          ]
        },
        {
          "output_type": "stream",
          "name": "stdout",
          "text": [
            "Accuracy 0.54\n",
            "Avg. KL-Divergence 0.36\n",
            "Epoch 81\n",
            "Average epoch loss: 14.904791383182301\n",
            "Evaluating ... \n"
          ]
        },
        {
          "output_type": "stream",
          "name": "stderr",
          "text": [
            "100%|██████████| 1075/1075 [00:08<00:00, 127.21it/s]\n"
          ]
        },
        {
          "output_type": "stream",
          "name": "stdout",
          "text": [
            "Accuracy 0.54\n",
            "Avg. KL-Divergence 0.36\n",
            "Epoch 91\n",
            "Average epoch loss: 14.900836664087633\n",
            "Evaluating ... \n"
          ]
        },
        {
          "output_type": "stream",
          "name": "stderr",
          "text": [
            "100%|██████████| 1075/1075 [00:08<00:00, 125.04it/s]\n"
          ]
        },
        {
          "output_type": "stream",
          "name": "stdout",
          "text": [
            "Accuracy 0.54\n",
            "Avg. KL-Divergence 0.36\n"
          ]
        }
      ]
    },
    {
      "cell_type": "code",
      "source": [
        "import json\n",
        "\n",
        "d = MusicDataset(df_merged, 'duration_description', numerical_feature=False, soft_labels=True)\n",
        "metrics, model = train_on_subset(d, numerical=False, soft_labels=True)\n",
        "torch.save(model, \"duration_lstm.pt\")\n",
        "\n",
        "with open(\"duration_lstm.json\", mode=\"w\") as f:\n",
        "  json.dump(metrics, f)"
      ],
      "metadata": {
        "colab": {
          "base_uri": "https://localhost:8080/"
        },
        "id": "UUfCg3Receso",
        "outputId": "3de512b6-edd2-4b2b-8683-69f02ede723d"
      },
      "execution_count": 22,
      "outputs": [
        {
          "output_type": "stream",
          "name": "stdout",
          "text": [
            "Max length for duration_description 12\n",
            "['Mean Duration_0', 'Mean Duration_1', 'Mean Duration_4', 'Mean Duration_5', 'Mean Duration_6', 'Mean Duration_7', 'Mean Duration_9', 'Mean Duration_10', 'Mean Duration_11', 'Mean Duration_12', 'Mean Duration_13', 'Mean Duration_14', 'Mean Duration_15', 'Mean Duration_16', 'Mean Duration_17', 'Mean Duration_18', 'Mean Duration_19', 'Mean Duration_20', 'Mean Duration_21', 'Mean Duration_22', 'Mean Duration_23', 'Mean Duration_24', 'Mean Duration_25', 'Mean Duration_26', 'Mean Duration_27', 'Mean Duration_28', 'Mean Duration_29', 'Mean Duration_30', 'Mean Duration_31', 'Mean Duration_32']\n",
            "Vocab size for duration_description 31\n",
            "Epoch 1\n",
            "Average epoch loss: 22.400511311549767\n",
            "Evaluating ... \n"
          ]
        },
        {
          "output_type": "stream",
          "name": "stderr",
          "text": [
            "100%|██████████| 1075/1075 [00:10<00:00, 106.11it/s]\n"
          ]
        },
        {
          "output_type": "stream",
          "name": "stdout",
          "text": [
            "Accuracy 0.63\n",
            "Avg. KL-Divergence 1.19\n",
            "Epoch 11\n",
            "Average epoch loss: 15.136587404737286\n",
            "Evaluating ... \n"
          ]
        },
        {
          "output_type": "stream",
          "name": "stderr",
          "text": [
            "100%|██████████| 1075/1075 [00:07<00:00, 140.28it/s]\n"
          ]
        },
        {
          "output_type": "stream",
          "name": "stdout",
          "text": [
            "Accuracy 0.64\n",
            "Avg. KL-Divergence 0.59\n",
            "Epoch 21\n",
            "Average epoch loss: 14.33719326468075\n",
            "Evaluating ... \n"
          ]
        },
        {
          "output_type": "stream",
          "name": "stderr",
          "text": [
            "100%|██████████| 1075/1075 [00:07<00:00, 143.44it/s]\n"
          ]
        },
        {
          "output_type": "stream",
          "name": "stdout",
          "text": [
            "Accuracy 0.65\n",
            "Avg. KL-Divergence 0.53\n",
            "Epoch 31\n",
            "Average epoch loss: 14.020503118926404\n",
            "Evaluating ... \n"
          ]
        },
        {
          "output_type": "stream",
          "name": "stderr",
          "text": [
            "100%|██████████| 1075/1075 [00:08<00:00, 126.68it/s]\n"
          ]
        },
        {
          "output_type": "stream",
          "name": "stdout",
          "text": [
            "Accuracy 0.67\n",
            "Avg. KL-Divergence 0.51\n",
            "Epoch 41\n",
            "Average epoch loss: 13.93469524383545\n",
            "Evaluating ... \n"
          ]
        },
        {
          "output_type": "stream",
          "name": "stderr",
          "text": [
            "100%|██████████| 1075/1075 [00:08<00:00, 125.55it/s]\n"
          ]
        },
        {
          "output_type": "stream",
          "name": "stdout",
          "text": [
            "Accuracy 0.67\n",
            "Avg. KL-Divergence 0.51\n",
            "Epoch 51\n",
            "Average epoch loss: 13.892866564731971\n",
            "Evaluating ... \n"
          ]
        },
        {
          "output_type": "stream",
          "name": "stderr",
          "text": [
            "100%|██████████| 1075/1075 [00:08<00:00, 129.25it/s]\n"
          ]
        },
        {
          "output_type": "stream",
          "name": "stdout",
          "text": [
            "Accuracy 0.67\n",
            "Avg. KL-Divergence 0.51\n",
            "Epoch 61\n",
            "Average epoch loss: 13.806106099895402\n",
            "Evaluating ... \n"
          ]
        },
        {
          "output_type": "stream",
          "name": "stderr",
          "text": [
            "100%|██████████| 1075/1075 [00:07<00:00, 145.17it/s]\n"
          ]
        },
        {
          "output_type": "stream",
          "name": "stdout",
          "text": [
            "Accuracy 0.67\n",
            "Avg. KL-Divergence 0.51\n",
            "Epoch 71\n",
            "Average epoch loss: 13.79426211936801\n",
            "Evaluating ... \n"
          ]
        },
        {
          "output_type": "stream",
          "name": "stderr",
          "text": [
            "100%|██████████| 1075/1075 [00:07<00:00, 138.44it/s]\n"
          ]
        },
        {
          "output_type": "stream",
          "name": "stdout",
          "text": [
            "Accuracy 0.67\n",
            "Avg. KL-Divergence 0.51\n",
            "Epoch 81\n",
            "Average epoch loss: 13.770008087158203\n",
            "Evaluating ... \n"
          ]
        },
        {
          "output_type": "stream",
          "name": "stderr",
          "text": [
            "100%|██████████| 1075/1075 [00:08<00:00, 125.85it/s]\n"
          ]
        },
        {
          "output_type": "stream",
          "name": "stdout",
          "text": [
            "Accuracy 0.67\n",
            "Avg. KL-Divergence 0.50\n",
            "Epoch 91\n",
            "Average epoch loss: 13.772515166039561\n",
            "Evaluating ... \n"
          ]
        },
        {
          "output_type": "stream",
          "name": "stderr",
          "text": [
            "100%|██████████| 1075/1075 [00:08<00:00, 124.46it/s]\n"
          ]
        },
        {
          "output_type": "stream",
          "name": "stdout",
          "text": [
            "Accuracy 0.67\n",
            "Avg. KL-Divergence 0.50\n"
          ]
        }
      ]
    },
    {
      "cell_type": "code",
      "source": [
        "import json\n",
        "\n",
        "d = MusicDataset(df_merged, 'velocity_description', numerical_feature=False, soft_labels=True)\n",
        "metrics, model = train_on_subset(d, numerical=False, soft_labels=True)\n",
        "torch.save(model, \"velocity_lstm.pt\")\n",
        "\n",
        "with open(\"velocity_lstm.json\", mode=\"w\") as f:\n",
        "  json.dump(metrics, f)"
      ],
      "metadata": {
        "colab": {
          "base_uri": "https://localhost:8080/"
        },
        "id": "eFg8gUCBch7r",
        "outputId": "bb21d082-c694-43ae-c125-eef9f8215716"
      },
      "execution_count": 23,
      "outputs": [
        {
          "output_type": "stream",
          "name": "stdout",
          "text": [
            "Max length for velocity_description 12\n",
            "['Mean Velocity_0', 'Mean Velocity_1', 'Mean Velocity_2', 'Mean Velocity_3', 'Mean Velocity_4', 'Mean Velocity_5', 'Mean Velocity_6', 'Mean Velocity_7', 'Mean Velocity_8', 'Mean Velocity_9', 'Mean Velocity_10', 'Mean Velocity_11', 'Mean Velocity_12', 'Mean Velocity_13', 'Mean Velocity_14', 'Mean Velocity_15', 'Mean Velocity_16', 'Mean Velocity_17', 'Mean Velocity_18', 'Mean Velocity_19', 'Mean Velocity_20', 'Mean Velocity_21', 'Mean Velocity_22', 'Mean Velocity_23', 'Mean Velocity_24', 'Mean Velocity_25', 'Mean Velocity_26', 'Mean Velocity_27', 'Mean Velocity_28', 'Mean Velocity_29', 'Mean Velocity_30', 'Mean Velocity_31', 'Mean Velocity_32']\n",
            "Vocab size for velocity_description 34\n",
            "Epoch 1\n",
            "Average epoch loss: 32.347408032884786\n",
            "Evaluating ... \n"
          ]
        },
        {
          "output_type": "stream",
          "name": "stderr",
          "text": [
            "100%|██████████| 1075/1075 [00:10<00:00, 105.59it/s]\n"
          ]
        },
        {
          "output_type": "stream",
          "name": "stdout",
          "text": [
            "Accuracy 0.11\n",
            "Avg. KL-Divergence 1.92\n",
            "Epoch 11\n",
            "Average epoch loss: 19.335346745509728\n",
            "Evaluating ... \n"
          ]
        },
        {
          "output_type": "stream",
          "name": "stderr",
          "text": [
            "100%|██████████| 1075/1075 [00:07<00:00, 143.82it/s]\n"
          ]
        },
        {
          "output_type": "stream",
          "name": "stdout",
          "text": [
            "Accuracy 0.41\n",
            "Avg. KL-Divergence 0.77\n",
            "Epoch 21\n",
            "Average epoch loss: 18.030885771209118\n",
            "Evaluating ... \n"
          ]
        },
        {
          "output_type": "stream",
          "name": "stderr",
          "text": [
            "100%|██████████| 1075/1075 [00:07<00:00, 135.47it/s]\n"
          ]
        },
        {
          "output_type": "stream",
          "name": "stdout",
          "text": [
            "Accuracy 0.46\n",
            "Avg. KL-Divergence 0.65\n",
            "Epoch 31\n",
            "Average epoch loss: 17.55324561923158\n",
            "Evaluating ... \n"
          ]
        },
        {
          "output_type": "stream",
          "name": "stderr",
          "text": [
            "100%|██████████| 1075/1075 [00:08<00:00, 127.26it/s]\n"
          ]
        },
        {
          "output_type": "stream",
          "name": "stdout",
          "text": [
            "Accuracy 0.47\n",
            "Avg. KL-Divergence 0.62\n",
            "Epoch 41\n",
            "Average epoch loss: 17.400004667394303\n",
            "Evaluating ... \n"
          ]
        },
        {
          "output_type": "stream",
          "name": "stderr",
          "text": [
            "100%|██████████| 1075/1075 [00:08<00:00, 130.22it/s]\n"
          ]
        },
        {
          "output_type": "stream",
          "name": "stdout",
          "text": [
            "Accuracy 0.46\n",
            "Avg. KL-Divergence 0.61\n",
            "Epoch 51\n",
            "Average epoch loss: 17.342450871187097\n",
            "Evaluating ... \n"
          ]
        },
        {
          "output_type": "stream",
          "name": "stderr",
          "text": [
            "100%|██████████| 1075/1075 [00:07<00:00, 142.95it/s]\n"
          ]
        },
        {
          "output_type": "stream",
          "name": "stdout",
          "text": [
            "Accuracy 0.46\n",
            "Avg. KL-Divergence 0.61\n",
            "Epoch 61\n",
            "Average epoch loss: 17.25129321977204\n",
            "Evaluating ... \n"
          ]
        },
        {
          "output_type": "stream",
          "name": "stderr",
          "text": [
            "100%|██████████| 1075/1075 [00:07<00:00, 141.87it/s]\n"
          ]
        },
        {
          "output_type": "stream",
          "name": "stdout",
          "text": [
            "Accuracy 0.46\n",
            "Avg. KL-Divergence 0.60\n",
            "Epoch 71\n",
            "Average epoch loss: 17.234586753097236\n",
            "Evaluating ... \n"
          ]
        },
        {
          "output_type": "stream",
          "name": "stderr",
          "text": [
            "100%|██████████| 1075/1075 [00:08<00:00, 128.79it/s]\n"
          ]
        },
        {
          "output_type": "stream",
          "name": "stdout",
          "text": [
            "Accuracy 0.46\n",
            "Avg. KL-Divergence 0.60\n",
            "Epoch 81\n",
            "Average epoch loss: 17.218748317045325\n",
            "Evaluating ... \n"
          ]
        },
        {
          "output_type": "stream",
          "name": "stderr",
          "text": [
            "100%|██████████| 1075/1075 [00:08<00:00, 125.72it/s]\n"
          ]
        },
        {
          "output_type": "stream",
          "name": "stdout",
          "text": [
            "Accuracy 0.46\n",
            "Avg. KL-Divergence 0.60\n",
            "Epoch 91\n",
            "Average epoch loss: 17.21988371306775\n",
            "Evaluating ... \n"
          ]
        },
        {
          "output_type": "stream",
          "name": "stderr",
          "text": [
            "100%|██████████| 1075/1075 [00:07<00:00, 140.53it/s]\n"
          ]
        },
        {
          "output_type": "stream",
          "name": "stdout",
          "text": [
            "Accuracy 0.46\n",
            "Avg. KL-Divergence 0.60\n"
          ]
        }
      ]
    },
    {
      "cell_type": "code",
      "source": [
        "import json\n",
        "\n",
        "d = MusicDataset(df_merged, 'categorical_description', numerical_feature=False)\n",
        "metrics, model = train_on_subset(d, numerical=False)\n",
        "torch.save(model, \"categorical_lstm.pt\")\n",
        "\n",
        "with open(\"categorical_lstm.json\", mode=\"w\") as f:\n",
        "  json.dump(metrics, f)"
      ],
      "metadata": {
        "colab": {
          "base_uri": "https://localhost:8080/"
        },
        "id": "S8Y9383YcpGd",
        "outputId": "75616c0f-59f7-40b2-ad9e-2be46ce804bb"
      },
      "execution_count": null,
      "outputs": [
        {
          "output_type": "stream",
          "name": "stdout",
          "text": [
            "Max length for categorical_description 306\n",
            "{'Instrument_Slap Bass 1', 'Chord_A:aug', 'Instrument_Reed Organ', 'Instrument_Glockenspiel', 'Chord_A:min', 'Instrument_Lead 1 (square)', 'Instrument_Violin', 'Time Signature_12/8', 'Chord_F:min', 'Chord_D:dim', 'Chord_F:None', 'Chord_G:min', 'Instrument_Electric Piano 1', 'Chord_C#:min7', 'Chord_F#:None', 'Chord_B:dim', 'Bar_17', 'Instrument_Electric Piano 2', 'Chord_D#:None', 'Instrument_Electric Guitar (clean)', 'Chord_F:maj', 'Chord_C:min', 'Instrument_Pad 7 (halo)', 'Instrument_Lead 4 chiff', 'Chord_C#:min', 'Bar_6', 'Bar_10', 'Instrument_Piccolo', 'Bar_22', 'Chord_F:aug', 'Chord_A:maj', 'Instrument_Synth Bass 2', 'Chord_D:dom7', 'Instrument_Synth Strings 1', 'Chord_D#:dom7', 'Bar_13', 'Instrument_Shamisen', 'Instrument_Alto Sax', 'Instrument_Guitar Harmonics', 'Instrument_Oboe', 'Time Signature_6/8', 'Time Signature_8/4', 'Chord_F#:maj', 'Instrument_String Ensemble 2', 'Instrument_Bassoon', 'Instrument_Synth Drum', 'Instrument_Orchestra Hit', 'Chord_F#:dom7', 'Instrument_Bright Acoustic Piano', 'Instrument_FX 6 (goblins)', 'Bar_14', 'Instrument_Electric Grand Piano', 'Instrument_Lead 6 (voice)', 'Instrument_Synth Strings 2', 'Chord_C:maj', 'Chord_B:min7', 'Chord_N:N', 'Time Signature_6/4', 'Chord_D#:min7', 'Instrument_Pan Flute', 'Chord_D#:maj', 'Bar_24', 'Chord_A#:dom7', 'Chord_C:aug', 'Chord_G#:None', 'Chord_A:dom7', 'Chord_B:aug', 'Chord_E:min', 'Instrument_Lead 2 (sawtooth)', 'Instrument_Pad 4 (choir)', 'Instrument_French Horn', 'Chord_C:dim', 'Instrument_Gunshot', 'Time Signature_1/32', 'Instrument_Lead 8 (bass + lead)', 'Chord_G:min7', 'Chord_G#:dim', 'Chord_G#:aug', 'Chord_A#:maj', 'Instrument_FX 5 (brightness)', 'Instrument_Tinkle Bell', 'Instrument_Pad 1 (new age)', 'Instrument_Contrabass', 'Bar_21', 'Instrument_Pad 3 (polysynth)', 'Instrument_Steel Drums', 'Instrument_FX 4 (atmosphere)', 'Instrument_Slap Bass 2', 'Instrument_Electric Bass (pick)', 'Chord_C#:None', 'Chord_D:min7', 'Instrument_Tango Accordion', 'Instrument_Brass Section', 'Chord_A#:maj7', 'Chord_G:dim', 'Instrument_Electric Bass (finger)', 'Instrument_Shanai', 'Instrument_Acoustic Guitar (steel)', 'Chord_G:dom7', 'Instrument_Applause', 'Time Signature_7/8', 'Chord_C:maj7', 'Instrument_Church Organ', 'Chord_G#:maj7', 'Chord_C#:maj', 'Instrument_Synth Brass 1', 'Bar_15', 'Chord_D:aug', 'Bar_8', 'Chord_E:min7', 'Instrument_Honky-tonk Piano', 'Instrument_Tenor Sax', 'Chord_F:dom7', 'Chord_C#:dom7', 'Chord_D:maj', 'Chord_C#:dim', 'Instrument_Ocarina', 'Time Signature_5/4', 'Chord_G#:min7', 'Chord_G:None', 'Instrument_Lead 5 (charang)', 'Instrument_Acoustic Guitar (nylon)', 'Time Signature_9/16', 'Chord_C:None', 'Instrument_Marimba', 'Chord_B:maj', 'Chord_G:aug', 'Instrument_Vibraphone', 'Bar_11', 'Instrument_Banjo', 'Instrument_Clavinet', 'Time Signature_2/4', 'Instrument_Seashore', 'Instrument_Pad 8 (sweep)', 'Instrument_Agogo', 'Chord_G:maj7', 'Bar_5', 'Instrument_Muted Trumpet', 'Instrument_Kalimba', 'Chord_C#:maj7', 'Instrument_FX 3 (crystal)', 'Instrument_Electric Guitar (jazz)', 'Instrument_Helicopter', 'Instrument_Acoustic Bass', 'Instrument_Timpani', 'Instrument_Fretless Bass', 'Time Signature_4/8', 'Instrument_Soprano Sax', 'Instrument_Choir Aahs', 'Instrument_Xylophone', 'Instrument_FX 2 (soundtrack)', 'Bar_9', 'Bar_4', 'Chord_D:maj7', 'Chord_C:min7', 'Instrument_Melodic Tom', 'Chord_F:dim', 'Chord_F#:dim', 'Instrument_Harpsichord', 'Instrument_Clarinet', 'Instrument_FX 7 (echoes)', 'Chord_A:dim', 'Instrument_Celesta', 'Bar_7', 'Instrument_Reverse Cymbal', 'Instrument_Guitar Fret Noise', 'Chord_D#:maj7', 'Instrument_Orchestral Harp', 'Instrument_Dulcimer', 'Time Signature_16/16', 'Bar_20', 'Chord_C:dom7', 'Instrument_Pizzicato Strings', 'Instrument_Tubular Bells', 'Chord_E:maj7', 'Instrument_Music Box', 'Instrument_Cello', 'Time Signature_149/4', 'Chord_A:None', 'Instrument_Lead 7 (fifths)', 'Instrument_Overdriven Guitar', 'Chord_D#:aug', 'Chord_C#:aug', 'Instrument_Viola', 'Bar_18', 'Instrument_Recorder', 'Chord_F#:min7', 'Instrument_Trombone', 'Chord_B:maj7', 'Time Signature_1/4', 'Chord_A:min7', 'Instrument_Trumpet', 'Bar_2', 'Instrument_Accordion', 'Bar_3', 'Time Signature_3/4', 'Time Signature_10/8', 'Chord_A#:aug', 'Instrument_Bagpipe', 'Instrument_String Ensemble 1', 'Instrument_Percussive Organ', 'Chord_E:dim', 'Instrument_Shakuhachi', 'Chord_D#:dim', 'Instrument_Voice Oohs', 'Chord_A#:min', 'Instrument_FX 8 (sci-fi)', 'Instrument_Electric Guitar (muted)', 'Instrument_Fiddle', 'Chord_A#:None', 'Instrument_Harmonica', 'Chord_G:maj', 'Time Signature_5/8', 'Chord_D:min', 'Instrument_Telephone Ring', 'Chord_E:None', 'Chord_B:dom7', 'Instrument_Synth Brass 2', 'Chord_F:maj7', 'Instrument_Acoustic Grand Piano', 'Instrument_Sitar', 'Chord_G#:dom7', 'Instrument_English Horn', 'Instrument_Pad 2 (warm)', 'Instrument_Taiko Drum', 'Chord_G#:maj', 'Instrument_Flute', 'Chord_B:None', 'Chord_F#:maj7', 'Instrument_drum', 'Time Signature_4/4', 'Chord_B:min', 'Instrument_Drawbar Organ', 'Instrument_Rock Organ', 'Bar_12', 'Instrument_Breath Noise', 'Instrument_Synth Choir', 'Chord_A#:dim', 'Bar_19', 'Chord_D:None', 'Bar_16', 'Instrument_Woodblock', 'Time Signature_9/8', 'Bar_1', 'Chord_E:dom7', 'Instrument_Tremolo Strings', 'Chord_E:aug', 'Instrument_Lead 3 (calliope)', 'Time Signature_8/8', 'Chord_D#:min', 'Instrument_Distortion Guitar', 'Chord_A#:min7', 'Chord_A:maj7', 'Chord_G#:min', 'Instrument_Pad 6 (metallic)', 'Instrument_Tuba', 'Instrument_Bird Tweet', 'Instrument_Whistle', 'Instrument_FX 1 (rain)', 'Instrument_Pad 5 (bowed)', 'Chord_E:maj', 'Chord_F:min7', 'Instrument_Koto', 'Instrument_Synth Bass 1', 'Instrument_Blown bottle', 'Chord_F#:min', 'Bar_23', 'Chord_F#:aug'}\n",
            "Vocab size for categorical_description 269\n",
            "Epoch 1\n",
            "Average epoch loss: 2.2493900972254135\n",
            "Evaluating ... \n"
          ]
        },
        {
          "output_type": "stream",
          "name": "stderr",
          "text": [
            "100%|██████████| 1075/1075 [03:07<00:00,  5.72it/s]\n"
          ]
        },
        {
          "output_type": "stream",
          "name": "stdout",
          "text": [
            "Accuracy 0.00\n",
            "Epoch 11\n",
            "Average epoch loss: 1.6011435307708441\n",
            "Evaluating ... \n"
          ]
        },
        {
          "output_type": "stream",
          "name": "stderr",
          "text": [
            "100%|██████████| 1075/1075 [03:08<00:00,  5.69it/s]\n"
          ]
        },
        {
          "output_type": "stream",
          "name": "stdout",
          "text": [
            "Accuracy 0.07\n",
            "Epoch 21\n",
            "Average epoch loss: 1.5955239884993608\n",
            "Evaluating ... \n"
          ]
        },
        {
          "output_type": "stream",
          "name": "stderr",
          "text": [
            "100%|██████████| 1075/1075 [03:10<00:00,  5.64it/s]\n"
          ]
        },
        {
          "output_type": "stream",
          "name": "stdout",
          "text": [
            "Accuracy 0.06\n",
            "Epoch 31\n",
            "Average epoch loss: 1.5864976060156728\n",
            "Evaluating ... \n"
          ]
        },
        {
          "output_type": "stream",
          "name": "stderr",
          "text": [
            "100%|██████████| 1075/1075 [03:08<00:00,  5.69it/s]\n"
          ]
        },
        {
          "output_type": "stream",
          "name": "stdout",
          "text": [
            "Accuracy 0.07\n",
            "Epoch 41\n",
            "Average epoch loss: 1.5835504321491016\n",
            "Evaluating ... \n"
          ]
        },
        {
          "output_type": "stream",
          "name": "stderr",
          "text": [
            "100%|██████████| 1075/1075 [03:09<00:00,  5.68it/s]\n"
          ]
        },
        {
          "output_type": "stream",
          "name": "stdout",
          "text": [
            "Accuracy 0.07\n",
            "Epoch 51\n",
            "Average epoch loss: 1.5841842375549615\n",
            "Evaluating ... \n"
          ]
        },
        {
          "output_type": "stream",
          "name": "stderr",
          "text": [
            "100%|██████████| 1075/1075 [03:11<00:00,  5.61it/s]\n"
          ]
        },
        {
          "output_type": "stream",
          "name": "stdout",
          "text": [
            "Accuracy 0.07\n",
            "Epoch 61\n",
            "Average epoch loss: 1.5835611376107908\n",
            "Evaluating ... \n"
          ]
        },
        {
          "output_type": "stream",
          "name": "stderr",
          "text": [
            "100%|██████████| 1075/1075 [03:09<00:00,  5.66it/s]\n"
          ]
        },
        {
          "output_type": "stream",
          "name": "stdout",
          "text": [
            "Accuracy 0.07\n",
            "Epoch 71\n",
            "Average epoch loss: 1.5840136537364884\n",
            "Evaluating ... \n"
          ]
        },
        {
          "output_type": "stream",
          "name": "stderr",
          "text": [
            "100%|██████████| 1075/1075 [03:09<00:00,  5.68it/s]\n"
          ]
        },
        {
          "output_type": "stream",
          "name": "stdout",
          "text": [
            "Accuracy 0.07\n",
            "Epoch 81\n",
            "Average epoch loss: 1.5831620599709304\n",
            "Evaluating ... \n"
          ]
        },
        {
          "output_type": "stream",
          "name": "stderr",
          "text": [
            "100%|██████████| 1075/1075 [03:09<00:00,  5.66it/s]\n"
          ]
        },
        {
          "output_type": "stream",
          "name": "stdout",
          "text": [
            "Accuracy 0.07\n",
            "Epoch 91\n",
            "Average epoch loss: 1.5839662505131142\n",
            "Evaluating ... \n"
          ]
        },
        {
          "output_type": "stream",
          "name": "stderr",
          "text": [
            " 47%|████▋     | 504/1075 [01:28<01:31,  6.21it/s]"
          ]
        }
      ]
    },
    {
      "cell_type": "markdown",
      "source": [
        "# Result visualization"
      ],
      "metadata": {
        "id": "cGFnLX8Gc0aI"
      }
    },
    {
      "cell_type": "code",
      "source": [
        "import matplotlib.pyplot as plt\n",
        "\n",
        "def plot_metric(model_name, metric_dict):\n",
        "  plt.figure(figsize=(12, 5))\n",
        "  epochs = list(range(len(metric_dict['loss'])))\n",
        "  plt.plot(epochs, metric_dict['loss'], label='Training Loss')\n",
        "  plt.title(f\"{model_name}: Training Loss\")\n",
        "  plt.grid()\n",
        "  plt.xlabel(\"Epoch\")\n",
        "  plt.legend()\n",
        "  # plt.yscale('log')\n",
        "  plt.savefig(f\"{model_name} loss.png\")\n",
        "\n",
        "\n",
        "  plt.figure(figsize=(12, 5))\n",
        "  plt.plot(list(map(lambda x: 10*x, range(len(metric_dict['acc'])))), metric_dict['acc'], label=\"Accuracy\")\n",
        "  if 'kld' in metric_dict:\n",
        "    plt.plot(list(map(lambda x: 10*x, range(len(metric_dict['acc'])))), metric_dict['kld'], label=\"KL-Divergence\")\n",
        "  plt.grid()\n",
        "  plt.xlabel(\"Epoch\")\n",
        "  plt.title(f\"{model_name}: Evaluation metrics\")\n",
        "  plt.legend()\n",
        "  # plt.yscale('log')\n",
        "  plt.savefig(f\"{model_name} eval.png\")\n",
        "\n",
        "\n",
        "def get_json(path):\n",
        "  with open(path) as f:\n",
        "    return json.loads(f.read())"
      ],
      "metadata": {
        "id": "naXEDL63eNQb"
      },
      "execution_count": 32,
      "outputs": []
    },
    {
      "cell_type": "code",
      "source": [
        "plot_metric(\"Pitch LSTM\", get_json(\"pitch_lstm.json\"))\n",
        "plot_metric(\"Duration LSTM\", get_json(\"duration_lstm.json\"))\n",
        "plot_metric(\"Density LSTM\", get_json(\"density_lstm.json\"))\n",
        "plot_metric(\"Velocity LSTM\", get_json(\"velocity_lstm.json\"))\n",
        "plot_metric(\"Instr and Chords LSTM\", get_json(\"categorical_lstm.json\"))\n",
        "plot_metric(\"Transformer\", get_json(\"transformer.json\"))"
      ],
      "metadata": {
        "colab": {
          "base_uri": "https://localhost:8080/",
          "height": 1000
        },
        "id": "D59wKxK2gI-J",
        "outputId": "dc43baa5-bf07-4f9a-bbdf-ae473708a27c"
      },
      "execution_count": 33,
      "outputs": [
        {
          "output_type": "display_data",
          "data": {
            "text/plain": [
              "<Figure size 1200x500 with 1 Axes>"
            ],
            "image/png": "[encoded data removed]"
          },
          "metadata": {}
        },
        {
          "output_type": "display_data",
          "data": {
            "text/plain": [
              "<Figure size 1200x500 with 1 Axes>"
            ],
            "image/png": "[encoded data removed]"
          },
          "metadata": {}
        },
        {
          "output_type": "display_data",
          "data": {
            "text/plain": [
              "<Figure size 1200x500 with 1 Axes>"
            ],
            "image/png": "[encoded data removed]"
          },
          "metadata": {}
        },
        {
          "output_type": "display_data",
          "data": {
            "text/plain": [
              "<Figure size 1200x500 with 1 Axes>"
            ],
            "image/png": "[encoded data removed]"
          },
          "metadata": {}
        },
        {
          "output_type": "display_data",
          "data": {
            "text/plain": [
              "<Figure size 1200x500 with 1 Axes>"
            ],
            "image/png": "[encoded data removed]"
          },
          "metadata": {}
        },
        {
          "output_type": "display_data",
          "data": {
            "text/plain": [
              "<Figure size 1200x500 with 1 Axes>"
            ],
            "image/png": "[encoded data removed]"
          },
          "metadata": {}
        },
        {
          "output_type": "display_data",
          "data": {
            "text/plain": [
              "<Figure size 1200x500 with 1 Axes>"
            ],
            "image/png": "[encoded data removed]"
          },
          "metadata": {}
        },
        {
          "output_type": "display_data",
          "data": {
            "text/plain": [
              "<Figure size 1200x500 with 1 Axes>"
            ],
            "image/png": "[encoded data removed]"
          },
          "metadata": {}
        },
        {
          "output_type": "display_data",
          "data": {
            "text/plain": [
              "<Figure size 1200x500 with 1 Axes>"
            ],
            "image/png": "[encoded data removed]"
          },
          "metadata": {}
        },
        {
          "output_type": "display_data",
          "data": {
            "text/plain": [
              "<Figure size 1200x500 with 1 Axes>"
            ],
            "image/png": "[encoded data removed]"
          },
          "metadata": {}
        },
        {
          "output_type": "display_data",
          "data": {
            "text/plain": [
              "<Figure size 1200x500 with 1 Axes>"
            ],
            "image/png": "[encoded data removed]"
          },
          "metadata": {}
        },
        {
          "output_type": "display_data",
          "data": {
            "text/plain": [
              "<Figure size 1200x500 with 1 Axes>"
            ],
            "image/png": "[encoded data removed]"
          },
          "metadata": {}
        }
      ]
    }
  ],
  "metadata": {
    "accelerator": "GPU",
    "colab": {
      "gpuType": "T4",
      "provenance": [],
      "collapsed_sections": [
        "83shfO7oOxwI"
      ]
    },
    "kernelspec": {
      "display_name": "Python 3",
      "name": "python3"
    },
    "language_info": {
      "codemirror_mode": {
        "name": "ipython",
        "version": 3
      },
      "file_extension": ".py",
      "mimetype": "text/x-python",
      "name": "python",
      "nbconvert_exporter": "python",
      "pygments_lexer": "ipython3",
      "version": "3.8.10"
    }
  },
  "nbformat": 4,
  "nbformat_minor": 0
}